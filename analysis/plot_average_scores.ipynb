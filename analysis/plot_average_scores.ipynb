{
 "cells": [
  {
   "cell_type": "markdown",
   "metadata": {},
   "source": [
    "Do not need to continue with all samples. Clearly its not getting any better. Real data is on average better than shuffled data, but shuffled data has large deviation which results in some of the highest scores, hence high p-values and increasing the fdrs on higher p-values"
   ]
  },
  {
   "cell_type": "code",
   "execution_count": 2,
   "metadata": {},
   "outputs": [],
   "source": [
    "import pandas\n",
    "import pickle\n",
    "import itertools\n",
    "import re\n",
    "from pg import DB\n",
    "db = DB()"
   ]
  },
  {
   "cell_type": "code",
   "execution_count": 8,
   "metadata": {},
   "outputs": [],
   "source": [
    "motifNames_avg_scores = db.query(\"SELECT average_score FROM motifss where  average_score NOTNULL \").getresult()\n",
    "motifNames_avg_scores_shuff = db.query(\"SELECT shuffled_average_score FROM motifss where  shuffled_average_score NOTNULL\").getresult()\n",
    "\n"
   ]
  },
  {
   "cell_type": "code",
   "execution_count": 9,
   "metadata": {},
   "outputs": [],
   "source": [
    "df = pandas.DataFrame(motifNames_avg_scores)\n",
    "df.columns = ['real']\n",
    "df_shuffled = pandas.DataFrame(motifNames_avg_scores_shuff )\n",
    "df_shuffled.columns = ['shuffled']\n",
    "# df[\"shuff\"] = df_shuffled\n",
    "\n",
    "# dfj = df.join(df_shuffled.set_index(\"motif\"), on=\"motif\")"
   ]
  },
  {
   "cell_type": "code",
   "execution_count": 10,
   "metadata": {},
   "outputs": [
    {
     "data": {
      "text/html": [
       "<div>\n",
       "<style scoped>\n",
       "    .dataframe tbody tr th:only-of-type {\n",
       "        vertical-align: middle;\n",
       "    }\n",
       "\n",
       "    .dataframe tbody tr th {\n",
       "        vertical-align: top;\n",
       "    }\n",
       "\n",
       "    .dataframe thead th {\n",
       "        text-align: right;\n",
       "    }\n",
       "</style>\n",
       "<table border=\"1\" class=\"dataframe\">\n",
       "  <thead>\n",
       "    <tr style=\"text-align: right;\">\n",
       "      <th></th>\n",
       "      <th>real</th>\n",
       "    </tr>\n",
       "  </thead>\n",
       "  <tbody>\n",
       "    <tr>\n",
       "      <th>count</th>\n",
       "      <td>52656.000000</td>\n",
       "    </tr>\n",
       "    <tr>\n",
       "      <th>mean</th>\n",
       "      <td>0.073651</td>\n",
       "    </tr>\n",
       "    <tr>\n",
       "      <th>std</th>\n",
       "      <td>0.074417</td>\n",
       "    </tr>\n",
       "    <tr>\n",
       "      <th>min</th>\n",
       "      <td>0.020916</td>\n",
       "    </tr>\n",
       "    <tr>\n",
       "      <th>25%</th>\n",
       "      <td>0.035684</td>\n",
       "    </tr>\n",
       "    <tr>\n",
       "      <th>50%</th>\n",
       "      <td>0.044646</td>\n",
       "    </tr>\n",
       "    <tr>\n",
       "      <th>75%</th>\n",
       "      <td>0.081387</td>\n",
       "    </tr>\n",
       "    <tr>\n",
       "      <th>max</th>\n",
       "      <td>0.978573</td>\n",
       "    </tr>\n",
       "  </tbody>\n",
       "</table>\n",
       "</div>"
      ],
      "text/plain": [
       "               real\n",
       "count  52656.000000\n",
       "mean       0.073651\n",
       "std        0.074417\n",
       "min        0.020916\n",
       "25%        0.035684\n",
       "50%        0.044646\n",
       "75%        0.081387\n",
       "max        0.978573"
      ]
     },
     "execution_count": 10,
     "metadata": {},
     "output_type": "execute_result"
    }
   ],
   "source": [
    "df.describe()"
   ]
  },
  {
   "cell_type": "code",
   "execution_count": 11,
   "metadata": {},
   "outputs": [
    {
     "data": {
      "text/html": [
       "<div>\n",
       "<style scoped>\n",
       "    .dataframe tbody tr th:only-of-type {\n",
       "        vertical-align: middle;\n",
       "    }\n",
       "\n",
       "    .dataframe tbody tr th {\n",
       "        vertical-align: top;\n",
       "    }\n",
       "\n",
       "    .dataframe thead th {\n",
       "        text-align: right;\n",
       "    }\n",
       "</style>\n",
       "<table border=\"1\" class=\"dataframe\">\n",
       "  <thead>\n",
       "    <tr style=\"text-align: right;\">\n",
       "      <th></th>\n",
       "      <th>shuffled</th>\n",
       "    </tr>\n",
       "  </thead>\n",
       "  <tbody>\n",
       "    <tr>\n",
       "      <th>count</th>\n",
       "      <td>52656.000000</td>\n",
       "    </tr>\n",
       "    <tr>\n",
       "      <th>mean</th>\n",
       "      <td>0.043063</td>\n",
       "    </tr>\n",
       "    <tr>\n",
       "      <th>std</th>\n",
       "      <td>0.009837</td>\n",
       "    </tr>\n",
       "    <tr>\n",
       "      <th>min</th>\n",
       "      <td>0.021114</td>\n",
       "    </tr>\n",
       "    <tr>\n",
       "      <th>25%</th>\n",
       "      <td>0.035975</td>\n",
       "    </tr>\n",
       "    <tr>\n",
       "      <th>50%</th>\n",
       "      <td>0.041563</td>\n",
       "    </tr>\n",
       "    <tr>\n",
       "      <th>75%</th>\n",
       "      <td>0.048454</td>\n",
       "    </tr>\n",
       "    <tr>\n",
       "      <th>max</th>\n",
       "      <td>0.130866</td>\n",
       "    </tr>\n",
       "  </tbody>\n",
       "</table>\n",
       "</div>"
      ],
      "text/plain": [
       "           shuffled\n",
       "count  52656.000000\n",
       "mean       0.043063\n",
       "std        0.009837\n",
       "min        0.021114\n",
       "25%        0.035975\n",
       "50%        0.041563\n",
       "75%        0.048454\n",
       "max        0.130866"
      ]
     },
     "execution_count": 11,
     "metadata": {},
     "output_type": "execute_result"
    }
   ],
   "source": [
    "df_shuffled.describe()"
   ]
  },
  {
   "cell_type": "code",
   "execution_count": 12,
   "metadata": {},
   "outputs": [
    {
     "data": {
      "text/plain": [
       "<matplotlib.axes._subplots.AxesSubplot at 0x111decb70>"
      ]
     },
     "execution_count": 12,
     "metadata": {},
     "output_type": "execute_result"
    },
    {
     "data": {
      "image/png": "[encoded data removed]",
      "text/plain": [
       "<matplotlib.figure.Figure at 0x10cf4a710>"
      ]
     },
     "metadata": {},
     "output_type": "display_data"
    }
   ],
   "source": [
    "%matplotlib inline\n",
    "\n",
    "import matplotlib\n",
    "df.plot(kind='hist',bins=100)"
   ]
  },
  {
   "cell_type": "code",
   "execution_count": 13,
   "metadata": {},
   "outputs": [
    {
     "data": {
      "text/plain": [
       "<matplotlib.axes._subplots.AxesSubplot at 0x11200c9e8>"
      ]
     },
     "execution_count": 13,
     "metadata": {},
     "output_type": "execute_result"
    },
    {
     "data": {
      "image/png": "[encoded data removed]",
      "text/plain": [
       "<matplotlib.figure.Figure at 0x1121d8438>"
      ]
     },
     "metadata": {},
     "output_type": "display_data"
    }
   ],
   "source": [
    "%matplotlib inline\n",
    "\n",
    "import matplotlib\n",
    "df_shuffled.plot(kind='hist',bins=100)"
   ]
  },
  {
   "cell_type": "code",
   "execution_count": 14,
   "metadata": {},
   "outputs": [
    {
     "data": {
      "text/plain": [
       "<matplotlib.axes._subplots.AxesSubplot at 0x11213cf28>"
      ]
     },
     "execution_count": 14,
     "metadata": {},
     "output_type": "execute_result"
    },
    {
     "data": {
      "image/png": "[encoded data removed]",
      "text/plain": [
       "<matplotlib.figure.Figure at 0x1120f52e8>"
      ]
     },
     "metadata": {},
     "output_type": "display_data"
    }
   ],
   "source": [
    "%matplotlib inline\n",
    "\n",
    "import matplotlib\n",
    "df['shuffled'] = df_shuffled\n",
    "df.plot(kind='hist',bins=100)"
   ]
  },
  {
   "cell_type": "code",
   "execution_count": 602,
   "metadata": {},
   "outputs": [
    {
     "data": {
      "text/html": [
       "<div>\n",
       "<style scoped>\n",
       "    .dataframe tbody tr th:only-of-type {\n",
       "        vertical-align: middle;\n",
       "    }\n",
       "\n",
       "    .dataframe tbody tr th {\n",
       "        vertical-align: top;\n",
       "    }\n",
       "\n",
       "    .dataframe thead th {\n",
       "        text-align: right;\n",
       "    }\n",
       "</style>\n",
       "<table border=\"1\" class=\"dataframe\">\n",
       "  <thead>\n",
       "    <tr style=\"text-align: right;\">\n",
       "      <th></th>\n",
       "      <th>real</th>\n",
       "      <th>shuffled</th>\n",
       "    </tr>\n",
       "  </thead>\n",
       "  <tbody>\n",
       "    <tr>\n",
       "      <th>0</th>\n",
       "      <td>0.044483</td>\n",
       "      <td>0.035080</td>\n",
       "    </tr>\n",
       "    <tr>\n",
       "      <th>1</th>\n",
       "      <td>0.030838</td>\n",
       "      <td>0.029109</td>\n",
       "    </tr>\n",
       "    <tr>\n",
       "      <th>2</th>\n",
       "      <td>0.040065</td>\n",
       "      <td>0.042383</td>\n",
       "    </tr>\n",
       "    <tr>\n",
       "      <th>3</th>\n",
       "      <td>0.031145</td>\n",
       "      <td>0.030149</td>\n",
       "    </tr>\n",
       "    <tr>\n",
       "      <th>4</th>\n",
       "      <td>0.032215</td>\n",
       "      <td>0.040980</td>\n",
       "    </tr>\n",
       "    <tr>\n",
       "      <th>5</th>\n",
       "      <td>0.032883</td>\n",
       "      <td>0.038873</td>\n",
       "    </tr>\n",
       "    <tr>\n",
       "      <th>6</th>\n",
       "      <td>0.040841</td>\n",
       "      <td>0.033809</td>\n",
       "    </tr>\n",
       "    <tr>\n",
       "      <th>7</th>\n",
       "      <td>0.034006</td>\n",
       "      <td>0.035831</td>\n",
       "    </tr>\n",
       "    <tr>\n",
       "      <th>8</th>\n",
       "      <td>0.034789</td>\n",
       "      <td>0.028118</td>\n",
       "    </tr>\n",
       "    <tr>\n",
       "      <th>9</th>\n",
       "      <td>0.031128</td>\n",
       "      <td>0.041061</td>\n",
       "    </tr>\n",
       "    <tr>\n",
       "      <th>10</th>\n",
       "      <td>0.033786</td>\n",
       "      <td>0.032239</td>\n",
       "    </tr>\n",
       "    <tr>\n",
       "      <th>11</th>\n",
       "      <td>0.044114</td>\n",
       "      <td>0.049679</td>\n",
       "    </tr>\n",
       "    <tr>\n",
       "      <th>12</th>\n",
       "      <td>0.050912</td>\n",
       "      <td>0.032883</td>\n",
       "    </tr>\n",
       "    <tr>\n",
       "      <th>13</th>\n",
       "      <td>0.039752</td>\n",
       "      <td>0.044315</td>\n",
       "    </tr>\n",
       "    <tr>\n",
       "      <th>14</th>\n",
       "      <td>0.036033</td>\n",
       "      <td>0.039622</td>\n",
       "    </tr>\n",
       "    <tr>\n",
       "      <th>15</th>\n",
       "      <td>0.033463</td>\n",
       "      <td>0.026160</td>\n",
       "    </tr>\n",
       "    <tr>\n",
       "      <th>16</th>\n",
       "      <td>0.030967</td>\n",
       "      <td>0.031001</td>\n",
       "    </tr>\n",
       "    <tr>\n",
       "      <th>17</th>\n",
       "      <td>0.028756</td>\n",
       "      <td>0.028786</td>\n",
       "    </tr>\n",
       "    <tr>\n",
       "      <th>18</th>\n",
       "      <td>0.028594</td>\n",
       "      <td>0.036095</td>\n",
       "    </tr>\n",
       "    <tr>\n",
       "      <th>19</th>\n",
       "      <td>0.160313</td>\n",
       "      <td>0.042412</td>\n",
       "    </tr>\n",
       "    <tr>\n",
       "      <th>20</th>\n",
       "      <td>0.027120</td>\n",
       "      <td>0.026407</td>\n",
       "    </tr>\n",
       "    <tr>\n",
       "      <th>21</th>\n",
       "      <td>0.024397</td>\n",
       "      <td>0.034667</td>\n",
       "    </tr>\n",
       "    <tr>\n",
       "      <th>22</th>\n",
       "      <td>0.035859</td>\n",
       "      <td>0.034977</td>\n",
       "    </tr>\n",
       "    <tr>\n",
       "      <th>23</th>\n",
       "      <td>0.034745</td>\n",
       "      <td>0.029768</td>\n",
       "    </tr>\n",
       "    <tr>\n",
       "      <th>24</th>\n",
       "      <td>0.027691</td>\n",
       "      <td>0.041118</td>\n",
       "    </tr>\n",
       "    <tr>\n",
       "      <th>25</th>\n",
       "      <td>0.035165</td>\n",
       "      <td>0.041464</td>\n",
       "    </tr>\n",
       "    <tr>\n",
       "      <th>26</th>\n",
       "      <td>0.095497</td>\n",
       "      <td>0.035262</td>\n",
       "    </tr>\n",
       "    <tr>\n",
       "      <th>27</th>\n",
       "      <td>0.028495</td>\n",
       "      <td>0.037577</td>\n",
       "    </tr>\n",
       "    <tr>\n",
       "      <th>28</th>\n",
       "      <td>0.031755</td>\n",
       "      <td>0.034481</td>\n",
       "    </tr>\n",
       "    <tr>\n",
       "      <th>29</th>\n",
       "      <td>0.030989</td>\n",
       "      <td>0.028214</td>\n",
       "    </tr>\n",
       "    <tr>\n",
       "      <th>...</th>\n",
       "      <td>...</td>\n",
       "      <td>...</td>\n",
       "    </tr>\n",
       "    <tr>\n",
       "      <th>9075</th>\n",
       "      <td>0.150514</td>\n",
       "      <td>0.053614</td>\n",
       "    </tr>\n",
       "    <tr>\n",
       "      <th>9076</th>\n",
       "      <td>0.124686</td>\n",
       "      <td>0.058893</td>\n",
       "    </tr>\n",
       "    <tr>\n",
       "      <th>9077</th>\n",
       "      <td>0.084202</td>\n",
       "      <td>0.082337</td>\n",
       "    </tr>\n",
       "    <tr>\n",
       "      <th>9078</th>\n",
       "      <td>0.121607</td>\n",
       "      <td>0.065437</td>\n",
       "    </tr>\n",
       "    <tr>\n",
       "      <th>9079</th>\n",
       "      <td>0.035338</td>\n",
       "      <td>0.067231</td>\n",
       "    </tr>\n",
       "    <tr>\n",
       "      <th>9080</th>\n",
       "      <td>0.061061</td>\n",
       "      <td>0.070255</td>\n",
       "    </tr>\n",
       "    <tr>\n",
       "      <th>9081</th>\n",
       "      <td>0.037123</td>\n",
       "      <td>0.048299</td>\n",
       "    </tr>\n",
       "    <tr>\n",
       "      <th>9082</th>\n",
       "      <td>0.034063</td>\n",
       "      <td>0.069732</td>\n",
       "    </tr>\n",
       "    <tr>\n",
       "      <th>9083</th>\n",
       "      <td>0.041183</td>\n",
       "      <td>0.056498</td>\n",
       "    </tr>\n",
       "    <tr>\n",
       "      <th>9084</th>\n",
       "      <td>0.032829</td>\n",
       "      <td>0.060620</td>\n",
       "    </tr>\n",
       "    <tr>\n",
       "      <th>9085</th>\n",
       "      <td>0.083063</td>\n",
       "      <td>0.044011</td>\n",
       "    </tr>\n",
       "    <tr>\n",
       "      <th>9086</th>\n",
       "      <td>0.085209</td>\n",
       "      <td>0.057754</td>\n",
       "    </tr>\n",
       "    <tr>\n",
       "      <th>9087</th>\n",
       "      <td>0.070860</td>\n",
       "      <td>0.075543</td>\n",
       "    </tr>\n",
       "    <tr>\n",
       "      <th>9088</th>\n",
       "      <td>0.528356</td>\n",
       "      <td>0.060099</td>\n",
       "    </tr>\n",
       "    <tr>\n",
       "      <th>9089</th>\n",
       "      <td>0.061422</td>\n",
       "      <td>0.064740</td>\n",
       "    </tr>\n",
       "    <tr>\n",
       "      <th>9090</th>\n",
       "      <td>0.056590</td>\n",
       "      <td>0.050983</td>\n",
       "    </tr>\n",
       "    <tr>\n",
       "      <th>9091</th>\n",
       "      <td>0.033063</td>\n",
       "      <td>0.040756</td>\n",
       "    </tr>\n",
       "    <tr>\n",
       "      <th>9092</th>\n",
       "      <td>0.183041</td>\n",
       "      <td>0.039419</td>\n",
       "    </tr>\n",
       "    <tr>\n",
       "      <th>9093</th>\n",
       "      <td>0.028075</td>\n",
       "      <td>0.065320</td>\n",
       "    </tr>\n",
       "    <tr>\n",
       "      <th>9094</th>\n",
       "      <td>0.099709</td>\n",
       "      <td>0.062231</td>\n",
       "    </tr>\n",
       "    <tr>\n",
       "      <th>9095</th>\n",
       "      <td>0.204992</td>\n",
       "      <td>0.058678</td>\n",
       "    </tr>\n",
       "    <tr>\n",
       "      <th>9096</th>\n",
       "      <td>0.075549</td>\n",
       "      <td>0.048825</td>\n",
       "    </tr>\n",
       "    <tr>\n",
       "      <th>9097</th>\n",
       "      <td>0.077381</td>\n",
       "      <td>0.069586</td>\n",
       "    </tr>\n",
       "    <tr>\n",
       "      <th>9098</th>\n",
       "      <td>0.326514</td>\n",
       "      <td>0.069071</td>\n",
       "    </tr>\n",
       "    <tr>\n",
       "      <th>9099</th>\n",
       "      <td>0.166696</td>\n",
       "      <td>0.045880</td>\n",
       "    </tr>\n",
       "    <tr>\n",
       "      <th>9100</th>\n",
       "      <td>0.093039</td>\n",
       "      <td>0.056970</td>\n",
       "    </tr>\n",
       "    <tr>\n",
       "      <th>9101</th>\n",
       "      <td>0.090768</td>\n",
       "      <td>0.066709</td>\n",
       "    </tr>\n",
       "    <tr>\n",
       "      <th>9102</th>\n",
       "      <td>0.131479</td>\n",
       "      <td>0.047663</td>\n",
       "    </tr>\n",
       "    <tr>\n",
       "      <th>9103</th>\n",
       "      <td>0.065241</td>\n",
       "      <td>0.040193</td>\n",
       "    </tr>\n",
       "    <tr>\n",
       "      <th>9104</th>\n",
       "      <td>0.546326</td>\n",
       "      <td>0.046359</td>\n",
       "    </tr>\n",
       "  </tbody>\n",
       "</table>\n",
       "<p>9105 rows × 2 columns</p>\n",
       "</div>"
      ],
      "text/plain": [
       "          real  shuffled\n",
       "0     0.044483  0.035080\n",
       "1     0.030838  0.029109\n",
       "2     0.040065  0.042383\n",
       "3     0.031145  0.030149\n",
       "4     0.032215  0.040980\n",
       "5     0.032883  0.038873\n",
       "6     0.040841  0.033809\n",
       "7     0.034006  0.035831\n",
       "8     0.034789  0.028118\n",
       "9     0.031128  0.041061\n",
       "10    0.033786  0.032239\n",
       "11    0.044114  0.049679\n",
       "12    0.050912  0.032883\n",
       "13    0.039752  0.044315\n",
       "14    0.036033  0.039622\n",
       "15    0.033463  0.026160\n",
       "16    0.030967  0.031001\n",
       "17    0.028756  0.028786\n",
       "18    0.028594  0.036095\n",
       "19    0.160313  0.042412\n",
       "20    0.027120  0.026407\n",
       "21    0.024397  0.034667\n",
       "22    0.035859  0.034977\n",
       "23    0.034745  0.029768\n",
       "24    0.027691  0.041118\n",
       "25    0.035165  0.041464\n",
       "26    0.095497  0.035262\n",
       "27    0.028495  0.037577\n",
       "28    0.031755  0.034481\n",
       "29    0.030989  0.028214\n",
       "...        ...       ...\n",
       "9075  0.150514  0.053614\n",
       "9076  0.124686  0.058893\n",
       "9077  0.084202  0.082337\n",
       "9078  0.121607  0.065437\n",
       "9079  0.035338  0.067231\n",
       "9080  0.061061  0.070255\n",
       "9081  0.037123  0.048299\n",
       "9082  0.034063  0.069732\n",
       "9083  0.041183  0.056498\n",
       "9084  0.032829  0.060620\n",
       "9085  0.083063  0.044011\n",
       "9086  0.085209  0.057754\n",
       "9087  0.070860  0.075543\n",
       "9088  0.528356  0.060099\n",
       "9089  0.061422  0.064740\n",
       "9090  0.056590  0.050983\n",
       "9091  0.033063  0.040756\n",
       "9092  0.183041  0.039419\n",
       "9093  0.028075  0.065320\n",
       "9094  0.099709  0.062231\n",
       "9095  0.204992  0.058678\n",
       "9096  0.075549  0.048825\n",
       "9097  0.077381  0.069586\n",
       "9098  0.326514  0.069071\n",
       "9099  0.166696  0.045880\n",
       "9100  0.093039  0.056970\n",
       "9101  0.090768  0.066709\n",
       "9102  0.131479  0.047663\n",
       "9103  0.065241  0.040193\n",
       "9104  0.546326  0.046359\n",
       "\n",
       "[9105 rows x 2 columns]"
      ]
     },
     "execution_count": 602,
     "metadata": {},
     "output_type": "execute_result"
    }
   ],
   "source": [
    "df"
   ]
  },
  {
   "cell_type": "code",
   "execution_count": 15,
   "metadata": {},
   "outputs": [],
   "source": [
    "random_sample_average_score = db.query(\"SELECT average_score FROM random_samples_average_score \").getresult()\n",
    "tt_random_sample_average_score = db.query(\"SELECT tt_average_score FROM random_samples_average_score \").getresult()\n",
    "\n",
    "\n"
   ]
  },
  {
   "cell_type": "code",
   "execution_count": 16,
   "metadata": {},
   "outputs": [
    {
     "data": {
      "text/html": [
       "<div>\n",
       "<style scoped>\n",
       "    .dataframe tbody tr th:only-of-type {\n",
       "        vertical-align: middle;\n",
       "    }\n",
       "\n",
       "    .dataframe tbody tr th {\n",
       "        vertical-align: top;\n",
       "    }\n",
       "\n",
       "    .dataframe thead th {\n",
       "        text-align: right;\n",
       "    }\n",
       "</style>\n",
       "<table border=\"1\" class=\"dataframe\">\n",
       "  <thead>\n",
       "    <tr style=\"text-align: right;\">\n",
       "      <th></th>\n",
       "      <th>0</th>\n",
       "    </tr>\n",
       "  </thead>\n",
       "  <tbody>\n",
       "    <tr>\n",
       "      <th>count</th>\n",
       "      <td>1.409357e+06</td>\n",
       "    </tr>\n",
       "    <tr>\n",
       "      <th>mean</th>\n",
       "      <td>2.779065e-02</td>\n",
       "    </tr>\n",
       "    <tr>\n",
       "      <th>std</th>\n",
       "      <td>2.091803e-02</td>\n",
       "    </tr>\n",
       "    <tr>\n",
       "      <th>min</th>\n",
       "      <td>-2.207551e-01</td>\n",
       "    </tr>\n",
       "    <tr>\n",
       "      <th>25%</th>\n",
       "      <td>2.200033e-02</td>\n",
       "    </tr>\n",
       "    <tr>\n",
       "      <th>50%</th>\n",
       "      <td>2.684579e-02</td>\n",
       "    </tr>\n",
       "    <tr>\n",
       "      <th>75%</th>\n",
       "      <td>3.223115e-02</td>\n",
       "    </tr>\n",
       "    <tr>\n",
       "      <th>max</th>\n",
       "      <td>1.000000e+00</td>\n",
       "    </tr>\n",
       "  </tbody>\n",
       "</table>\n",
       "</div>"
      ],
      "text/plain": [
       "                  0\n",
       "count  1.409357e+06\n",
       "mean   2.779065e-02\n",
       "std    2.091803e-02\n",
       "min   -2.207551e-01\n",
       "25%    2.200033e-02\n",
       "50%    2.684579e-02\n",
       "75%    3.223115e-02\n",
       "max    1.000000e+00"
      ]
     },
     "execution_count": 16,
     "metadata": {},
     "output_type": "execute_result"
    }
   ],
   "source": [
    "df_samples = pandas.DataFrame(random_sample_average_score)\n",
    "df_samples.describe()\n",
    "\n"
   ]
  },
  {
   "cell_type": "code",
   "execution_count": 23,
   "metadata": {},
   "outputs": [
    {
     "data": {
      "text/html": [
       "<div>\n",
       "<style scoped>\n",
       "    .dataframe tbody tr th:only-of-type {\n",
       "        vertical-align: middle;\n",
       "    }\n",
       "\n",
       "    .dataframe tbody tr th {\n",
       "        vertical-align: top;\n",
       "    }\n",
       "\n",
       "    .dataframe thead th {\n",
       "        text-align: right;\n",
       "    }\n",
       "</style>\n",
       "<table border=\"1\" class=\"dataframe\">\n",
       "  <thead>\n",
       "    <tr style=\"text-align: right;\">\n",
       "      <th></th>\n",
       "      <th>tt_samples</th>\n",
       "    </tr>\n",
       "  </thead>\n",
       "  <tbody>\n",
       "    <tr>\n",
       "      <th>count</th>\n",
       "      <td>1.408978e+06</td>\n",
       "    </tr>\n",
       "    <tr>\n",
       "      <th>mean</th>\n",
       "      <td>4.243935e-01</td>\n",
       "    </tr>\n",
       "    <tr>\n",
       "      <th>std</th>\n",
       "      <td>8.382341e-02</td>\n",
       "    </tr>\n",
       "    <tr>\n",
       "      <th>min</th>\n",
       "      <td>-2.207551e-01</td>\n",
       "    </tr>\n",
       "    <tr>\n",
       "      <th>25%</th>\n",
       "      <td>4.035731e-01</td>\n",
       "    </tr>\n",
       "    <tr>\n",
       "      <th>50%</th>\n",
       "      <td>4.335210e-01</td>\n",
       "    </tr>\n",
       "    <tr>\n",
       "      <th>75%</th>\n",
       "      <td>4.620319e-01</td>\n",
       "    </tr>\n",
       "    <tr>\n",
       "      <th>max</th>\n",
       "      <td>1.000000e+00</td>\n",
       "    </tr>\n",
       "  </tbody>\n",
       "</table>\n",
       "</div>"
      ],
      "text/plain": [
       "         tt_samples\n",
       "count  1.408978e+06\n",
       "mean   4.243935e-01\n",
       "std    8.382341e-02\n",
       "min   -2.207551e-01\n",
       "25%    4.035731e-01\n",
       "50%    4.335210e-01\n",
       "75%    4.620319e-01\n",
       "max    1.000000e+00"
      ]
     },
     "execution_count": 23,
     "metadata": {},
     "output_type": "execute_result"
    }
   ],
   "source": [
    "tt_df_samples = pandas.DataFrame(tt_random_sample_average_score)\n",
    "tt_df_samples.columns = ['tt_samples']\n",
    "\n",
    "\n",
    "tt_df_samples.describe()\n"
   ]
  },
  {
   "cell_type": "code",
   "execution_count": 24,
   "metadata": {},
   "outputs": [
    {
     "data": {
      "text/plain": [
       "<matplotlib.axes._subplots.AxesSubplot at 0x1284e0978>"
      ]
     },
     "execution_count": 24,
     "metadata": {},
     "output_type": "execute_result"
    },
    {
     "data": {
      "image/png": "[encoded data removed]",
      "text/plain": [
       "<matplotlib.figure.Figure at 0x1284d6208>"
      ]
     },
     "metadata": {},
     "output_type": "display_data"
    }
   ],
   "source": [
    "%matplotlib inline\n",
    "\n",
    "import matplotlib\n",
    "df_samples.plot(kind='hist',bins=1000)"
   ]
  },
  {
   "cell_type": "code",
   "execution_count": 25,
   "metadata": {},
   "outputs": [
    {
     "data": {
      "text/plain": [
       "<matplotlib.axes._subplots.AxesSubplot at 0x1285c8da0>"
      ]
     },
     "execution_count": 25,
     "metadata": {},
     "output_type": "execute_result"
    },
    {
     "data": {
      "image/png": "[encoded data removed]",
      "text/plain": [
       "<matplotlib.figure.Figure at 0x128583f98>"
      ]
     },
     "metadata": {},
     "output_type": "display_data"
    }
   ],
   "source": [
    "%matplotlib inline\n",
    "\n",
    "import matplotlib\n",
    "tt_df_samples[\"samples\"] = df_samples\n",
    "tt_df_samples.plot(kind='hist',bins=1000)\n"
   ]
  },
  {
   "cell_type": "code",
   "execution_count": 20,
   "metadata": {},
   "outputs": [
    {
     "data": {
      "image/png": "[encoded data removed]",
      "text/plain": [
       "<matplotlib.figure.Figure at 0x122b2a668>"
      ]
     },
     "metadata": {},
     "output_type": "display_data"
    }
   ],
   "source": [
    "motifNames_avg_scores_shuffled = db.query(\"SELECT  shuffled_average_score FROM motif where  shuffled_average_score NOTNULL\").getresult()\n",
    "df_shuff = pandas.DataFrame(motifNames_avg_scores_shuffled)\n",
    "df_shuff.columns = ['shuffled']\n",
    "df_shuff[\"samples\"] = df_samples\n",
    "%matplotlib inline\n",
    "\n",
    "import matplotlib\n",
    "foo = df_shuff.plot(kind='hist',bins=1000)\n"
   ]
  },
  {
   "cell_type": "code",
   "execution_count": 52,
   "metadata": {},
   "outputs": [
    {
     "data": {
      "image/png": "[encoded data removed]",
      "text/plain": [
       "<matplotlib.figure.Figure at 0x1322f2588>"
      ]
     },
     "metadata": {},
     "output_type": "display_data"
    }
   ],
   "source": [
    "tt_motifNames_avg_scores_shuffled = db.query(\"SELECT  tt_shuffled_average_score FROM motif where  tt_shuffled_average_score NOTNULL\").getresult()\n",
    "df_shuff = pandas.DataFrame(motifNames_avg_scores_shuffled)\n",
    "df_shuff.columns = ['tt_shuffled']\n",
    "df_shuff[\"tt_samples\"] = tt_df_samples[\"tt_samples\"]\n",
    "\n",
    "\n",
    "\n",
    "%matplotlib inline\n",
    "\n",
    "import matplotlib\n",
    "foo = df_shuff.plot(kind='hist',bins=1000, logy = True)\n",
    "\n"
   ]
  },
  {
   "cell_type": "code",
   "execution_count": 50,
   "metadata": {},
   "outputs": [
    {
     "data": {
      "image/png": "[encoded data removed]",
      "text/plain": [
       "<matplotlib.figure.Figure at 0x12eff6198>"
      ]
     },
     "metadata": {},
     "output_type": "display_data"
    }
   ],
   "source": [
    "motifNames_avg_scores_real = db.query(\"SELECT  tt_average_score FROM motif where average_score NOTNULL and shuffled_average_score NOTNULL\").getresult()\n",
    "df_real = pandas.DataFrame(motifNames_avg_scores_real)\n",
    "df_real.columns = ['tt_real']\n",
    "df_real[\"tt_samples\"] = tt_df_samples[\"tt_samples\"]\n",
    "%matplotlib inline\n",
    "\n",
    "import matplotlib\n",
    "foo = df_real.plot(kind='hist',bins=1000, logy = True)\n"
   ]
  },
  {
   "cell_type": "code",
   "execution_count": 54,
   "metadata": {},
   "outputs": [
    {
     "data": {
      "text/plain": [
       "<matplotlib.axes._subplots.AxesSubplot at 0x1286e7fd0>"
      ]
     },
     "execution_count": 54,
     "metadata": {},
     "output_type": "execute_result"
    },
    {
     "data": {
      "image/png": "[encoded data removed]",
      "text/plain": [
       "<matplotlib.figure.Figure at 0x129fdad68>"
      ]
     },
     "metadata": {},
     "output_type": "display_data"
    }
   ],
   "source": [
    "df_compare = pandas.DataFrame(motifNames_avg_scores_real)\n",
    "df_compare.columns = ['tt_real']\n",
    "df_compare[\"tt_shuffled\"] = pandas.DataFrame(motifNames_avg_scores_shuffled)\n",
    "\n",
    "df_compare.plot(kind='hist',bins=1000, logy = True)\n"
   ]
  },
  {
   "cell_type": "code",
   "execution_count": 46,
   "metadata": {},
   "outputs": [
    {
     "ename": "NameError",
     "evalue": "name 'df_samples' is not defined",
     "output_type": "error",
     "traceback": [
      "\u001b[0;31m---------------------------------------------------------------------------\u001b[0m",
      "\u001b[0;31mNameError\u001b[0m                                 Traceback (most recent call last)",
      "\u001b[0;32m<ipython-input-46-5ba29f63565b>\u001b[0m in \u001b[0;36m<module>\u001b[0;34m()\u001b[0m\n\u001b[1;32m      2\u001b[0m \u001b[0mdf_real\u001b[0m \u001b[0;34m=\u001b[0m \u001b[0mpandas\u001b[0m\u001b[0;34m.\u001b[0m\u001b[0mDataFrame\u001b[0m\u001b[0;34m(\u001b[0m\u001b[0mmotifNames_avg_scores_real\u001b[0m\u001b[0;34m)\u001b[0m\u001b[0;34m\u001b[0m\u001b[0m\n\u001b[1;32m      3\u001b[0m \u001b[0mdf_real\u001b[0m\u001b[0;34m.\u001b[0m\u001b[0mcolumns\u001b[0m \u001b[0;34m=\u001b[0m \u001b[0;34m[\u001b[0m\u001b[0;34m'real'\u001b[0m\u001b[0;34m]\u001b[0m\u001b[0;34m\u001b[0m\u001b[0m\n\u001b[0;32m----> 4\u001b[0;31m \u001b[0mdf_real\u001b[0m\u001b[0;34m[\u001b[0m\u001b[0;34m\"samples\"\u001b[0m\u001b[0;34m]\u001b[0m \u001b[0;34m=\u001b[0m \u001b[0mdf_samples\u001b[0m\u001b[0;34m\u001b[0m\u001b[0m\n\u001b[0m\u001b[1;32m      5\u001b[0m \u001b[0mget_ipython\u001b[0m\u001b[0;34m(\u001b[0m\u001b[0;34m)\u001b[0m\u001b[0;34m.\u001b[0m\u001b[0mrun_line_magic\u001b[0m\u001b[0;34m(\u001b[0m\u001b[0;34m'matplotlib'\u001b[0m\u001b[0;34m,\u001b[0m \u001b[0;34m'inline'\u001b[0m\u001b[0;34m)\u001b[0m\u001b[0;34m\u001b[0m\u001b[0m\n\u001b[1;32m      6\u001b[0m \u001b[0;34m\u001b[0m\u001b[0m\n",
      "\u001b[0;31mNameError\u001b[0m: name 'df_samples' is not defined"
     ]
    }
   ],
   "source": [
    "motifNames_avg_scores_real = db.query(\"SELECT  average_score FROM motif where average_score NOTNULL and shuffled_average_score NOTNULL\").getresult()\n",
    "df_real = pandas.DataFrame(motifNames_avg_scores_real)\n",
    "df_real.columns = ['real']\n",
    "df_real[\"samples\"] = df_samples\n",
    "%matplotlib inline\n",
    "\n",
    "import matplotlib\n",
    "foo = df_real.plot(kind='hist',bins=1000)"
   ]
  },
  {
   "cell_type": "code",
   "execution_count": 51,
   "metadata": {},
   "outputs": [],
   "source": [
    "p_values = db.query(\"SELECT p_value, tt_p_value FROM motifss where p_value NOTNULL\").getresult()\n",
    "shuffled_p_values = db.query(\"SELECT shuffled_p_value, tt_shuffled_p_value FROM motifss where shuffled_p_value NOTNULL\").getresult()\n",
    "\n",
    "\n",
    "p_values_df = pandas.DataFrame( p_values)\n",
    "p_values_df.columns = [\"real_p_values\", \"tt_real_p_values\"]\n",
    "p_values_df[\"shuffled_p_values\" ] = pandas.DataFrame(shuffled_p_values)[0]\n",
    "p_values_df[\"tt_shuffled_p_values\" ] = pandas.DataFrame(shuffled_p_values)[1]\n",
    "\n",
    "\n",
    "# shuffled_p_values\n"
   ]
  },
  {
   "cell_type": "code",
   "execution_count": 52,
   "metadata": {},
   "outputs": [
    {
     "data": {
      "text/html": [
       "<div>\n",
       "<style scoped>\n",
       "    .dataframe tbody tr th:only-of-type {\n",
       "        vertical-align: middle;\n",
       "    }\n",
       "\n",
       "    .dataframe tbody tr th {\n",
       "        vertical-align: top;\n",
       "    }\n",
       "\n",
       "    .dataframe thead th {\n",
       "        text-align: right;\n",
       "    }\n",
       "</style>\n",
       "<table border=\"1\" class=\"dataframe\">\n",
       "  <thead>\n",
       "    <tr style=\"text-align: right;\">\n",
       "      <th></th>\n",
       "      <th>real_p_values</th>\n",
       "      <th>tt_real_p_values</th>\n",
       "      <th>shuffled_p_values</th>\n",
       "      <th>tt_shuffled_p_values</th>\n",
       "    </tr>\n",
       "  </thead>\n",
       "  <tbody>\n",
       "    <tr>\n",
       "      <th>count</th>\n",
       "      <td>46099.000000</td>\n",
       "      <td>46099.000000</td>\n",
       "      <td>46099.000000</td>\n",
       "      <td>46099.000000</td>\n",
       "    </tr>\n",
       "    <tr>\n",
       "      <th>mean</th>\n",
       "      <td>0.059801</td>\n",
       "      <td>0.729458</td>\n",
       "      <td>0.075512</td>\n",
       "      <td>0.996897</td>\n",
       "    </tr>\n",
       "    <tr>\n",
       "      <th>std</th>\n",
       "      <td>0.092626</td>\n",
       "      <td>0.387696</td>\n",
       "      <td>0.093574</td>\n",
       "      <td>0.019715</td>\n",
       "    </tr>\n",
       "    <tr>\n",
       "      <th>min</th>\n",
       "      <td>0.000000</td>\n",
       "      <td>0.000000</td>\n",
       "      <td>0.000000</td>\n",
       "      <td>0.184500</td>\n",
       "    </tr>\n",
       "    <tr>\n",
       "      <th>25%</th>\n",
       "      <td>0.008800</td>\n",
       "      <td>0.434100</td>\n",
       "      <td>0.014000</td>\n",
       "      <td>0.999900</td>\n",
       "    </tr>\n",
       "    <tr>\n",
       "      <th>50%</th>\n",
       "      <td>0.022700</td>\n",
       "      <td>0.999800</td>\n",
       "      <td>0.041500</td>\n",
       "      <td>1.000000</td>\n",
       "    </tr>\n",
       "    <tr>\n",
       "      <th>75%</th>\n",
       "      <td>0.066800</td>\n",
       "      <td>1.000000</td>\n",
       "      <td>0.100800</td>\n",
       "      <td>1.000000</td>\n",
       "    </tr>\n",
       "    <tr>\n",
       "      <th>max</th>\n",
       "      <td>0.920300</td>\n",
       "      <td>1.000000</td>\n",
       "      <td>0.920900</td>\n",
       "      <td>1.000000</td>\n",
       "    </tr>\n",
       "  </tbody>\n",
       "</table>\n",
       "</div>"
      ],
      "text/plain": [
       "       real_p_values  tt_real_p_values  shuffled_p_values  \\\n",
       "count   46099.000000      46099.000000       46099.000000   \n",
       "mean        0.059801          0.729458           0.075512   \n",
       "std         0.092626          0.387696           0.093574   \n",
       "min         0.000000          0.000000           0.000000   \n",
       "25%         0.008800          0.434100           0.014000   \n",
       "50%         0.022700          0.999800           0.041500   \n",
       "75%         0.066800          1.000000           0.100800   \n",
       "max         0.920300          1.000000           0.920900   \n",
       "\n",
       "       tt_shuffled_p_values  \n",
       "count          46099.000000  \n",
       "mean               0.996897  \n",
       "std                0.019715  \n",
       "min                0.184500  \n",
       "25%                0.999900  \n",
       "50%                1.000000  \n",
       "75%                1.000000  \n",
       "max                1.000000  "
      ]
     },
     "execution_count": 52,
     "metadata": {},
     "output_type": "execute_result"
    }
   ],
   "source": [
    "p_values_df.describe()"
   ]
  },
  {
   "cell_type": "code",
   "execution_count": 36,
   "metadata": {},
   "outputs": [
    {
     "data": {
      "text/plain": [
       "<matplotlib.axes._subplots.AxesSubplot at 0x114208860>"
      ]
     },
     "execution_count": 36,
     "metadata": {},
     "output_type": "execute_result"
    },
    {
     "data": {
      "image/png": "[encoded data removed]",
      "text/plain": [
       "<matplotlib.figure.Figure at 0x1078be438>"
      ]
     },
     "metadata": {},
     "output_type": "display_data"
    }
   ],
   "source": [
    "%matplotlib inline\n",
    "\n",
    "import matplotlib\n",
    "p_values_df[\"real_p_values\"].plot(kind='hist' )"
   ]
  },
  {
   "cell_type": "code",
   "execution_count": 37,
   "metadata": {},
   "outputs": [
    {
     "data": {
      "text/plain": [
       "<matplotlib.axes._subplots.AxesSubplot at 0x113feeda0>"
      ]
     },
     "execution_count": 37,
     "metadata": {},
     "output_type": "execute_result"
    },
    {
     "data": {
      "image/png": "[encoded data removed]",
      "text/plain": [
       "<matplotlib.figure.Figure at 0x11570fef0>"
      ]
     },
     "metadata": {},
     "output_type": "display_data"
    }
   ],
   "source": [
    "%matplotlib inline\n",
    "\n",
    "import matplotlib\n",
    "p_values_df[\"shuffled_p_values\"].plot(kind='hist')"
   ]
  },
  {
   "cell_type": "code",
   "execution_count": 506,
   "metadata": {},
   "outputs": [
    {
     "data": {
      "text/plain": [
       "[(0.0006,)]"
      ]
     },
     "execution_count": 506,
     "metadata": {},
     "output_type": "execute_result"
    }
   ],
   "source": [
    "db.query(\"SELECT min(p_value) FROM motif where p_value > 0\").getresult()\n",
    "\n"
   ]
  },
  {
   "cell_type": "code",
   "execution_count": 38,
   "metadata": {},
   "outputs": [
    {
     "data": {
      "text/plain": [
       "array([ 0.0001    ,  0.00010723,  0.00011498,  0.00012328,  0.00013219,\n",
       "        0.00014175,  0.00015199,  0.00016298,  0.00017475,  0.00018738,\n",
       "        0.00020092,  0.00021544,  0.00023101,  0.00024771,  0.00026561,\n",
       "        0.0002848 ,  0.00030539,  0.00032745,  0.00035112,  0.00037649,\n",
       "        0.0004037 ,  0.00043288,  0.00046416,  0.0004977 ,  0.00053367,\n",
       "        0.00057224,  0.00061359,  0.00065793,  0.00070548,  0.00075646,\n",
       "        0.00081113,  0.00086975,  0.0009326 ,  0.001     ,  0.00107227,\n",
       "        0.00114976,  0.00123285,  0.00132194,  0.00141747,  0.00151991,\n",
       "        0.00162975,  0.00174753,  0.00187382,  0.00200923,  0.00215443,\n",
       "        0.00231013,  0.00247708,  0.00265609,  0.00284804,  0.00305386,\n",
       "        0.00327455,  0.00351119,  0.00376494,  0.00403702,  0.00432876,\n",
       "        0.00464159,  0.00497702,  0.0053367 ,  0.00572237,  0.00613591,\n",
       "        0.00657933,  0.0070548 ,  0.00756463,  0.00811131,  0.00869749,\n",
       "        0.00932603,  0.01      ,  0.01072267,  0.01149757,  0.01232847,\n",
       "        0.01321941,  0.01417474,  0.01519911,  0.01629751,  0.01747528,\n",
       "        0.01873817,  0.02009233,  0.02154435,  0.0231013 ,  0.02477076,\n",
       "        0.02656088,  0.02848036,  0.03053856,  0.03274549,  0.03511192,\n",
       "        0.03764936,  0.04037017,  0.04328761,  0.04641589,  0.04977024,\n",
       "        0.05336699,  0.05722368,  0.06135907,  0.06579332,  0.07054802,\n",
       "        0.07564633,  0.08111308,  0.0869749 ,  0.09326033,  0.1       ])"
      ]
     },
     "execution_count": 38,
     "metadata": {},
     "output_type": "execute_result"
    }
   ],
   "source": [
    "import numpy as np\n",
    "thresholds = np.logspace(-1,2, num=100)/1000\n",
    "thresholds"
   ]
  },
  {
   "cell_type": "code",
   "execution_count": 39,
   "metadata": {
    "scrolled": true
   },
   "outputs": [
    {
     "name": "stdout",
     "output_type": "stream",
     "text": [
      "0.0001 136 163\n",
      "0.0001 5867 0\n",
      "0.000107226722201 254 305\n",
      "0.000107226722201 5867 0\n",
      "0.00011497569954 254 305\n",
      "0.00011497569954 5867 0\n",
      "0.000123284673944 254 305\n",
      "0.000123284673944 5867 0\n",
      "0.000132194114847 254 306\n",
      "0.000132194114847 5867 0\n",
      "0.000141747416293 254 306\n",
      "0.000141747416293 5867 0\n",
      "0.000151991108295 254 306\n",
      "0.000151991108295 5867 0\n",
      "0.000162975083462 254 306\n",
      "0.000162975083462 5867 0\n",
      "0.000174752840001 254 306\n",
      "0.000174752840001 5867 0\n",
      "0.000187381742286 254 306\n",
      "0.000187381742286 5867 0\n",
      "0.000200923300257 355 428\n",
      "0.000200923300257 5867 0\n",
      "0.000215443469003 355 428\n",
      "0.000215443469003 5867 0\n",
      "0.000231012970008 355 428\n",
      "0.000231012970008 5867 0\n",
      "0.000247707635599 355 428\n",
      "0.000247707635599 5867 0\n",
      "0.000265608778295 355 428\n",
      "0.000265608778295 5867 0\n",
      "0.000284803586844 355 428\n",
      "0.000284803586844 5867 0\n",
      "0.000305385550883 488 520\n",
      "0.000305385550883 5868 0\n",
      "0.000327454916288 488 520\n",
      "0.000327454916288 5868 0\n",
      "0.000351119173422 488 520\n",
      "0.000351119173422 5868 0\n",
      "0.000376493580679 488 520\n",
      "0.000376493580679 5868 0\n",
      "0.00040370172586 608 655\n",
      "0.00040370172586 5869 0\n",
      "0.000432876128108 608 655\n",
      "0.000432876128108 5869 0\n",
      "0.000464158883361 608 655\n",
      "0.000464158883361 5869 0\n",
      "0.000497702356433 608 655\n",
      "0.000497702356433 5869 0\n",
      "0.000533669923121 755 793\n",
      "0.000533669923121 5870 0\n",
      "0.000572236765935 755 793\n",
      "0.000572236765935 5870 0\n",
      "0.000613590727341 882 906\n",
      "0.000613590727341 5870 0\n",
      "0.000657933224658 882 906\n",
      "0.000657933224658 5870 0\n",
      "0.000705480231072 1030 1058\n",
      "0.000705480231072 5870 0\n",
      "0.000756463327555 1030 1058\n",
      "0.000756463327555 5870 0\n",
      "0.00081113083079 1161 1181\n",
      "0.00081113083079 5871 0\n",
      "0.000869749002618 1161 1181\n",
      "0.000869749002618 5871 0\n",
      "0.000932603346883 1313 1320\n",
      "0.000932603346883 5871 0\n",
      "0.001 1313 1320\n",
      "0.001 5871 0\n",
      "0.00107226722201 1465 1423\n",
      "0.00107226722201 5871 0\n",
      "0.0011497569954 1575 1527\n",
      "0.0011497569954 5872 0\n",
      "0.00123284673944 1740 1664\n",
      "0.00123284673944 5872 0\n",
      "0.00132194114847 1893 1790\n",
      "0.00132194114847 5872 0\n",
      "0.00141747416293 2026 1947\n",
      "0.00141747416293 5872 0\n",
      "0.00151991108295 2181 2059\n",
      "0.00151991108295 5872 0\n",
      "0.00162975083462 2299 2182\n",
      "0.00162975083462 5872 0\n",
      "0.00174752840001 2409 2334\n",
      "0.00174752840001 5872 0\n",
      "0.00187381742286 2602 2464\n",
      "0.00187381742286 5872 0\n",
      "0.00200923300257 2860 2659\n",
      "0.00200923300257 5874 0\n",
      "0.00215443469003 3003 2752\n",
      "0.00215443469003 5874 0\n",
      "0.00231012970008 3232 2940\n",
      "0.00231012970008 5874 0\n",
      "0.00247707635599 3353 3057\n",
      "0.00247707635599 5874 0\n",
      "0.00265608778295 3591 3290\n",
      "0.00265608778295 5874 0\n",
      "0.00284803586844 3775 3487\n",
      "0.00284803586844 5876 0\n",
      "0.00305385550883 4028 3693\n",
      "0.00305385550883 5876 0\n",
      "0.00327454916288 4268 3852\n",
      "0.00327454916288 5877 0\n",
      "0.00351119173422 4715 4117\n",
      "0.00351119173422 5877 0\n",
      "0.00376493580679 4980 4285\n",
      "0.00376493580679 5879 0\n",
      "0.0040370172586 5368 4546\n",
      "0.0040370172586 5879 0\n",
      "0.00432876128108 5799 4861\n",
      "0.00432876128108 5879 0\n",
      "0.00464158883361 6135 5099\n",
      "0.00464158883361 5881 0\n",
      "0.00497702356433 6522 5393\n",
      "0.00497702356433 5881 0\n",
      "0.00533669923121 7064 5710\n",
      "0.00533669923121 5882 0\n",
      "0.00572236765935 7595 6054\n",
      "0.00572236765935 5886 0\n",
      "0.00613590727341 8030 6442\n",
      "0.00613590727341 5889 0\n",
      "0.00657933224658 8544 6806\n",
      "0.00657933224658 5893 0\n",
      "0.00705480231072 9150 7211\n",
      "0.00705480231072 5895 0\n",
      "0.00756463327555 9725 7577\n",
      "0.00756463327555 5898 0\n",
      "0.0081113083079 10425 8061\n",
      "0.0081113083079 5903 0\n",
      "0.00869749002618 10945 8435\n",
      "0.00869749002618 5909 0\n",
      "0.00932603346883 11655 8899\n",
      "0.00932603346883 5911 0\n",
      "0.01 12258 9296\n",
      "0.01 5915 0\n",
      "0.0107226722201 13050 9843\n",
      "0.0107226722201 5922 0\n",
      "0.011497569954 13735 10295\n",
      "0.011497569954 5930 0\n",
      "0.0123284673944 14619 10897\n",
      "0.0123284673944 5936 0\n",
      "0.0132194114847 15422 11466\n",
      "0.0132194114847 5941 0\n",
      "0.0141747416293 16181 11993\n",
      "0.0141747416293 5946 0\n",
      "0.0151991108295 17002 12625\n",
      "0.0151991108295 5953 0\n",
      "0.0162975083462 17838 13260\n",
      "0.0162975083462 5962 0\n",
      "0.0174752840001 18838 13921\n",
      "0.0174752840001 5975 0\n",
      "0.0187381742286 19770 14570\n",
      "0.0187381742286 5989 0\n",
      "0.0200923300257 20650 15239\n",
      "0.0200923300257 6002 0\n",
      "0.0215443469003 21502 16010\n",
      "0.0215443469003 6018 0\n",
      "0.0231012970008 22442 16737\n",
      "0.0231012970008 6028 0\n",
      "0.0247707635599 23192 17463\n",
      "0.0247707635599 6041 0\n",
      "0.0265608778295 23916 18302\n",
      "0.0265608778295 6050 0\n",
      "0.0284803586844 24702 19081\n",
      "0.0284803586844 6063 0\n",
      "0.0305385550883 25491 19901\n",
      "0.0305385550883 6079 0\n",
      "0.0327454916288 26248 20784\n",
      "0.0327454916288 6095 0\n",
      "0.0351119173422 26979 21629\n",
      "0.0351119173422 6114 0\n",
      "0.0376493580679 27851 22494\n",
      "0.0376493580679 6136 0\n",
      "0.040370172586 28754 23454\n",
      "0.040370172586 6674 0\n",
      "0.0432876128108 29476 24409\n",
      "0.0432876128108 6692 0\n",
      "0.0464158883361 30155 25371\n",
      "0.0464158883361 6715 0\n",
      "0.0497702356433 30771 26339\n",
      "0.0497702356433 6738 0\n",
      "0.0533669923121 31439 27276\n",
      "0.0533669923121 6765 0\n",
      "0.0572236765935 32044 28224\n",
      "0.0572236765935 6796 0\n",
      "0.0613590727341 32660 29212\n",
      "0.0613590727341 6824 0\n",
      "0.0657933224658 33238 30165\n",
      "0.0657933224658 6858 0\n",
      "0.0705480231072 33846 31134\n",
      "0.0705480231072 6889 0\n",
      "0.0756463327555 34404 32079\n",
      "0.0756463327555 6934 0\n",
      "0.081113083079 34957 32968\n",
      "0.081113083079 6990 0\n",
      "0.0869749002618 35520 33832\n",
      "0.0869749002618 7039 0\n",
      "0.0932603346883 36059 34720\n",
      "0.0932603346883 7105 0\n",
      "0.1 36606 35686\n",
      "0.1 7167 0\n"
     ]
    }
   ],
   "source": [
    "smallest = 1/10000\n",
    "fdrs = []\n",
    "fdrs_d = {}\n",
    "tt_fdrs_d={}\n",
    "for threshold in thresholds:\n",
    "    M = db.query(\"SELECT count(p_value) FROM motifss where p_value < '\" + str(threshold) + \"'\").getresult()[0][0]\n",
    "    tt_M = db.query(\"SELECT count(p_value) FROM motifss where tt_p_value < '\" + str(threshold) + \"'\").getresult()[0][0]\n",
    "    N = db.query(\"SELECT count(shuffled_p_value)FROM motifss where shuffled_p_value < '\" + str(threshold) + \"'\").getresult()[0][0]\n",
    "    tt_N = db.query(\"SELECT count(shuffled_p_value)FROM motifss where tt_shuffled_p_value < '\" + str(threshold) + \"'\").getresult()[0][0]\n",
    "\n",
    "    print(threshold, M, N)\n",
    "    print(threshold, tt_M, tt_N)\n",
    "\n",
    "\n",
    "    fdrs.append(N/M)\n",
    "    fdrs_d[threshold] = (N+1)/(M+1)\n",
    "    tt_fdrs_d[threshold] = (tt_N+1)/(tt_M+1)\n",
    "\n"
   ]
  },
  {
   "cell_type": "code",
   "execution_count": 40,
   "metadata": {},
   "outputs": [
    {
     "data": {
      "text/plain": [
       "<matplotlib.axes._subplots.AxesSubplot at 0x112e30320>"
      ]
     },
     "execution_count": 40,
     "metadata": {},
     "output_type": "execute_result"
    },
    {
     "data": {
      "image/png": "[encoded data removed]",
      "text/plain": [
       "<matplotlib.figure.Figure at 0x112dce2b0>"
      ]
     },
     "metadata": {},
     "output_type": "display_data"
    }
   ],
   "source": [
    "%matplotlib inline\n",
    "\n",
    "import matplotlib\n",
    "pandas.DataFrame({'fdr' :fdrs_d}).plot()"
   ]
  },
  {
   "cell_type": "code",
   "execution_count": 41,
   "metadata": {},
   "outputs": [
    {
     "data": {
      "text/plain": [
       "<matplotlib.axes._subplots.AxesSubplot at 0x1142a3390>"
      ]
     },
     "execution_count": 41,
     "metadata": {},
     "output_type": "execute_result"
    },
    {
     "data": {
      "image/png": "[encoded data removed]",
      "text/plain": [
       "<matplotlib.figure.Figure at 0x11478c240>"
      ]
     },
     "metadata": {},
     "output_type": "display_data"
    }
   ],
   "source": [
    "pandas.DataFrame({'tt_fdr' :tt_fdrs_d}).plot()"
   ]
  },
  {
   "cell_type": "code",
   "execution_count": 35,
   "metadata": {},
   "outputs": [
    {
     "data": {
      "text/html": [
       "<div>\n",
       "<style scoped>\n",
       "    .dataframe tbody tr th:only-of-type {\n",
       "        vertical-align: middle;\n",
       "    }\n",
       "\n",
       "    .dataframe tbody tr th {\n",
       "        vertical-align: top;\n",
       "    }\n",
       "\n",
       "    .dataframe thead th {\n",
       "        text-align: right;\n",
       "    }\n",
       "</style>\n",
       "<table border=\"1\" class=\"dataframe\">\n",
       "  <thead>\n",
       "    <tr style=\"text-align: right;\">\n",
       "      <th></th>\n",
       "      <th>fdr</th>\n",
       "    </tr>\n",
       "  </thead>\n",
       "  <tbody>\n",
       "    <tr>\n",
       "      <th>0.000100</th>\n",
       "      <td>1.205882</td>\n",
       "    </tr>\n",
       "    <tr>\n",
       "      <th>0.000107</th>\n",
       "      <td>1.204724</td>\n",
       "    </tr>\n",
       "    <tr>\n",
       "      <th>0.000115</th>\n",
       "      <td>1.204724</td>\n",
       "    </tr>\n",
       "    <tr>\n",
       "      <th>0.000123</th>\n",
       "      <td>1.204724</td>\n",
       "    </tr>\n",
       "    <tr>\n",
       "      <th>0.000132</th>\n",
       "      <td>1.204724</td>\n",
       "    </tr>\n",
       "    <tr>\n",
       "      <th>0.000142</th>\n",
       "      <td>1.204724</td>\n",
       "    </tr>\n",
       "    <tr>\n",
       "      <th>0.000152</th>\n",
       "      <td>1.204724</td>\n",
       "    </tr>\n",
       "    <tr>\n",
       "      <th>0.000163</th>\n",
       "      <td>1.204724</td>\n",
       "    </tr>\n",
       "    <tr>\n",
       "      <th>0.000175</th>\n",
       "      <td>1.204724</td>\n",
       "    </tr>\n",
       "    <tr>\n",
       "      <th>0.000187</th>\n",
       "      <td>1.204724</td>\n",
       "    </tr>\n",
       "    <tr>\n",
       "      <th>0.000201</th>\n",
       "      <td>1.205634</td>\n",
       "    </tr>\n",
       "    <tr>\n",
       "      <th>0.000215</th>\n",
       "      <td>1.205634</td>\n",
       "    </tr>\n",
       "    <tr>\n",
       "      <th>0.000231</th>\n",
       "      <td>1.205634</td>\n",
       "    </tr>\n",
       "    <tr>\n",
       "      <th>0.000248</th>\n",
       "      <td>1.205634</td>\n",
       "    </tr>\n",
       "    <tr>\n",
       "      <th>0.000266</th>\n",
       "      <td>1.205634</td>\n",
       "    </tr>\n",
       "    <tr>\n",
       "      <th>0.000285</th>\n",
       "      <td>1.205634</td>\n",
       "    </tr>\n",
       "    <tr>\n",
       "      <th>0.000305</th>\n",
       "      <td>1.065574</td>\n",
       "    </tr>\n",
       "    <tr>\n",
       "      <th>0.000327</th>\n",
       "      <td>1.065574</td>\n",
       "    </tr>\n",
       "    <tr>\n",
       "      <th>0.000351</th>\n",
       "      <td>1.065574</td>\n",
       "    </tr>\n",
       "    <tr>\n",
       "      <th>0.000376</th>\n",
       "      <td>1.065574</td>\n",
       "    </tr>\n",
       "    <tr>\n",
       "      <th>0.000404</th>\n",
       "      <td>1.077303</td>\n",
       "    </tr>\n",
       "    <tr>\n",
       "      <th>0.000433</th>\n",
       "      <td>1.077303</td>\n",
       "    </tr>\n",
       "    <tr>\n",
       "      <th>0.000464</th>\n",
       "      <td>1.077303</td>\n",
       "    </tr>\n",
       "    <tr>\n",
       "      <th>0.000498</th>\n",
       "      <td>1.077303</td>\n",
       "    </tr>\n",
       "    <tr>\n",
       "      <th>0.000534</th>\n",
       "      <td>1.050331</td>\n",
       "    </tr>\n",
       "    <tr>\n",
       "      <th>0.000572</th>\n",
       "      <td>1.050331</td>\n",
       "    </tr>\n",
       "    <tr>\n",
       "      <th>0.000614</th>\n",
       "      <td>1.026077</td>\n",
       "    </tr>\n",
       "    <tr>\n",
       "      <th>0.000658</th>\n",
       "      <td>1.026077</td>\n",
       "    </tr>\n",
       "    <tr>\n",
       "      <th>0.000705</th>\n",
       "      <td>1.028210</td>\n",
       "    </tr>\n",
       "    <tr>\n",
       "      <th>0.000756</th>\n",
       "      <td>1.028210</td>\n",
       "    </tr>\n",
       "    <tr>\n",
       "      <th>...</th>\n",
       "      <td>...</td>\n",
       "    </tr>\n",
       "    <tr>\n",
       "      <th>0.013219</th>\n",
       "      <td>0.742595</td>\n",
       "    </tr>\n",
       "    <tr>\n",
       "      <th>0.014175</th>\n",
       "      <td>0.740450</td>\n",
       "    </tr>\n",
       "    <tr>\n",
       "      <th>0.015199</th>\n",
       "      <td>0.741911</td>\n",
       "    </tr>\n",
       "    <tr>\n",
       "      <th>0.016298</th>\n",
       "      <td>0.742809</td>\n",
       "    </tr>\n",
       "    <tr>\n",
       "      <th>0.017475</th>\n",
       "      <td>0.738601</td>\n",
       "    </tr>\n",
       "    <tr>\n",
       "      <th>0.018738</th>\n",
       "      <td>0.736703</td>\n",
       "    </tr>\n",
       "    <tr>\n",
       "      <th>0.020092</th>\n",
       "      <td>0.737596</td>\n",
       "    </tr>\n",
       "    <tr>\n",
       "      <th>0.021544</th>\n",
       "      <td>0.744195</td>\n",
       "    </tr>\n",
       "    <tr>\n",
       "      <th>0.023101</th>\n",
       "      <td>0.745420</td>\n",
       "    </tr>\n",
       "    <tr>\n",
       "      <th>0.024771</th>\n",
       "      <td>0.752670</td>\n",
       "    </tr>\n",
       "    <tr>\n",
       "      <th>0.026561</th>\n",
       "      <td>0.764896</td>\n",
       "    </tr>\n",
       "    <tr>\n",
       "      <th>0.028480</th>\n",
       "      <td>0.772116</td>\n",
       "    </tr>\n",
       "    <tr>\n",
       "      <th>0.030539</th>\n",
       "      <td>0.780453</td>\n",
       "    </tr>\n",
       "    <tr>\n",
       "      <th>0.032745</th>\n",
       "      <td>0.791539</td>\n",
       "    </tr>\n",
       "    <tr>\n",
       "      <th>0.035112</th>\n",
       "      <td>0.801569</td>\n",
       "    </tr>\n",
       "    <tr>\n",
       "      <th>0.037649</th>\n",
       "      <td>0.807529</td>\n",
       "    </tr>\n",
       "    <tr>\n",
       "      <th>0.040370</th>\n",
       "      <td>0.815457</td>\n",
       "    </tr>\n",
       "    <tr>\n",
       "      <th>0.043288</th>\n",
       "      <td>0.827876</td>\n",
       "    </tr>\n",
       "    <tr>\n",
       "      <th>0.046416</th>\n",
       "      <td>0.841191</td>\n",
       "    </tr>\n",
       "    <tr>\n",
       "      <th>0.049770</th>\n",
       "      <td>0.855731</td>\n",
       "    </tr>\n",
       "    <tr>\n",
       "      <th>0.053367</th>\n",
       "      <td>0.867320</td>\n",
       "    </tr>\n",
       "    <tr>\n",
       "      <th>0.057224</th>\n",
       "      <td>0.880472</td>\n",
       "    </tr>\n",
       "    <tr>\n",
       "      <th>0.061359</th>\n",
       "      <td>0.893996</td>\n",
       "    </tr>\n",
       "    <tr>\n",
       "      <th>0.065793</th>\n",
       "      <td>0.906890</td>\n",
       "    </tr>\n",
       "    <tr>\n",
       "      <th>0.070548</th>\n",
       "      <td>0.919170</td>\n",
       "    </tr>\n",
       "    <tr>\n",
       "      <th>0.075646</th>\n",
       "      <td>0.931653</td>\n",
       "    </tr>\n",
       "    <tr>\n",
       "      <th>0.081113</th>\n",
       "      <td>0.942208</td>\n",
       "    </tr>\n",
       "    <tr>\n",
       "      <th>0.086975</th>\n",
       "      <td>0.951543</td>\n",
       "    </tr>\n",
       "    <tr>\n",
       "      <th>0.093260</th>\n",
       "      <td>0.961868</td>\n",
       "    </tr>\n",
       "    <tr>\n",
       "      <th>0.100000</th>\n",
       "      <td>0.973760</td>\n",
       "    </tr>\n",
       "  </tbody>\n",
       "</table>\n",
       "<p>100 rows × 1 columns</p>\n",
       "</div>"
      ],
      "text/plain": [
       "               fdr\n",
       "0.000100  1.205882\n",
       "0.000107  1.204724\n",
       "0.000115  1.204724\n",
       "0.000123  1.204724\n",
       "0.000132  1.204724\n",
       "0.000142  1.204724\n",
       "0.000152  1.204724\n",
       "0.000163  1.204724\n",
       "0.000175  1.204724\n",
       "0.000187  1.204724\n",
       "0.000201  1.205634\n",
       "0.000215  1.205634\n",
       "0.000231  1.205634\n",
       "0.000248  1.205634\n",
       "0.000266  1.205634\n",
       "0.000285  1.205634\n",
       "0.000305  1.065574\n",
       "0.000327  1.065574\n",
       "0.000351  1.065574\n",
       "0.000376  1.065574\n",
       "0.000404  1.077303\n",
       "0.000433  1.077303\n",
       "0.000464  1.077303\n",
       "0.000498  1.077303\n",
       "0.000534  1.050331\n",
       "0.000572  1.050331\n",
       "0.000614  1.026077\n",
       "0.000658  1.026077\n",
       "0.000705  1.028210\n",
       "0.000756  1.028210\n",
       "...            ...\n",
       "0.013219  0.742595\n",
       "0.014175  0.740450\n",
       "0.015199  0.741911\n",
       "0.016298  0.742809\n",
       "0.017475  0.738601\n",
       "0.018738  0.736703\n",
       "0.020092  0.737596\n",
       "0.021544  0.744195\n",
       "0.023101  0.745420\n",
       "0.024771  0.752670\n",
       "0.026561  0.764896\n",
       "0.028480  0.772116\n",
       "0.030539  0.780453\n",
       "0.032745  0.791539\n",
       "0.035112  0.801569\n",
       "0.037649  0.807529\n",
       "0.040370  0.815457\n",
       "0.043288  0.827876\n",
       "0.046416  0.841191\n",
       "0.049770  0.855731\n",
       "0.053367  0.867320\n",
       "0.057224  0.880472\n",
       "0.061359  0.893996\n",
       "0.065793  0.906890\n",
       "0.070548  0.919170\n",
       "0.075646  0.931653\n",
       "0.081113  0.942208\n",
       "0.086975  0.951543\n",
       "0.093260  0.961868\n",
       "0.100000  0.973760\n",
       "\n",
       "[100 rows x 1 columns]"
      ]
     },
     "execution_count": 35,
     "metadata": {},
     "output_type": "execute_result"
    }
   ],
   "source": [
    "pandas.DataFrame({'fdr' :fdrs_d})"
   ]
  },
  {
   "cell_type": "code",
   "execution_count": 36,
   "metadata": {},
   "outputs": [
    {
     "data": {
      "text/html": [
       "<div>\n",
       "<style scoped>\n",
       "    .dataframe tbody tr th:only-of-type {\n",
       "        vertical-align: middle;\n",
       "    }\n",
       "\n",
       "    .dataframe tbody tr th {\n",
       "        vertical-align: top;\n",
       "    }\n",
       "\n",
       "    .dataframe thead th {\n",
       "        text-align: right;\n",
       "    }\n",
       "</style>\n",
       "<table border=\"1\" class=\"dataframe\">\n",
       "  <thead>\n",
       "    <tr style=\"text-align: right;\">\n",
       "      <th></th>\n",
       "      <th>fdr</th>\n",
       "    </tr>\n",
       "  </thead>\n",
       "  <tbody>\n",
       "    <tr>\n",
       "      <th>0.000100</th>\n",
       "      <td>0.000170</td>\n",
       "    </tr>\n",
       "    <tr>\n",
       "      <th>0.000107</th>\n",
       "      <td>0.000170</td>\n",
       "    </tr>\n",
       "    <tr>\n",
       "      <th>0.000115</th>\n",
       "      <td>0.000170</td>\n",
       "    </tr>\n",
       "    <tr>\n",
       "      <th>0.000123</th>\n",
       "      <td>0.000170</td>\n",
       "    </tr>\n",
       "    <tr>\n",
       "      <th>0.000132</th>\n",
       "      <td>0.000170</td>\n",
       "    </tr>\n",
       "    <tr>\n",
       "      <th>0.000142</th>\n",
       "      <td>0.000170</td>\n",
       "    </tr>\n",
       "    <tr>\n",
       "      <th>0.000152</th>\n",
       "      <td>0.000170</td>\n",
       "    </tr>\n",
       "    <tr>\n",
       "      <th>0.000163</th>\n",
       "      <td>0.000170</td>\n",
       "    </tr>\n",
       "    <tr>\n",
       "      <th>0.000175</th>\n",
       "      <td>0.000170</td>\n",
       "    </tr>\n",
       "    <tr>\n",
       "      <th>0.000187</th>\n",
       "      <td>0.000170</td>\n",
       "    </tr>\n",
       "    <tr>\n",
       "      <th>0.000201</th>\n",
       "      <td>0.000170</td>\n",
       "    </tr>\n",
       "    <tr>\n",
       "      <th>0.000215</th>\n",
       "      <td>0.000170</td>\n",
       "    </tr>\n",
       "    <tr>\n",
       "      <th>0.000231</th>\n",
       "      <td>0.000170</td>\n",
       "    </tr>\n",
       "    <tr>\n",
       "      <th>0.000248</th>\n",
       "      <td>0.000170</td>\n",
       "    </tr>\n",
       "    <tr>\n",
       "      <th>0.000266</th>\n",
       "      <td>0.000170</td>\n",
       "    </tr>\n",
       "    <tr>\n",
       "      <th>0.000285</th>\n",
       "      <td>0.000170</td>\n",
       "    </tr>\n",
       "    <tr>\n",
       "      <th>0.000305</th>\n",
       "      <td>0.000170</td>\n",
       "    </tr>\n",
       "    <tr>\n",
       "      <th>0.000327</th>\n",
       "      <td>0.000170</td>\n",
       "    </tr>\n",
       "    <tr>\n",
       "      <th>0.000351</th>\n",
       "      <td>0.000170</td>\n",
       "    </tr>\n",
       "    <tr>\n",
       "      <th>0.000376</th>\n",
       "      <td>0.000170</td>\n",
       "    </tr>\n",
       "    <tr>\n",
       "      <th>0.000404</th>\n",
       "      <td>0.000170</td>\n",
       "    </tr>\n",
       "    <tr>\n",
       "      <th>0.000433</th>\n",
       "      <td>0.000170</td>\n",
       "    </tr>\n",
       "    <tr>\n",
       "      <th>0.000464</th>\n",
       "      <td>0.000170</td>\n",
       "    </tr>\n",
       "    <tr>\n",
       "      <th>0.000498</th>\n",
       "      <td>0.000170</td>\n",
       "    </tr>\n",
       "    <tr>\n",
       "      <th>0.000534</th>\n",
       "      <td>0.000170</td>\n",
       "    </tr>\n",
       "    <tr>\n",
       "      <th>0.000572</th>\n",
       "      <td>0.000170</td>\n",
       "    </tr>\n",
       "    <tr>\n",
       "      <th>0.000614</th>\n",
       "      <td>0.000170</td>\n",
       "    </tr>\n",
       "    <tr>\n",
       "      <th>0.000658</th>\n",
       "      <td>0.000170</td>\n",
       "    </tr>\n",
       "    <tr>\n",
       "      <th>0.000705</th>\n",
       "      <td>0.000170</td>\n",
       "    </tr>\n",
       "    <tr>\n",
       "      <th>0.000756</th>\n",
       "      <td>0.000170</td>\n",
       "    </tr>\n",
       "    <tr>\n",
       "      <th>...</th>\n",
       "      <td>...</td>\n",
       "    </tr>\n",
       "    <tr>\n",
       "      <th>0.013219</th>\n",
       "      <td>0.000169</td>\n",
       "    </tr>\n",
       "    <tr>\n",
       "      <th>0.014175</th>\n",
       "      <td>0.000168</td>\n",
       "    </tr>\n",
       "    <tr>\n",
       "      <th>0.015199</th>\n",
       "      <td>0.000168</td>\n",
       "    </tr>\n",
       "    <tr>\n",
       "      <th>0.016298</th>\n",
       "      <td>0.000168</td>\n",
       "    </tr>\n",
       "    <tr>\n",
       "      <th>0.017475</th>\n",
       "      <td>0.000168</td>\n",
       "    </tr>\n",
       "    <tr>\n",
       "      <th>0.018738</th>\n",
       "      <td>0.000168</td>\n",
       "    </tr>\n",
       "    <tr>\n",
       "      <th>0.020092</th>\n",
       "      <td>0.000167</td>\n",
       "    </tr>\n",
       "    <tr>\n",
       "      <th>0.021544</th>\n",
       "      <td>0.000167</td>\n",
       "    </tr>\n",
       "    <tr>\n",
       "      <th>0.023101</th>\n",
       "      <td>0.000167</td>\n",
       "    </tr>\n",
       "    <tr>\n",
       "      <th>0.024771</th>\n",
       "      <td>0.000167</td>\n",
       "    </tr>\n",
       "    <tr>\n",
       "      <th>0.026561</th>\n",
       "      <td>0.000166</td>\n",
       "    </tr>\n",
       "    <tr>\n",
       "      <th>0.028480</th>\n",
       "      <td>0.000166</td>\n",
       "    </tr>\n",
       "    <tr>\n",
       "      <th>0.030539</th>\n",
       "      <td>0.000166</td>\n",
       "    </tr>\n",
       "    <tr>\n",
       "      <th>0.032745</th>\n",
       "      <td>0.000165</td>\n",
       "    </tr>\n",
       "    <tr>\n",
       "      <th>0.035112</th>\n",
       "      <td>0.000165</td>\n",
       "    </tr>\n",
       "    <tr>\n",
       "      <th>0.037649</th>\n",
       "      <td>0.000164</td>\n",
       "    </tr>\n",
       "    <tr>\n",
       "      <th>0.040370</th>\n",
       "      <td>0.000151</td>\n",
       "    </tr>\n",
       "    <tr>\n",
       "      <th>0.043288</th>\n",
       "      <td>0.000151</td>\n",
       "    </tr>\n",
       "    <tr>\n",
       "      <th>0.046416</th>\n",
       "      <td>0.000150</td>\n",
       "    </tr>\n",
       "    <tr>\n",
       "      <th>0.049770</th>\n",
       "      <td>0.000150</td>\n",
       "    </tr>\n",
       "    <tr>\n",
       "      <th>0.053367</th>\n",
       "      <td>0.000149</td>\n",
       "    </tr>\n",
       "    <tr>\n",
       "      <th>0.057224</th>\n",
       "      <td>0.000148</td>\n",
       "    </tr>\n",
       "    <tr>\n",
       "      <th>0.061359</th>\n",
       "      <td>0.000148</td>\n",
       "    </tr>\n",
       "    <tr>\n",
       "      <th>0.065793</th>\n",
       "      <td>0.000147</td>\n",
       "    </tr>\n",
       "    <tr>\n",
       "      <th>0.070548</th>\n",
       "      <td>0.000146</td>\n",
       "    </tr>\n",
       "    <tr>\n",
       "      <th>0.075646</th>\n",
       "      <td>0.000145</td>\n",
       "    </tr>\n",
       "    <tr>\n",
       "      <th>0.081113</th>\n",
       "      <td>0.000144</td>\n",
       "    </tr>\n",
       "    <tr>\n",
       "      <th>0.086975</th>\n",
       "      <td>0.000143</td>\n",
       "    </tr>\n",
       "    <tr>\n",
       "      <th>0.093260</th>\n",
       "      <td>0.000142</td>\n",
       "    </tr>\n",
       "    <tr>\n",
       "      <th>0.100000</th>\n",
       "      <td>0.000141</td>\n",
       "    </tr>\n",
       "  </tbody>\n",
       "</table>\n",
       "<p>100 rows × 1 columns</p>\n",
       "</div>"
      ],
      "text/plain": [
       "               fdr\n",
       "0.000100  0.000170\n",
       "0.000107  0.000170\n",
       "0.000115  0.000170\n",
       "0.000123  0.000170\n",
       "0.000132  0.000170\n",
       "0.000142  0.000170\n",
       "0.000152  0.000170\n",
       "0.000163  0.000170\n",
       "0.000175  0.000170\n",
       "0.000187  0.000170\n",
       "0.000201  0.000170\n",
       "0.000215  0.000170\n",
       "0.000231  0.000170\n",
       "0.000248  0.000170\n",
       "0.000266  0.000170\n",
       "0.000285  0.000170\n",
       "0.000305  0.000170\n",
       "0.000327  0.000170\n",
       "0.000351  0.000170\n",
       "0.000376  0.000170\n",
       "0.000404  0.000170\n",
       "0.000433  0.000170\n",
       "0.000464  0.000170\n",
       "0.000498  0.000170\n",
       "0.000534  0.000170\n",
       "0.000572  0.000170\n",
       "0.000614  0.000170\n",
       "0.000658  0.000170\n",
       "0.000705  0.000170\n",
       "0.000756  0.000170\n",
       "...            ...\n",
       "0.013219  0.000169\n",
       "0.014175  0.000168\n",
       "0.015199  0.000168\n",
       "0.016298  0.000168\n",
       "0.017475  0.000168\n",
       "0.018738  0.000168\n",
       "0.020092  0.000167\n",
       "0.021544  0.000167\n",
       "0.023101  0.000167\n",
       "0.024771  0.000167\n",
       "0.026561  0.000166\n",
       "0.028480  0.000166\n",
       "0.030539  0.000166\n",
       "0.032745  0.000165\n",
       "0.035112  0.000165\n",
       "0.037649  0.000164\n",
       "0.040370  0.000151\n",
       "0.043288  0.000151\n",
       "0.046416  0.000150\n",
       "0.049770  0.000150\n",
       "0.053367  0.000149\n",
       "0.057224  0.000148\n",
       "0.061359  0.000148\n",
       "0.065793  0.000147\n",
       "0.070548  0.000146\n",
       "0.075646  0.000145\n",
       "0.081113  0.000144\n",
       "0.086975  0.000143\n",
       "0.093260  0.000142\n",
       "0.100000  0.000141\n",
       "\n",
       "[100 rows x 1 columns]"
      ]
     },
     "execution_count": 36,
     "metadata": {},
     "output_type": "execute_result"
    }
   ],
   "source": [
    "pandas.DataFrame({'fdr' :tt_fdrs_d})"
   ]
  },
  {
   "cell_type": "code",
   "execution_count": 42,
   "metadata": {},
   "outputs": [
    {
     "data": {
      "text/plain": [
       "<matplotlib.axes._subplots.AxesSubplot at 0x1168400b8>"
      ]
     },
     "execution_count": 42,
     "metadata": {},
     "output_type": "execute_result"
    },
    {
     "data": {
      "image/png": "[encoded data removed]",
      "text/plain": [
       "<matplotlib.figure.Figure at 0x10c71d400>"
      ]
     },
     "metadata": {},
     "output_type": "display_data"
    }
   ],
   "source": [
    "zoom = dict((key, value) for key, value in fdrs_d.items() if key < 0.003)\n",
    "pandas.DataFrame({'fdr' :zoom}).plot()"
   ]
  },
  {
   "cell_type": "code",
   "execution_count": 43,
   "metadata": {},
   "outputs": [
    {
     "data": {
      "text/plain": [
       "<matplotlib.axes._subplots.AxesSubplot at 0x1168256a0>"
      ]
     },
     "execution_count": 43,
     "metadata": {},
     "output_type": "execute_result"
    },
    {
     "data": {
      "image/png": "[encoded data removed]",
      "text/plain": [
       "<matplotlib.figure.Figure at 0x112c0a710>"
      ]
     },
     "metadata": {},
     "output_type": "display_data"
    }
   ],
   "source": [
    "tt_zoom = dict((key, value) for key, value in tt_fdrs_d.items() if key < 0.3)\n",
    "pandas.DataFrame({'tt_fdr' :tt_zoom}).plot()"
   ]
  },
  {
   "cell_type": "code",
   "execution_count": 39,
   "metadata": {},
   "outputs": [
    {
     "data": {
      "text/plain": [
       "6514"
      ]
     },
     "execution_count": 39,
     "metadata": {},
     "output_type": "execute_result"
    }
   ],
   "source": [
    "localizaiton_n = db.query(\"SELECT count(p_value) FROM motifss where p_value < '0.005'\").getresult()[0][0]\n",
    "localizaiton_n"
   ]
  },
  {
   "cell_type": "code",
   "execution_count": 40,
   "metadata": {},
   "outputs": [
    {
     "data": {
      "text/plain": [
       "5881"
      ]
     },
     "execution_count": 40,
     "metadata": {},
     "output_type": "execute_result"
    }
   ],
   "source": [
    "localizaiton_n = db.query(\"SELECT count(tt_p_value) FROM motifss where tt_p_value < '0.005'\").getresult()[0][0]\n",
    "localizaiton_n"
   ]
  },
  {
   "cell_type": "code",
   "execution_count": 41,
   "metadata": {},
   "outputs": [
    {
     "data": {
      "text/plain": [
       "0.0001"
      ]
     },
     "execution_count": 41,
     "metadata": {},
     "output_type": "execute_result"
    }
   ],
   "source": [
    "thresholds[0]"
   ]
  },
  {
   "cell_type": "code",
   "execution_count": 42,
   "metadata": {},
   "outputs": [],
   "source": [
    "M = db.query(\"SELECT count(tt_p_value) FROM motifss where tt_p_value < '\" + str(0.05) + \"'\").getresult()[0][0]\n",
    "M\n",
    "N = db.query(\"SELECT count(tt_shuffled_p_value)FROM motifss where tt_shuffled_p_value < '\" + str(0.05) + \"'\").getresult()[0][0]\n",
    "\n",
    "\n"
   ]
  },
  {
   "cell_type": "code",
   "execution_count": 43,
   "metadata": {},
   "outputs": [
    {
     "data": {
      "text/plain": [
       "0"
      ]
     },
     "execution_count": 43,
     "metadata": {},
     "output_type": "execute_result"
    }
   ],
   "source": [
    "N"
   ]
  },
  {
   "cell_type": "code",
   "execution_count": 44,
   "metadata": {},
   "outputs": [
    {
     "data": {
      "text/plain": [
       "0.0"
      ]
     },
     "execution_count": 44,
     "metadata": {},
     "output_type": "execute_result"
    }
   ],
   "source": [
    "N/M"
   ]
  },
  {
   "cell_type": "code",
   "execution_count": 45,
   "metadata": {},
   "outputs": [
    {
     "data": {
      "text/plain": [
       "[('ccgacacg', 0.0),\n",
       " ('ccgacaaa', 0.0),\n",
       " ('cgcaatta', 0.0),\n",
       " ('ccgacgac', 0.0),\n",
       " ('ccgacgtg', 0.0),\n",
       " ('ccgacggg', 0.0),\n",
       " ('ccgactac', 0.0),\n",
       " ('ccgatacg', 0.0),\n",
       " ('ccgatacc', 0.0),\n",
       " ('ccgatagc', 0.0),\n",
       " ('ccgatatc', 0.0),\n",
       " ('cttcgcgt', 0.0),\n",
       " ('ccgatcta', 0.0),\n",
       " ('ccgatcgt', 0.0),\n",
       " ('ccgattgg', 0.0),\n",
       " ('ccgcaaac', 0.0),\n",
       " ('ccgcaact', 0.0),\n",
       " ('ccgcaatc', 0.0),\n",
       " ('agcgcgat', 0.0),\n",
       " ('ctactcgt', 0.0),\n",
       " ('ccgccgta', 0.0),\n",
       " ('ccgcctaa', 0.0),\n",
       " ('ccgcgacg', 0.0),\n",
       " ('cccggacg', 0.0),\n",
       " ('cgatataa', 0.0),\n",
       " ('ccgcggta', 0.0),\n",
       " ('ccgcggtt', 0.0),\n",
       " ('ccgcgtca', 0.0),\n",
       " ('ccgcgtat', 0.0),\n",
       " ('ccgcgttg', 0.0),\n",
       " ('ccgctaat', 0.0),\n",
       " ('ccgctagc', 0.0),\n",
       " ('ccgctgat', 0.0),\n",
       " ('gtccggtc', 0.0),\n",
       " ('ccggatta', 0.0),\n",
       " ('ccggcgcg', 0.0),\n",
       " ('ccggcgac', 0.0),\n",
       " ('gcgagcgc', 0.0),\n",
       " ('ccggctag', 0.0),\n",
       " ('gtcgagta', 0.0),\n",
       " ('ccgggcga', 0.0),\n",
       " ('ccgggtac', 0.0),\n",
       " ('ccgggtta', 0.0),\n",
       " ('ccggtaga', 0.0),\n",
       " ('ccggtaac', 0.0),\n",
       " ('ccggtatc', 0.0),\n",
       " ('ccggttga', 0.0),\n",
       " ('ccgtaagg', 0.0),\n",
       " ('ccgtacac', 0.0),\n",
       " ('ccgtacgt', 0.0),\n",
       " ('ccgtagaa', 0.0),\n",
       " ('ccgtatcc', 0.0),\n",
       " ('ccgtcgcg', 0.0),\n",
       " ('ggcggtca', 0.0),\n",
       " ('cgtgaccg', 0.0),\n",
       " ('ccgcttac', 0.0),\n",
       " ('ccgttggc', 0.0),\n",
       " ('cgcgcaca', 0.0),\n",
       " ('cgccttcg', 0.0),\n",
       " ('cctacgat', 0.0),\n",
       " ('cctacgtc', 0.0),\n",
       " ('ggcgccga', 0.0),\n",
       " ('cctatgcg', 0.0),\n",
       " ('cgcttacc', 0.0),\n",
       " ('atcgggta', 0.0),\n",
       " ('gacggtca', 0.0),\n",
       " ('atcggtat', 0.0),\n",
       " ('aacgatat', 0.0),\n",
       " ('cataacga', 0.0),\n",
       " ('tattccgg', 0.0),\n",
       " ('gcgaagtt', 0.0),\n",
       " ('ccctaccg', 0.0),\n",
       " ('ctattccg', 0.0),\n",
       " ('gcgagata', 0.0),\n",
       " ('cgaagttg', 0.0),\n",
       " ('ctcgttcg', 0.0),\n",
       " ('cgaacacg', 0.0),\n",
       " ('cgaacccg', 0.0),\n",
       " ('cgaacctt', 0.0),\n",
       " ('cgaagcga', 0.0),\n",
       " ('cgaaccat', 0.0),\n",
       " ('cgaaggta', 0.0),\n",
       " ('gctcgaac', 0.0),\n",
       " ('cgaatagg', 0.0),\n",
       " ('cgaatcag', 0.0),\n",
       " ('gtatacga', 0.0),\n",
       " ('cgacaagt', 0.0),\n",
       " ('cgacaatc', 0.0),\n",
       " ('cgacaata', 0.0),\n",
       " ('cgacacga', 0.0),\n",
       " ('tatcggga', 0.0),\n",
       " ('cgacatag', 0.0),\n",
       " ('cgaccaat', 0.0),\n",
       " ('cgaccaac', 0.0),\n",
       " ('cgaccacg', 0.0),\n",
       " ('cgaccagt', 0.0),\n",
       " ('cgacccgg', 0.0),\n",
       " ('cgaccgaa', 0.0),\n",
       " ('cgaccgag', 0.0),\n",
       " ('cgaccgct', 0.0)]"
      ]
     },
     "execution_count": 45,
     "metadata": {},
     "output_type": "execute_result"
    }
   ],
   "source": [
    "M = db.query(\"SELECT motif_string,tt_p_value FROM motifss where tt_p_value < '\" + str(0.0001) + \"' order by tt_p_value\").getresult()\n",
    "M[0:100]\n"
   ]
  },
  {
   "cell_type": "code",
   "execution_count": 21,
   "metadata": {},
   "outputs": [],
   "source": [
    "p_lengths = db.query(\"SELECT proteins_length FROM motifss \").getresult()\n",
    "shuffled_p_lengths = db.query(\"SELECT shuffled_proteins_length FROM motifss \").getresult()\n",
    "\n",
    "\n"
   ]
  },
  {
   "cell_type": "code",
   "execution_count": 22,
   "metadata": {},
   "outputs": [
    {
     "data": {
      "text/plain": [
       "<matplotlib.axes._subplots.AxesSubplot at 0x10c3b3198>"
      ]
     },
     "execution_count": 22,
     "metadata": {},
     "output_type": "execute_result"
    },
    {
     "data": {
      "image/png": "[encoded data removed]",
      "text/plain": [
       "<matplotlib.figure.Figure at 0x10c39fb00>"
      ]
     },
     "metadata": {},
     "output_type": "display_data"
    }
   ],
   "source": [
    "pandas.DataFrame(p_lengths).plot()"
   ]
  },
  {
   "cell_type": "code",
   "execution_count": 23,
   "metadata": {},
   "outputs": [
    {
     "data": {
      "text/plain": [
       "<matplotlib.axes._subplots.AxesSubplot at 0x10c3b30b8>"
      ]
     },
     "execution_count": 23,
     "metadata": {},
     "output_type": "execute_result"
    },
    {
     "data": {
      "image/png": "[encoded data removed]",
      "text/plain": [
       "<matplotlib.figure.Figure at 0x10c3b7d30>"
      ]
     },
     "metadata": {},
     "output_type": "display_data"
    }
   ],
   "source": [
    "pandas.DataFrame(shuffled_p_lengths).plot()"
   ]
  },
  {
   "cell_type": "code",
   "execution_count": null,
   "metadata": {},
   "outputs": [
    {
     "data": {
      "text/plain": [
       "<matplotlib.axes._subplots.AxesSubplot at 0x14f7f5a20>"
      ]
     },
     "execution_count": 61,
     "metadata": {},
     "output_type": "execute_result"
    }
   ],
   "source": [
    "import seaborn as sns\n",
    "%matplotlib inline\n",
    "\n",
    "sns.heatmap(pandas.DataFrame(p_lengths), annot=True)"
   ]
  },
  {
   "cell_type": "code",
   "execution_count": 19,
   "metadata": {},
   "outputs": [],
   "source": [
    "p_lengths_to_score = db.query(\"SELECT proteins_length, tt_average_score FROM motifss \").getresult()\n",
    "shuffled_p_lengths_to_score = db.query(\"SELECT shuffled_proteins_length, tt_shuffled_average_score FROM motifss \").getresult()\n",
    "smaples_p_lengths_to_score = db.query(\"SELECT size, tt_average_score FROM random_samples_average_score \").getresult()\n",
    "\n",
    "\n",
    "df_lenghts_to_score = pandas.DataFrame(p_lengths_to_score)\n",
    "df_lenghts_to_score.columns = [\"lengths\", \"score\"]\n",
    "\n",
    "df_shuffled_lenghts_to_score = pandas.DataFrame(shuffled_p_lengths_to_score)\n",
    "df_shuffled_lenghts_to_score.columns = [\"lengths\", \"score\"]\n",
    "\n",
    "df_samples_lenghts_to_score = pandas.DataFrame(smaples_p_lengths_to_score)\n",
    "df_samples_lenghts_to_score.columns = [\"lengths\", \"score\"]\n"
   ]
  },
  {
   "cell_type": "code",
   "execution_count": 13,
   "metadata": {},
   "outputs": [
    {
     "data": {
      "image/png": "[encoded data removed]",
      "text/plain": [
       "<matplotlib.figure.Figure at 0x107adb978>"
      ]
     },
     "metadata": {},
     "output_type": "display_data"
    }
   ],
   "source": [
    "import seaborn as sns\n",
    "%matplotlib inline\n",
    "sns.jointplot(x=\"lengths\", y=\"score\", data=df_shuffled_lenghts_to_score, kind=\"kde\");"
   ]
  },
  {
   "cell_type": "code",
   "execution_count": 15,
   "metadata": {},
   "outputs": [
    {
     "data": {
      "image/png": "[encoded data removed]",
      "text/plain": [
       "<matplotlib.figure.Figure at 0x10c674e10>"
      ]
     },
     "metadata": {},
     "output_type": "display_data"
    }
   ],
   "source": [
    "import seaborn as sns\n",
    "%matplotlib inline\n",
    "sns.jointplot(x=\"lengths\", y=\"score\", data=df_lenghts_to_score, kind=\"kde\");"
   ]
  },
  {
   "cell_type": "code",
   "execution_count": 20,
   "metadata": {},
   "outputs": [
    {
     "data": {
      "image/png": "[encoded data removed]",
      "text/plain": [
       "<matplotlib.figure.Figure at 0x1078bea90>"
      ]
     },
     "metadata": {},
     "output_type": "display_data"
    }
   ],
   "source": [
    "import seaborn as sns\n",
    "%matplotlib inline\n",
    "sns.jointplot(x=\"lengths\", y=\"score\", data=df_samples_lenghts_to_score, kind=\"kde\");"
   ]
  },
  {
   "cell_type": "code",
   "execution_count": null,
   "metadata": {},
   "outputs": [],
   "source": []
  }
 ],
 "metadata": {
  "kernelspec": {
   "display_name": "Python 3",
   "language": "python",
   "name": "python3"
  }
 },
 "nbformat": 4,
 "nbformat_minor": 2
}
