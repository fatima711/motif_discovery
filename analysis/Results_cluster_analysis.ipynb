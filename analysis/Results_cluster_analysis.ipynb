{
 "cells": [
  {
   "cell_type": "code",
   "execution_count": 76,
   "metadata": {},
   "outputs": [],
   "source": [
    "import pickle\n",
    "import re\n",
    "import pandas\n",
    "import numpy as np\n",
    "import numpy as np\n",
    "\n",
    "from matplotlib import pyplot as plt\n",
    "\n",
    "from sklearn.cluster import KMeans\n",
    "from sklearn import metrics\n",
    "from sklearn.decomposition import PCA\n",
    "\n",
    "\n",
    "from scipy.spatial.distance import cdist\n",
    "from scipy.cluster.hierarchy import dendrogram, linkage\n"
   ]
  },
  {
   "cell_type": "markdown",
   "metadata": {},
   "source": [
    "#### Considering the motifs with the lowest possible p-values. That is with p-value < 1e-05"
   ]
  },
  {
   "cell_type": "code",
   "execution_count": 77,
   "metadata": {},
   "outputs": [],
   "source": [
    "motifs_flagged = db.query(\"SELECT motif_string FROM motif_average_scores where tt_p_value = 0 \").getresult()\n",
    "motifs_flagged = [motif_flagged[0] for motif_flagged in motifs_flagged] #from tuples to string"
   ]
  },
  {
   "cell_type": "markdown",
   "metadata": {},
   "source": [
    "### Associating motifs flagged to their proteins "
   ]
  },
  {
   "cell_type": "code",
   "execution_count": 78,
   "metadata": {
    "scrolled": true
   },
   "outputs": [
    {
     "name": "stdout",
     "output_type": "stream",
     "text": [
      "Done 0 out of 13709\n"
     ]
    },
    {
     "ename": "KeyboardInterrupt",
     "evalue": "",
     "output_type": "error",
     "traceback": [
      "\u001b[0;31m---------------------------------------------------------------------------\u001b[0m",
      "\u001b[0;31mKeyboardInterrupt\u001b[0m                         Traceback (most recent call last)",
      "\u001b[0;32m<timed exec>\u001b[0m in \u001b[0;36m<module>\u001b[0;34m()\u001b[0m\n",
      "\u001b[0;32m~/.pyenv/versions/3.6.3/lib/python3.6/re.py\u001b[0m in \u001b[0;36msearch\u001b[0;34m(pattern, string, flags)\u001b[0m\n\u001b[1;32m    180\u001b[0m     \"\"\"Scan through string looking for a match to the pattern, returning\n\u001b[1;32m    181\u001b[0m     a match object, or None if no match was found.\"\"\"\n\u001b[0;32m--> 182\u001b[0;31m     \u001b[0;32mreturn\u001b[0m \u001b[0m_compile\u001b[0m\u001b[0;34m(\u001b[0m\u001b[0mpattern\u001b[0m\u001b[0;34m,\u001b[0m \u001b[0mflags\u001b[0m\u001b[0;34m)\u001b[0m\u001b[0;34m.\u001b[0m\u001b[0msearch\u001b[0m\u001b[0;34m(\u001b[0m\u001b[0mstring\u001b[0m\u001b[0;34m)\u001b[0m\u001b[0;34m\u001b[0m\u001b[0m\n\u001b[0m\u001b[1;32m    183\u001b[0m \u001b[0;34m\u001b[0m\u001b[0m\n\u001b[1;32m    184\u001b[0m \u001b[0;32mdef\u001b[0m \u001b[0msub\u001b[0m\u001b[0;34m(\u001b[0m\u001b[0mpattern\u001b[0m\u001b[0;34m,\u001b[0m \u001b[0mrepl\u001b[0m\u001b[0;34m,\u001b[0m \u001b[0mstring\u001b[0m\u001b[0;34m,\u001b[0m \u001b[0mcount\u001b[0m\u001b[0;34m=\u001b[0m\u001b[0;36m0\u001b[0m\u001b[0;34m,\u001b[0m \u001b[0mflags\u001b[0m\u001b[0;34m=\u001b[0m\u001b[0;36m0\u001b[0m\u001b[0;34m)\u001b[0m\u001b[0;34m:\u001b[0m\u001b[0;34m\u001b[0m\u001b[0m\n",
      "\u001b[0;31mKeyboardInterrupt\u001b[0m: "
     ]
    }
   ],
   "source": [
    "%%time\n",
    "protein_to_sequence = pickle.load( open( \"../files/intermediates/proteins_to_sequences.pkl\", \"rb\" ) )\n",
    "distanceMatrix_df = pandas.read_pickle(open( \"../files/intermediates/distanceMatrix.pkl\", \"rb\" ))\n",
    "motifs_to_proteins = {}\n",
    "i = 0\n",
    "\n",
    "for motif in motifs_flagged:\n",
    "    if(i%1000 == 0):\n",
    "        print(\"Done \"+ str(i) + \" out of \" + str(len(motifs_flagged)))\n",
    "    i+=1\n",
    "    motifs_to_proteins[motif] = []\n",
    "    for protein in protein_to_sequence:\n",
    "        if(re.search(motif, protein_to_sequence[protein]) != None):\n",
    "            motifs_to_proteins[motif].append(protein)"
   ]
  },
  {
   "cell_type": "markdown",
   "metadata": {},
   "source": [
    "### The above took quite some time (7mins) so to avoid repeating I save as a pickle below"
   ]
  },
  {
   "cell_type": "code",
   "execution_count": 79,
   "metadata": {
    "scrolled": true
   },
   "outputs": [],
   "source": [
    "# pickle.dump(motifs_to_proteins,open( \"../files/intermediates/motifs_to_proteins.pkl\", \"wb\" ))\n",
    "motifs_to_proteins = pickle.load(open( \"../files/intermediates/motifs_to_proteins.pkl\", \"rb\" ))"
   ]
  },
  {
   "cell_type": "markdown",
   "metadata": {},
   "source": [
    "### Calculating motifs distances (based off LESMoN)"
   ]
  },
  {
   "cell_type": "code",
   "execution_count": 80,
   "metadata": {},
   "outputs": [
    {
     "name": "stdout",
     "output_type": "stream",
     "text": [
      "CPU times: user 5min 6s, sys: 17.5 s, total: 5min 24s\n",
      "Wall time: 6min 44s\n"
     ]
    }
   ],
   "source": [
    "%%time\n",
    "# motifs_to_simularity = {}\n",
    "motif_to_distance = {}\n",
    "for motif_a in motifs_to_proteins:\n",
    "#     motifs_to_simularity[motif_a] = {}\n",
    "    motif_to_distance[motif_a] = {}\n",
    "    for motif_b in motifs_to_proteins:\n",
    "        numerator = len(set(motifs_to_proteins[motif_a] + motifs_to_proteins[motif_b]))\n",
    "        denumerator = min(len(motifs_to_proteins[motif_a]), len(motifs_to_proteins[motif_b]))\n",
    "#         motifs_to_simularity[motif_a][motif_b] = numerator/denumerator\n",
    "        similarity = numerator/denumerator\n",
    "        motif_to_distance[motif_a][motif_b] = 0 if(similarity == 1) else 1/(similarity - 1)"
   ]
  },
  {
   "cell_type": "code",
   "execution_count": 221,
   "metadata": {},
   "outputs": [],
   "source": [
    "df = pandas.DataFrame(motif_to_distance, columns=motif_to_distance.keys(), index=motif_to_distance.keys())"
   ]
  },
  {
   "cell_type": "markdown",
   "metadata": {},
   "source": [
    "### Plot of PCA reduced flagged motif distances"
   ]
  },
  {
   "cell_type": "code",
   "execution_count": 86,
   "metadata": {},
   "outputs": [
    {
     "data": {
      "image/png": "[encoded data removed]",
      "text/plain": [
       "<matplotlib.figure.Figure at 0x40fb68f98>"
      ]
     },
     "metadata": {},
     "output_type": "display_data"
    },
    {
     "name": "stdout",
     "output_type": "stream",
     "text": [
      "Retained variation is  0.90879625062 %\n"
     ]
    }
   ],
   "source": [
    "pca = PCA(n_components=2)\n",
    "samples = np.array(df)\n",
    "\n",
    "pc1 = pca.fit_transform(samples)\n",
    "vis_x = pc1[:, 0]\n",
    "vis_y = pc1[:, 1]\n",
    "# vis_z = pc1[:, 2]\n",
    "plt.scatter(vis_x, vis_y)\n",
    "plt.show()\n",
    "print(\"Retained variation is \" ,pca.explained_variance_ratio_.cumsum()[1], \"%\")"
   ]
  },
  {
   "cell_type": "markdown",
   "metadata": {},
   "source": [
    "### Elbow chart method to find an optimal k. The above strongly suggests 9 clusters, but that is in the pca reduced dataset."
   ]
  },
  {
   "cell_type": "code",
   "execution_count": 228,
   "metadata": {},
   "outputs": [
    {
     "name": "stdout",
     "output_type": "stream",
     "text": [
      "1\n",
      "2\n",
      "3\n",
      "4\n",
      "5\n",
      "6\n",
      "7\n",
      "8\n",
      "9\n",
      "10\n",
      "11\n",
      "12\n",
      "13\n",
      "14\n"
     ]
    },
    {
     "data": {
      "image/png": "[encoded data removed]",
      "text/plain": [
       "<matplotlib.figure.Figure at 0x10f0e4128>"
      ]
     },
     "metadata": {},
     "output_type": "display_data"
    }
   ],
   "source": [
    "\n",
    "# create new plot and data\n",
    "plt.plot()\n",
    "X = np.array(df)\n",
    "colors = ['b', 'g', 'r']\n",
    "markers = ['o', 'v', 's']\n",
    " \n",
    "# k means determine k\n",
    "distortions = []\n",
    "K = range(1,15)\n",
    "for k in K:\n",
    "    print(k)\n",
    "    kmeanModel = KMeans(n_clusters=k).fit(X)\n",
    "    kmeanModel.fit(X)\n",
    "    distortions.append(sum(np.min(cdist(X, kmeanModel.cluster_centers_, 'euclidean'), axis=1)) / X.shape[0])\n",
    " \n",
    "# Plot the elbow\n",
    "plt.plot(K, distortions, 'bx-')\n",
    "plt.xlabel('k')\n",
    "plt.ylabel('Distortion')\n",
    "plt.title('The Elbow Method showing the optimal k')\n",
    "plt.show()"
   ]
  },
  {
   "cell_type": "markdown",
   "metadata": {},
   "source": [
    "### The above suggest 9 clusters so below I cluster my dataset into 8 using kmeans"
   ]
  },
  {
   "cell_type": "code",
   "execution_count": 234,
   "metadata": {},
   "outputs": [
    {
     "data": {
      "text/plain": [
       "0    1.639713\n",
       "1    1.187169\n",
       "2    1.726419\n",
       "3    1.179668\n",
       "4    1.065889\n",
       "5    1.420142\n",
       "6    1.737431\n",
       "7    2.596881\n",
       "8    1.821847\n",
       "dtype: float64"
      ]
     },
     "execution_count": 234,
     "metadata": {},
     "output_type": "execute_result"
    }
   ],
   "source": [
    "km = KMeans(n_clusters=9).fit(X)\n",
    "kmeans_distances = km.transform(X)\n",
    "kmeans_distances_df = pandas.DataFrame(kmeans_distances)\n",
    "kmeans_distances_df.min()"
   ]
  },
  {
   "cell_type": "markdown",
   "metadata": {},
   "source": [
    "Below are the representitives motifs for each cluster. Not in any particular order. These motifs are the ones with the lowest distance to their centroids."
   ]
  },
  {
   "cell_type": "code",
   "execution_count": 235,
   "metadata": {},
   "outputs": [
    {
     "data": {
      "text/plain": [
       "['tacgcttg',\n",
       " 'cgtataag',\n",
       " 'ctttacgg',\n",
       " 'tacccgtc',\n",
       " 'atacccgg',\n",
       " 'ctataacg',\n",
       " 'atagcccg',\n",
       " 'acgagaac',\n",
       " 'ccgtctat']"
      ]
     },
     "execution_count": 235,
     "metadata": {},
     "output_type": "execute_result"
    }
   ],
   "source": [
    "mins = kmeans_distances_df.idxmin()\n",
    "families = []\n",
    "for index in mins:\n",
    "    families.append(motifs_flagged[index])\n",
    "families"
   ]
  },
  {
   "cell_type": "markdown",
   "metadata": {},
   "source": [
    "Its not hard to beleive that the differences in nucleotides is correlated with differences in proteins expressed. Since these are representitives of different clusters they should have fairly high differences.\n",
    "\n",
    "Below are the Levenshtein distance between motifs strings of the representitives. \n",
    "\n",
    "A value of 0 is the minimum distance while a value of 8 is the maximum distance in this case."
   ]
  },
  {
   "cell_type": "code",
   "execution_count": 236,
   "metadata": {
    "scrolled": false
   },
   "outputs": [
    {
     "data": {
      "text/html": [
       "<div>\n",
       "<style scoped>\n",
       "    .dataframe tbody tr th:only-of-type {\n",
       "        vertical-align: middle;\n",
       "    }\n",
       "\n",
       "    .dataframe tbody tr th {\n",
       "        vertical-align: top;\n",
       "    }\n",
       "\n",
       "    .dataframe thead th {\n",
       "        text-align: right;\n",
       "    }\n",
       "</style>\n",
       "<table border=\"1\" class=\"dataframe\">\n",
       "  <thead>\n",
       "    <tr style=\"text-align: right;\">\n",
       "      <th></th>\n",
       "      <th>tacgcttg</th>\n",
       "      <th>cgtataag</th>\n",
       "      <th>ctttacgg</th>\n",
       "      <th>tacccgtc</th>\n",
       "      <th>atacccgg</th>\n",
       "      <th>ctataacg</th>\n",
       "      <th>atagcccg</th>\n",
       "      <th>acgagaac</th>\n",
       "      <th>ccgtctat</th>\n",
       "    </tr>\n",
       "  </thead>\n",
       "  <tbody>\n",
       "    <tr>\n",
       "      <th>tacgcttg</th>\n",
       "      <td>0</td>\n",
       "      <td>6</td>\n",
       "      <td>6</td>\n",
       "      <td>3</td>\n",
       "      <td>4</td>\n",
       "      <td>6</td>\n",
       "      <td>4</td>\n",
       "      <td>6</td>\n",
       "      <td>5</td>\n",
       "    </tr>\n",
       "    <tr>\n",
       "      <th>cgtataag</th>\n",
       "      <td>6</td>\n",
       "      <td>0</td>\n",
       "      <td>4</td>\n",
       "      <td>7</td>\n",
       "      <td>6</td>\n",
       "      <td>2</td>\n",
       "      <td>6</td>\n",
       "      <td>4</td>\n",
       "      <td>4</td>\n",
       "    </tr>\n",
       "    <tr>\n",
       "      <th>ctttacgg</th>\n",
       "      <td>6</td>\n",
       "      <td>4</td>\n",
       "      <td>0</td>\n",
       "      <td>6</td>\n",
       "      <td>4</td>\n",
       "      <td>3</td>\n",
       "      <td>5</td>\n",
       "      <td>7</td>\n",
       "      <td>6</td>\n",
       "    </tr>\n",
       "    <tr>\n",
       "      <th>tacccgtc</th>\n",
       "      <td>3</td>\n",
       "      <td>7</td>\n",
       "      <td>6</td>\n",
       "      <td>0</td>\n",
       "      <td>3</td>\n",
       "      <td>6</td>\n",
       "      <td>4</td>\n",
       "      <td>5</td>\n",
       "      <td>6</td>\n",
       "    </tr>\n",
       "    <tr>\n",
       "      <th>atacccgg</th>\n",
       "      <td>4</td>\n",
       "      <td>6</td>\n",
       "      <td>4</td>\n",
       "      <td>3</td>\n",
       "      <td>0</td>\n",
       "      <td>5</td>\n",
       "      <td>2</td>\n",
       "      <td>7</td>\n",
       "      <td>7</td>\n",
       "    </tr>\n",
       "    <tr>\n",
       "      <th>ctataacg</th>\n",
       "      <td>6</td>\n",
       "      <td>2</td>\n",
       "      <td>3</td>\n",
       "      <td>6</td>\n",
       "      <td>5</td>\n",
       "      <td>0</td>\n",
       "      <td>4</td>\n",
       "      <td>4</td>\n",
       "      <td>6</td>\n",
       "    </tr>\n",
       "    <tr>\n",
       "      <th>atagcccg</th>\n",
       "      <td>4</td>\n",
       "      <td>6</td>\n",
       "      <td>5</td>\n",
       "      <td>4</td>\n",
       "      <td>2</td>\n",
       "      <td>4</td>\n",
       "      <td>0</td>\n",
       "      <td>5</td>\n",
       "      <td>7</td>\n",
       "    </tr>\n",
       "    <tr>\n",
       "      <th>acgagaac</th>\n",
       "      <td>6</td>\n",
       "      <td>4</td>\n",
       "      <td>7</td>\n",
       "      <td>5</td>\n",
       "      <td>7</td>\n",
       "      <td>4</td>\n",
       "      <td>5</td>\n",
       "      <td>0</td>\n",
       "      <td>5</td>\n",
       "    </tr>\n",
       "    <tr>\n",
       "      <th>ccgtctat</th>\n",
       "      <td>5</td>\n",
       "      <td>4</td>\n",
       "      <td>6</td>\n",
       "      <td>6</td>\n",
       "      <td>7</td>\n",
       "      <td>6</td>\n",
       "      <td>7</td>\n",
       "      <td>5</td>\n",
       "      <td>0</td>\n",
       "    </tr>\n",
       "  </tbody>\n",
       "</table>\n",
       "</div>"
      ],
      "text/plain": [
       "          tacgcttg  cgtataag  ctttacgg  tacccgtc  atacccgg  ctataacg  \\\n",
       "tacgcttg         0         6         6         3         4         6   \n",
       "cgtataag         6         0         4         7         6         2   \n",
       "ctttacgg         6         4         0         6         4         3   \n",
       "tacccgtc         3         7         6         0         3         6   \n",
       "atacccgg         4         6         4         3         0         5   \n",
       "ctataacg         6         2         3         6         5         0   \n",
       "atagcccg         4         6         5         4         2         4   \n",
       "acgagaac         6         4         7         5         7         4   \n",
       "ccgtctat         5         4         6         6         7         6   \n",
       "\n",
       "          atagcccg  acgagaac  ccgtctat  \n",
       "tacgcttg         4         6         5  \n",
       "cgtataag         6         4         4  \n",
       "ctttacgg         5         7         6  \n",
       "tacccgtc         4         5         6  \n",
       "atacccgg         2         7         7  \n",
       "ctataacg         4         4         6  \n",
       "atagcccg         0         5         7  \n",
       "acgagaac         5         0         5  \n",
       "ccgtctat         7         5         0  "
      ]
     },
     "execution_count": 236,
     "metadata": {},
     "output_type": "execute_result"
    }
   ],
   "source": [
    "def motif_similarity(motif_reggex_a, motif_reggex_b, distance_function):\n",
    "    motif_reggex_formated_a = motif_reggex_a.replace(\".\", \"[acgt]?\")\n",
    "    motif_strings_a = list(exrex.generate(motif_reggex_formated_a))\n",
    "    motif_reggex_formated_b = motif_reggex_b.replace(\".\", \"[acgt]?\")\n",
    "    motif_strings_b = list(exrex.generate(motif_reggex_formated_b))\n",
    "    return np.array([[distance_function(a_i, b_i) for b_i in motif_strings_b] for a_i in motif_strings_a]).min()\n",
    "\n",
    "def motif_levenshtein(motif_reggex_a, motif_reggex_b):\n",
    "    return motif_similarity(motif_reggex_a, motif_reggex_b, distance.levenshtein)\n",
    "\n",
    "distances = []\n",
    "for motif_a in families:\n",
    "    distances_motif_a = []\n",
    "    for motif_b in families:\n",
    "        distances_motif_a.append(motif_levenshtein(motif_a, motif_b))\n",
    "    distances.append(distances_motif_a)\n",
    "  \n",
    "pandas.DataFrame(distances, index=families, columns=families)"
   ]
  },
  {
   "cell_type": "code",
   "execution_count": null,
   "metadata": {},
   "outputs": [],
   "source": []
  },
  {
   "cell_type": "code",
   "execution_count": null,
   "metadata": {},
   "outputs": [],
   "source": []
  }
 ],
 "metadata": {
  "kernelspec": {
   "display_name": "Python 3",
   "language": "python",
   "name": "python3"
  },
  "language_info": {
   "codemirror_mode": {
    "name": "ipython",
    "version": 3
   },
   "file_extension": ".py",
   "mimetype": "text/x-python",
   "name": "python",
   "nbconvert_exporter": "python",
   "pygments_lexer": "ipython3",
   "version": "3.6.3"
  }
 },
 "nbformat": 4,
 "nbformat_minor": 2
}
