{
 "cells": [
  {
   "cell_type": "code",
   "execution_count": 1,
   "metadata": {},
   "outputs": [],
   "source": [
    "import pickle\n",
    "import random"
   ]
  },
  {
   "cell_type": "code",
   "execution_count": 2,
   "metadata": {},
   "outputs": [],
   "source": [
    "import pandas\n",
    "import pickle\n",
    "import itertools\n",
    "import re\n",
    "from pg import DB\n",
    "db = DB()"
   ]
  },
  {
   "cell_type": "code",
   "execution_count": 2,
   "metadata": {},
   "outputs": [],
   "source": [
    "db.query(\"\"\"create table mrnas(\n",
    "         ref_id VARCHAR primary key,\n",
    "         three_utr VARCHAR,\n",
    "         shuffled_three_utr VARCHAR\n",
    "        )\"\"\")"
   ]
  },
  {
   "cell_type": "code",
   "execution_count": 9,
   "metadata": {},
   "outputs": [],
   "source": [
    "ref_seq_to_sequence = dict()\n",
    "with open(\"files/3UTR_RefSeq One_record_per_gene\") as f:\n",
    "    firstLine = f.readline()\n",
    "    ref_seq_id = firstLine.split(\" \")[0].split(\"refGene_\")[1]\n",
    "    mRNA = \"\"\n",
    "    for line in f:\n",
    "        if(line.startswith(\">\")):\n",
    "            ref_seq_to_sequence[ref_seq_id] = mRNA\n",
    "            #add to db if not already exist\n",
    "#             if(db.query(\"SELECT * FROM mrnas where ref_id = '\" + ref_seq_id + \"'\").ntuples() == 0):\n",
    "#                 db.insert('mrnas',ref_id=ref_seq_id, three_utr= mRNA)\n",
    "            ref_seq_id = line.split(\" \")[0].split(\"refGene_\")[1]\n",
    "            mRNA = \"\"\n",
    "        else:\n",
    "            mRNA += line[0:len(line)-1]\n",
    "    "
   ]
  },
  {
   "cell_type": "code",
   "execution_count": 4,
   "metadata": {},
   "outputs": [],
   "source": [
    "q = db.query(\"SELECT ref_id FROM mrnas\")"
   ]
  },
  {
   "cell_type": "code",
   "execution_count": 17,
   "metadata": {},
   "outputs": [
    {
     "data": {
      "text/plain": [
       "36658"
      ]
     },
     "execution_count": 17,
     "metadata": {},
     "output_type": "execute_result"
    }
   ],
   "source": [
    "len(ref_seq_to_sequence)"
   ]
  },
  {
   "cell_type": "code",
   "execution_count": 5,
   "metadata": {},
   "outputs": [],
   "source": [
    "# ref_seq_to_shuffled_sequence = dict()\n",
    "window_size = 10\n",
    "i = 0\n",
    "for ref_id_t in q.getresult():\n",
    "    #skip if already defined\n",
    "    ref_id = ref_id_t[0]\n",
    "    if(db.query(\"SELECT ref_id FROM mrnas where ref_id = '\" + ref_id +\"' and shuffled_three_utr != 'NaN'\").ntuples() > 0):\n",
    "        continue\n",
    "#     print(ref_id)\n",
    "#     i += 1\n",
    "#     if(i > 3):\n",
    "#         break\n",
    "    gene = db.query(\"SELECT three_utr FROM mrnas where ref_id = '\" + ref_id + \"'\").getresult()[0][0]\n",
    "    window_size = 10\n",
    "    gene_windows = [gene[i:i+window_size] for i in range(0, len(gene), window_size)]\n",
    "    shuffled_gene = \"\"\n",
    "    for i, geneWindow in enumerate(gene_windows): #shuffling window\n",
    "        l = list(geneWindow)\n",
    "        random.shuffle(l)\n",
    "        shuffled_gene += ''.join(l)\n",
    "#     print(shuffled_gene)\n",
    "    do_not_print = db.query(\"UPDATE mrnas SET shuffled_three_utr = '\" + shuffled_gene + \"' WHERE ref_id  = '\" + ref_id + \"'\")\n",
    "\n",
    "\n",
    "#     ref_seq_to_shuffled_sequence[ref_id] = ''.join(gene_windows) "
   ]
  },
  {
   "cell_type": "code",
   "execution_count": 12,
   "metadata": {},
   "outputs": [
    {
     "data": {
      "text/plain": [
       "{'NM_032291': 'tgaaatcttatgcaaggatttggaggattcatataatggagaactgatgtatgagaaacagattttaattttggtttgatgaaaacaaaccaatatctgcacttgggatatatcaggtggaaagtcaatgactttcatctgtgatttccctcacacactaccatgatgaccagtcctacagtatttacttctaggtgtaatattgttaatggttttaaaatgtaattattgtatttgtaaattgtactctcattccagtaaggcagttagacacttgagttttagcattttaccattcctgaaatggatgtaatttaaactgtggtatgtaaatttaatagtagtattgttgaatggcacaatgcttacagaggtagattgcattttgtcaatatataaaatttaaatataatattgatagctgtcataaagggggtgccacatattaaagaaacttaagtggaaccagaagaaaaagaaacaaacttacttttcttcaatgcttagtatgttttactctagtgctaaataaaaactctatcttcaaatgtttagtgggttaaattgagaaactatttcagaaaaaaattctaaggttacagcatattcaaagaaaagcattagttaccactttttaaaaagcttttttttcaaactgcaaatttcataaaaatgcaaactgtgtaaacagggcctcttatttttataacttgtgtaaaaagggaaagcaattcatatttaaagtttaagtatattaaattataatcaagagtaaagaagatgttgaagtcttaactacttgcccctctctacagtttcgcaaatgtggggattgctgaataatcagtcagactaaaaccaaaattgtgattttaagatttcaagactttccgtagttgaactggttaagaatttttgcttagttactctgaatagatgatcttactcatccagtatgggggaatgatacctcacgtcttcctctttacccacaggaatcaaaacgctgagactgagaattttagggaaaaaaaagtccactgtttagatccagaaggagagttttaatcattgtttatatcatttgagaatgaaaaaataagcttcataaatgaaattctattcacattactgtgtaataaatttccttttggatgattaggattcattgtataaaactgtaaatctttgccattcttggagaagcaaaaggagagttatcaaaaatgtatgtcgtttcatcgttgcaaggtataataaaaactgtaattattcaatctggccctgccatatgaacatttagaaagacaaacttcttcgggagtctcagttgtaaaaccttccctcattaatatctgaaaatgttagtcttcctttaagtcatagaacttatttaaacataaaccaatttctattacaggttatgctattaaatagctgtaattattaagttattatttttataattagttgttaaatttcattttacacccactcaaatttaacaaagaatctttagcccctttaaattttagaattaaattaaatttttaaagttttacttctaaaatgagattgtgactggcaattgtttatagtgaaactttttaaattaatctttgtactcctctatcagtgcttgctaccaagagaatgtccaaaatgatttgttttaccatgggaaaattcttactattcaacaaactctcagttggccccctacagcagtctggtgttgaagtttctttgaacgaactaaatatactcattttatgtaaaggtatccaatttgattttgaaaccaaaatagaaaatgcaaaattctaaattccatgaaacatggaatttatgacaccaaaatcaatggagagtaagcagcagcaaactgagaattatccagcatatgaatataacaatgtgtttttaagtaatcaattcatttaaaaaattgaatattaatacaaagcatattaaaaacatgtaaatatta'}"
      ]
     },
     "execution_count": 12,
     "metadata": {},
     "output_type": "execute_result"
    }
   ],
   "source": [
    "ref_seq_to_shuffled_sequence"
   ]
  },
  {
   "cell_type": "code",
   "execution_count": 27,
   "metadata": {},
   "outputs": [
    {
     "data": {
      "text/plain": [
       "['gtgggcctcg',\n",
       " 'ttccccccgg',\n",
       " 'agaatcccag',\n",
       " 'cggggcctca',\n",
       " 'gagatgcatc',\n",
       " 'tgggagaggt',\n",
       " 'ggggaagatg',\n",
       " 'gcaggcaagg',\n",
       " 'gtacccttgg',\n",
       " 'ccaggactct',\n",
       " 'ggtgcccacc',\n",
       " 'ctgccacccc',\n",
       " 'cgcgctccac',\n",
       " 'ctgcagtgtt',\n",
       " 'tctgccctgt',\n",
       " 'aaataggacc',\n",
       " 'agtcttacac',\n",
       " 'tcgctgtagt',\n",
       " 'tcaagtatgc',\n",
       " 'aacataaatc',\n",
       " 'ctgttccttc',\n",
       " 'ca']"
      ]
     },
     "execution_count": 27,
     "metadata": {},
     "output_type": "execute_result"
    }
   ],
   "source": [
    "window_size = 10\n",
    "geneWindows = [gene[i:i+n] for i in range(0, len(gene), n)]\n",
    "geneWindows"
   ]
  },
  {
   "cell_type": "code",
   "execution_count": 35,
   "metadata": {},
   "outputs": [],
   "source": [
    "import random\n",
    "for i, geneWindow in enumerate(geneWindows): #shuffling window\n",
    "    l = list(geneWindow)\n",
    "    random.shuffle(l)\n",
    "    geneWindows[i] = ''.join(l) "
   ]
  },
  {
   "cell_type": "code",
   "execution_count": 36,
   "metadata": {},
   "outputs": [
    {
     "data": {
      "text/plain": [
       "['gctgctgggc',\n",
       " 'ctcctcggcc',\n",
       " 'caatgcacag',\n",
       " 'ctgggcacgc',\n",
       " 'atcacggtga',\n",
       " 'ggggatatgg',\n",
       " 'ggggggtaaa',\n",
       " 'gggcggcaaa',\n",
       " 'gcgtctgtac',\n",
       " 'cgtcagtcca',\n",
       " 'cacggcccgt',\n",
       " 'cccagccctc',\n",
       " 'acccctgccg',\n",
       " 'gttagctctg',\n",
       " 'ccttgcgtct',\n",
       " 'gacataagca',\n",
       " 'tctcctaaga',\n",
       " 'tttcggctga',\n",
       " 'gtcagatact',\n",
       " 'cctaaaaata',\n",
       " 'tctttcgctc',\n",
       " 'ac']"
      ]
     },
     "execution_count": 36,
     "metadata": {},
     "output_type": "execute_result"
    }
   ],
   "source": [
    "geneWindows"
   ]
  }
 ],
 "metadata": {
  "kernelspec": {
   "display_name": "Python 3",
   "language": "python",
   "name": "python3"
  },
  "language_info": {
   "codemirror_mode": {
    "name": "ipython",
    "version": 3
   },
   "file_extension": ".py",
   "mimetype": "text/x-python",
   "name": "python",
   "nbconvert_exporter": "python",
   "pygments_lexer": "ipython3",
   "version": "3.6.3"
  }
 },
 "nbformat": 4,
 "nbformat_minor": 2
}
