{
 "cells": [
  {
   "cell_type": "code",
   "execution_count": 1,
   "metadata": {},
   "outputs": [],
   "source": [
    "from os import listdir\n",
    "import pandas\n",
    "import re\n",
    "import pickle"
   ]
  },
  {
   "cell_type": "code",
   "execution_count": 2,
   "metadata": {},
   "outputs": [],
   "source": [
    "motif_scores_file_names = listdir(\"files/motif_scores/\")\n",
    "min_sample_size = 2\n",
    "max_sample_size = 500"
   ]
  },
  {
   "cell_type": "markdown",
   "metadata": {},
   "source": [
    "### Seperating Motifs and their scores into files according to the size of their subgraphs "
   ]
  },
  {
   "cell_type": "code",
   "execution_count": null,
   "metadata": {},
   "outputs": [],
   "source": [
    "%%time\n",
    "for size in range(min_sample_size, max_sample_size + 1):\n",
    "    print(size)\n",
    "    motifs_of_size = db.query(\"Select motif_string, average_score, tt_average_score from motif_average_scores where proteins_length = \" + str(size)).getresult()\n",
    "    shuffled_motifs_of_size = db.query(\"Select motif_string, shuffled_average_score, tt_shuffled_average_score from motif_average_scores where proteins_length = \" + str(size)).getresult()\n",
    "    pickle.dump( motifs_of_size,open( \"files/intermediates/motifs_to_size/motifs_of_size\" + str(size) + \".pkl\", \"wb\" ) )\n",
    "    pickle.dump( shuffled_motifs_of_size,open( \"files/intermediates/motifs_to_size/shuffled_motifs_of_size\" + str(size) + \".pkl\", \"wb\" ) )\n"
   ]
  }
 ],
 "metadata": {
  "kernelspec": {
   "display_name": "Python 3",
   "language": "python",
   "name": "python3"
  },
  "language_info": {
   "codemirror_mode": {
    "name": "ipython",
    "version": 3
   },
   "file_extension": ".py",
   "mimetype": "text/x-python",
   "name": "python",
   "nbconvert_exporter": "python",
   "pygments_lexer": "ipython3",
   "version": "3.6.3"
  }
 },
 "nbformat": 4,
 "nbformat_minor": 2
}
