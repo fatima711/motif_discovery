{
 "cells": [
  {
   "cell_type": "code",
   "execution_count": 9,
   "metadata": {},
   "outputs": [],
   "source": [
    "import pickle\n",
    "import random"
   ]
  },
  {
   "cell_type": "markdown",
   "metadata": {},
   "source": [
    "The following code snippet will make a dictionary of ref sequence to gene symbol"
   ]
  },
  {
   "cell_type": "code",
   "execution_count": 1,
   "metadata": {},
   "outputs": [],
   "source": [
    "protein_name_to_ref_seq = {}\n",
    "with open(\"files/kgXref23Jan2013\") as f:\n",
    "    for line in f:\n",
    "        geneSymbol = line.split(\"\\t\")[4]\n",
    "        refSeq     = line.split(\"\\t\")[5]  \n",
    "        if (geneSymbol.isspace() != True and refSeq.startswith(\"NM\") == True):\n",
    "            protein_name_to_ref_seq[geneSymbol] = refSeq"
   ]
  },
  {
   "cell_type": "markdown",
   "metadata": {
    "collapsed": true
   },
   "source": [
    "The following snippet just prints out the first 20 pairs to visiually inspect"
   ]
  },
  {
   "cell_type": "code",
   "execution_count": 2,
   "metadata": {},
   "outputs": [
    {
     "data": {
      "text/plain": [
       "{'AGRN': 'NM_198576',\n",
       " 'ATAD3A': 'NM_001170536',\n",
       " 'ATAD3B': 'NM_031921',\n",
       " 'ATAD3C': 'NM_001039211',\n",
       " 'B3GALT6': 'NM_080605',\n",
       " 'GLTPD1': 'NM_001029885',\n",
       " 'ISG15': 'NM_005101',\n",
       " 'KLHL17': 'NM_198317',\n",
       " 'MIB2': 'NM_001170687',\n",
       " 'MMP23B': 'NM_006983',\n",
       " 'OR4F16': 'NM_001005277',\n",
       " 'OR4F5': 'NM_001005484',\n",
       " 'PLEKHN1': 'NM_032129',\n",
       " 'PUSL1': 'NM_153339',\n",
       " 'SAMD11': 'NM_152486',\n",
       " 'SCNN1D': 'NM_001130413',\n",
       " 'TAS1R3': 'NM_152228',\n",
       " 'TMEM88B': 'NM_001146685',\n",
       " 'TTLL10': 'NM_001130045',\n",
       " 'VWA1': 'NM_199121'}"
      ]
     },
     "execution_count": 2,
     "metadata": {},
     "output_type": "execute_result"
    }
   ],
   "source": [
    "first2pairs = {k: protein_name_to_ref_seq[k] for k in list(protein_name_to_ref_seq)[:20]}\n",
    "first2pairs"
   ]
  },
  {
   "cell_type": "markdown",
   "metadata": {},
   "source": [
    "The next code snippet will just check how many lines contain ref sequence IDs and gene symbols"
   ]
  },
  {
   "cell_type": "code",
   "execution_count": 3,
   "metadata": {},
   "outputs": [],
   "source": [
    "bad_ref_Seq_count = good_ref_Seq_count = bad_gene_symbol_count = good_gene_symbol_count = 0\n",
    "good_pairs = bad_pairs = 0\n",
    "foo = 100\n",
    "i = 0;\n",
    "with open(\"files/kgXref23Jan2013\") as f:\n",
    "    for line in f:\n",
    "        geneSymbol = line.split(\"\\t\")[4]\n",
    "        refSeq     = line.split(\"\\t\")[5]         \n",
    "        if(geneSymbol.isspace() == True):\n",
    "            bad_gene_symbol_count += 1\n",
    "        else:\n",
    "            good_gene_symbol_count += 1\n",
    "        if(refSeq.startswith(\"NM\")):\n",
    "            good_ref_Seq_count += 1 \n",
    "        else:\n",
    "            bad_ref_Seq_count += 1\n",
    "        if (geneSymbol.isspace() != True and refSeq.startswith(\"NM\")):\n",
    "            good_pairs += 1 \n",
    "        else:\n",
    "            bad_pairs += 1"
   ]
  },
  {
   "cell_type": "code",
   "execution_count": 4,
   "metadata": {},
   "outputs": [
    {
     "name": "stdout",
     "output_type": "stream",
     "text": [
      "number of lines with valid gene Symbol  80923\n",
      "number of lines with invalid gene Symbol  0\n",
      "number of lines with valid ref seq ID  51094\n",
      "number of lines with invalid ref seq ID   29829\n",
      "number of lines with valid pair  51094\n",
      "number of lines with invalid pair  29829\n"
     ]
    }
   ],
   "source": [
    "print(\"number of lines with valid gene Symbol \" , good_gene_symbol_count) \n",
    "print(\"number of lines with invalid gene Symbol \" , bad_gene_symbol_count) \n",
    "print(\"number of lines with valid ref seq ID \" , good_ref_Seq_count) \n",
    "print(\"number of lines with invalid ref seq ID  \" , bad_ref_Seq_count) \n",
    "print(\"number of lines with valid pair \" , good_pairs) \n",
    "print(\"number of lines with invalid pair \" , bad_pairs) "
   ]
  },
  {
   "cell_type": "code",
   "execution_count": 5,
   "metadata": {},
   "outputs": [],
   "source": [
    "ref_seq_to_sequence = dict()\n",
    "with open(\"files/3UTR_RefSeq One_record_per_gene\") as f:\n",
    "    firstLine = f.readline()\n",
    "    ref_seq_id = firstLine.split(\" \")[0].split(\"refGene_\")[1]\n",
    "    mRNA = \"\"\n",
    "    for line in f:\n",
    "        if(line.startswith(\">\")):\n",
    "            ref_seq_to_sequence[ref_seq_id] = mRNA\n",
    "            ref_seq_id = line.split(\" \")[0].split(\"refGene_\")[1]\n",
    "            mRNA = \"\"\n",
    "        else:\n",
    "            mRNA += line[0:len(line)-1]"
   ]
  },
  {
   "cell_type": "code",
   "execution_count": 7,
   "metadata": {},
   "outputs": [],
   "source": [
    "pickle.dump(ref_seq_to_sequence, open( \"files/intermediates/ref_seq_to_sequence.pkl\", \"wb\" ))"
   ]
  },
  {
   "cell_type": "code",
   "execution_count": 27,
   "metadata": {},
   "outputs": [
    {
     "data": {
      "text/plain": [
       "{'NM_032291': 'tgaaatcttatgcaaggatttggaggattcatataatggagaactgatgtatgagaaacagattttaattttggtttgatgaaaacaaaccaatatctgcacttgggatatatcaggtggaaagtcaatgactttcatctgtgatttccctcacacactaccatgatgaccagtcctacagtatttacttctaggtgtaatattgttaatggttttaaaatgtaattattgtatttgtaaattgtactctcattccagtaaggcagttagacacttgagttttagcattttaccattcctgaaatggatgtaatttaaactgtggtatgtaaatttaatagtagtattgttgaatggcacaatgcttacagaggtagattgcattttgtcaatatataaaatttaaatataatattgatagctgtcataaagggggtgccacatattaaagaaacttaagtggaaccagaagaaaaagaaacaaacttacttttcttcaatgcttagtatgttttactctagtgctaaataaaaactctatcttcaaatgtttagtgggttaaattgagaaactatttcagaaaaaaattctaaggttacagcatattcaaagaaaagcattagttaccactttttaaaaagcttttttttcaaactgcaaatttcataaaaatgcaaactgtgtaaacagggcctcttatttttataacttgtgtaaaaagggaaagcaattcatatttaaagtttaagtatattaaattataatcaagagtaaagaagatgttgaagtcttaactacttgcccctctctacagtttcgcaaatgtggggattgctgaataatcagtcagactaaaaccaaaattgtgattttaagatttcaagactttccgtagttgaactggttaagaatttttgcttagttactctgaatagatgatcttactcatccagtatgggggaatgatacctcacgtcttcctctttacccacaggaatcaaaacgctgagactgagaattttagggaaaaaaaagtccactgtttagatccagaaggagagttttaatcattgtttatatcatttgagaatgaaaaaataagcttcataaatgaaattctattcacattactgtgtaataaatttccttttggatgattaggattcattgtataaaactgtaaatctttgccattcttggagaagcaaaaggagagttatcaaaaatgtatgtcgtttcatcgttgcaaggtataataaaaactgtaattattcaatctggccctgccatatgaacatttagaaagacaaacttcttcgggagtctcagttgtaaaaccttccctcattaatatctgaaaatgttagtcttcctttaagtcatagaacttatttaaacataaaccaatttctattacaggttatgctattaaatagctgtaattattaagttattatttttataattagttgttaaatttcattttacacccactcaaatttaacaaagaatctttagcccctttaaattttagaattaaattaaatttttaaagttttacttctaaaatgagattgtgactggcaattgtttatagtgaaactttttaaattaatctttgtactcctctatcagtgcttgctaccaagagaatgtccaaaatgatttgttttaccatgggaaaattcttactattcaacaaactctcagttggccccctacagcagtctggtgttgaagtttctttgaacgaactaaatatactcattttatgtaaaggtatccaatttgattttgaaaccaaaatagaaaatgcaaaattctaaattccatgaaacatggaatttatgacaccaaaatcaatggagagtaagcagcagcaaactgagaattatccagcatatgaatataacaatgtgtttttaagtaatcaattcatttaaaaaattgaatattaatacaaagcatattaaaaacatgtaaatatta',\n",
       " 'NM_052998': 'gtgggcctcgttccccccggagaatcccagcggggcctcagagatgcatctgggagaggtggggaagatggcaggcaagggtacccttggccaggactctggtgcccaccctgccacccccgcgctccacctgcagtgtttctgccctgtaaataggaccagtcttacactcgctgtagttcaagtatgcaacataaatcctgttccttcca'}"
      ]
     },
     "execution_count": 27,
     "metadata": {},
     "output_type": "execute_result"
    }
   ],
   "source": [
    "first2pairs = {k: ref_seq_to_sequence[k] for k in list(ref_seq_to_sequence)[:2]}\n",
    "first2pairs"
   ]
  },
  {
   "cell_type": "code",
   "execution_count": 10,
   "metadata": {},
   "outputs": [],
   "source": [
    "%%time\n",
    "ref_seq_to_shuffled_sequence = dict()\n",
    "window_size = 10\n",
    "for ref_seq_id in ref_seq_to_sequence:\n",
    "    gene = ref_seq_to_sequence[ref_seq_id]\n",
    "    window_size = 10\n",
    "    gene_windows = [gene[i:i+window_size] for i in range(0, len(gene), window_size)]\n",
    "    shuffled_gene = \"\"\n",
    "    for i, geneWindow in enumerate(gene_windows): #shuffling window\n",
    "        l = list(geneWindow)\n",
    "        random.shuffle(l)\n",
    "        shuffled_gene += ''.join(l)\n",
    "    ref_seq_to_shuffled_sequence[ref_seq_id] = shuffled_gene\n"
   ]
  },
  {
   "cell_type": "code",
   "execution_count": 12,
   "metadata": {},
   "outputs": [],
   "source": [
    "pickle.dump(ref_seq_to_shuffled_sequence, open( \"files/intermediates/ref_seq_to_shuffled_sequence.pkl\", \"wb\" ))"
   ]
  },
  {
   "cell_type": "code",
   "execution_count": 28,
   "metadata": {},
   "outputs": [
    {
     "data": {
      "text/plain": [
       "{'NM_032291': 'gtctatataaagcgtgatatatgaggcgtttaaaaattggtggcaaattgaaaagcatagttttatatagttattgtgtgaaaaacaagcctcagtatcaatggttgcaagacagtggttgatcaaaatgtttacctactcgatctgttcatcccaactaatgctagccattgcaaacccttagtatcttgttagtagcatttaaagtttttatatagagtgtttatatatgttaattagatttacgttctacgcttaacgtcgtggaaatagcaagcttttaattttcgtcaattctccaagagtgagttaatcttaaagtgtgtgattaaattaatatttgtgattgatataggaccgctacattagaagatagggtttatttcgcgtaatatataaaattataaattaaagttttaagccagttaatatgggcggcgaaaatacttaacagatgaatgacgaaactgaaaaagagaacatcaacatatatctattctggtaattttctatgttttccgctgataataaaatcaatcaaatagttccttgaggtttgtttaaaaaggttcaactattataataaaagatcgtaactgactaaagtatcgaaaagaacactttgaatactattaacattttgattttctgacaatccatactattaaatcacaaaagatagctaattgagattgctgccattttttacaaaattatggtaaagcgaaggctaaattttttatagtaagattttaaaaatactataaagtagataaggaatgtatatggaaacttcattcccttcccgcttggttaccataaggtgtcgaagtgagattcacgactaattaccaaagcatagtgaataatgttttatataccatttgtaataccgatggtcttaatgaggtttttactagtaattcgtctaaaaggagtttatcttctcaggtaaccgtgcaagtgaagtccctttagctactcttctccgagcaaactcgatgacaaacggtgaataacaggaagtatttacaaaagactatagttcgtcgacaagggatatttctagatattatagttactttaggataaaaatgaatgtatcactaaattgcataaaattccatattttgatacgataattctcattgtatgatttgtgaacgatttataattaacgactgtatattccctgtgtatgaaaacaggaaataggagtgattaaatcgatacgttgcttacttcgagtaagatagaattcgaaattaattttctaactatgcggcaccctaatctgataagtaagacaattacgacttcgattgacgcgacaatctagttttcctatcctaagatacattaacatgtgtagcctttttaaatagcttacaacaatatttacatataatcactttcagatgcgtttttaaaagtcaatgtttaaatatatttatagtttttagttatataagtttaatttactcttattacaccctacaagaataaacttttactgatcatctaactctatgatataattataaaatttttttaatattgattcacaatatttggggaattggtaaatccggtattagttataatcttattattcattaactctactgtctgcagctattctagtgccaaacacgtagatattattgaagtgctattctacagaaatttgtttcaacaattacaatcaccctggcgctccagctcgatcaaggtggtattcttggtttataacatcaaagaattcttcataaagagtttttatgaccttattatttaggaacagcataaaaacgaaaaatcatatatatttcacaacagaaagttttgtacagaacacaagaatacggtaaacagagcgtagaccgtagaagttatccaaaaaacatgtttgatagacattagtttatatttaatcaatcaattttaaaatagatttaaaaagaacaactcatattaaaagaattaatat',\n",
       " 'NM_052998': 'gtcggctggccccgccgcttcgatcgaaacctcccgggagagaggcctatgagtggatgggggggataagagagagcgcggccatggctttctcacggaccgtagcccgcccctccgcacccacctgccggcagctttgtctccttggctacatcaggaaagcctatcatagtttcgtgctcaattcggaaaattaaaccttgctttcccca'}"
      ]
     },
     "execution_count": 28,
     "metadata": {},
     "output_type": "execute_result"
    }
   ],
   "source": [
    "first2pairs = {k: ref_seq_to_shuffled_sequence[k] for k in list(ref_seq_to_shuffled_sequence)[:2]}\n",
    "first2pairs"
   ]
  },
  {
   "cell_type": "markdown",
   "metadata": {},
   "source": [
    "The following snippet just prints out the first 20 pairs to visiually inspect"
   ]
  },
  {
   "cell_type": "code",
   "execution_count": 29,
   "metadata": {},
   "outputs": [
    {
     "name": "stdout",
     "output_type": "stream",
     "text": [
      "['caagtcaaat', 'tgtacttgat', 'cctgctgaaa', 'tacatctgca']\n",
      "['acacaatgta', 'attgatgttc', 'gttcgccaaa', 'cacttatagc']\n"
     ]
    }
   ],
   "source": [
    "Example_before = ref_seq_to_sequence['NM_001001740']\n",
    "Example_before_windows = [Example_before[i:i+window_size] for i in range(0, len(Example_before), window_size)]\n",
    "Example_after = ref_seq_to_shuffled_sequence['NM_001001740']\n",
    "Example_after_windows = [Example_after[i:i+window_size] for i in range(0, len(Example_after), window_size)]\n",
    "print(Example_before_windows[1:5])\n",
    "print(Example_after_windows[1:5])"
   ]
  },
  {
   "cell_type": "markdown",
   "metadata": {},
   "source": [
    "The cell below retreives all of the protein names from a file and stores in a list"
   ]
  },
  {
   "cell_type": "code",
   "execution_count": 30,
   "metadata": {},
   "outputs": [
    {
     "data": {
      "text/plain": [
       "3526"
      ]
     },
     "execution_count": 30,
     "metadata": {},
     "output_type": "execute_result"
    }
   ],
   "source": [
    "proteinsFound = []\n",
    "with open(\"files/ProteinsNames.txt\") as f:\n",
    "    for line in f:\n",
    "        if(line.strip() in protein_name_to_ref_seq):\n",
    "            proteinsFound.append(line.strip())\n",
    "len(proteinsFound) #show how many proteins was retreved form list"
   ]
  },
  {
   "cell_type": "markdown",
   "metadata": {},
   "source": [
    "The cell bellow will associate a protein to the 3'UTR of the mRNA which translates into that protein"
   ]
  },
  {
   "cell_type": "code",
   "execution_count": 31,
   "metadata": {},
   "outputs": [],
   "source": [
    "protein_to_sequence = dict()\n",
    "protein_to_shuffled_sequence = dict()\n",
    "for protein in proteinsFound:\n",
    "    ref_id = protein_name_to_ref_seq[protein]\n",
    "    if(ref_id in ref_seq_to_sequence):\n",
    "        sequence = ref_seq_to_sequence[ref_id]\n",
    "        shuffled_sequence = ref_seq_to_shuffled_sequence[ref_id]\n",
    "        protein_to_sequence[protein] = sequence\n",
    "        protein_to_shuffled_sequence[protein] = shuffled_sequence"
   ]
  },
  {
   "cell_type": "markdown",
   "metadata": {},
   "source": [
    "The following snippet just prints out the first 20 pairs to visiually inspect"
   ]
  },
  {
   "cell_type": "code",
   "execution_count": 32,
   "metadata": {},
   "outputs": [
    {
     "data": {
      "text/plain": [
       "{'ABCB7': 'gtcacataagacattttctttttttgttgttttggactacatatttgcactgaagcagaattgttttattaaaaaaatcatacattcccattttctataatccttcttttagataagatttatttaaaaggggatttgagttttacatctttcatagtctatttaatgtggcatctgtatttatccccaaattatttt',\n",
       " 'DHX30': 'gccctgcttctgctggggctgtgtacagagtgcaaatgtttatttaaaataaagttctatttatcccttgtgacca',\n",
       " 'SLC30A9': 'gtttgatggaatgaatcacctgggtggggaccttggaaacaagtttgtccgtccactctacaaagtttcctcctctcctacactgaaagactcagtgccatgcagaagccttttttttaagatgaaggaaatattttatgtaaagagcaactcagcaggacacagaactaaaactactacttacatctaacagacacactacaagttgaatcaatttgaaaatcatgtttttatgcttccatagggaacattttggttatttaaattgttcataatgtcccatatttcacctgttcagtgtatactgtactttgcaatcatctttccttttttcacattggtaaaaataagtggcatccataggatcatgatttttaatttgttgcctctgaagatttcactccatcaagatctgccaatcttcaatattctggctaaatcttggtatgtggtttttaaacagtcactccgtttcaaagtctgtctttccttatagaatgtggaaattatttctccataccttgtgattttgacctgagtgctaagagaatcactctccttacctagttatctacaaatgttcattccagaaatgtttagttactgaattgaatgaagacatctcagtacactcttttaggtcatagtagttgccattttgtaaaatttcttttttcttctttgcttttttccccttatttggtttaatttttctaatgttaggagatatagtcctagatatttccatgggccagtgtgatgacttttttttaaatgaggttcagtaccataatgtttatttactggaagataatgcatttataagcattttaaaattctgtaaagtgggttagaaatatttataattttacaggcaggacagcatttgacttttatttaaaaggcggcactacttatgtaaatctgagctgtgggatatttcttgctttaagagagagacagaatctctcactgaaactcatggtcatgattttgtataatatagttcatactgtgtctgtgagtttcttcagttacaaatgggcatttagtatagttatattgactataacatgtaagtaaatagctttctactgaccctaagttatcaaggtggaaaaaaaacatgcaattcagtaattgaaaatgtggtgaaaagctgcagctgtcatcatcaaaacaactcataacatactttaaaatgttcaggtagcagtgagcattgttcatatgagaatggcggctgggtgatctctttgctgaattaatgagttcttaacatgtggacccaactgcctgtgtgagatctgtgtcttaaaacttactggaatggaaatctatgaattattgcaaattgtaatgctggaaacaaaaaataaatccttggttaaagggtttgtaatggtga'}"
      ]
     },
     "execution_count": 32,
     "metadata": {},
     "output_type": "execute_result"
    }
   ],
   "source": [
    "first2pairs = {k: protein_to_sequence[k] for k in list(protein_to_sequence)[:3]}\n",
    "first2pairs"
   ]
  },
  {
   "cell_type": "code",
   "execution_count": 33,
   "metadata": {},
   "outputs": [
    {
     "data": {
      "text/plain": [
       "{'ABCB7': 'aacttcggaatttattctcattttgtgttttttaccagtgaacttcagtttgcagagaaattttttgttaatacaaaaaaatactctccaatctttatattttctctcttaatgattaagtaaataattggatgtagtggttttacattcattgtcttactagagatttttcttgtgaacacaactcctttattattt',\n",
       " 'DHX30': 'tcctcgcctgtggttccggggtgaagtgcataaattggtcattaattaatctataattagattcgtctctgccata',\n",
       " 'SLC30A9': 'gggttatgatcccaaatagtgatggggtggccagttacgatcttcgatagcctatcgatctatatcacgctccctattccacgactagaatccgaacctggagagcctcaaattttttttggaggaaatatgattaatttaaagatcgaagcatcgagcagcaaaaaccttaatcaccaaattccttaaaatagcccacatagaagaatctaatagttactactatgttatatcttctcgaggacagaattgttattgttaattttttgatacatcgcattcttacatcagttaggctctttatctcagaatgttctaacctttttctctcgatatctttatagaaataagacgacttcggttcggaaattttaattatttcgctcgtttgcatagttaaatacccagctaatgtcactctaatcattctccagattgtatctgtgttgattattgaagtagacttccccgcatattagtgctttttccctgatgtaaataatttggaattcactctcatattttggcttggagctattctaagaaaggcctcttcacctctatgttaacatcgtataacttctgaatccatttggaaatttttagatacacataagaggtaccatgtcacttgaatttctcgatgagatttctttgcataaagacttttttttttcttctttttgctttcttcctactttgttagttattaatttttgcaaagttaggtgctaatgatcctgcaatttgtcgtgagacgtcgttattttattaagaggtttgactcacagttattatatatgtcgagatttagaactattgacaatttaatcttaaattggtatagaggaaaatgttattatttttaatcaaggcagaggcattcaatgtttttctaatgcaagacgaggcttatattcaagtcatacgatgttgaggttcttcttgttaaagagaggatagccaatcttacaacatgcgctacatgtgaattttattggtaaatactttccttggttatggctatgttgattctaacagatggcatttttatgtaaagaactttatgtataacgataggtaatttacaaattgccctcgattctactagaaaatgggaaaaccataagatgcattaaataattagatggacggtaaagggctatctgctatacaacaacaacaatcataatccatattgtgaaatcgttggatacggatcacattttgaaatgtaggggcggggtgctcacttcgtttgttataaagtctacattgtaggcctatgacacattcgtgcaggtattggcttgaacaattataggctcattcttaggaaaatggtttataatcgtataaatgatgaacgcaaataaaaaatgttctatcgtaggggatttatggatga'}"
      ]
     },
     "execution_count": 33,
     "metadata": {},
     "output_type": "execute_result"
    }
   ],
   "source": [
    "first2pairs = {k: protein_to_shuffled_sequence[k] for k in list(protein_to_shuffled_sequence)[:3]}\n",
    "first2pairs"
   ]
  },
  {
   "cell_type": "markdown",
   "metadata": {},
   "source": [
    "The cell bellow will save our protein to sequence in a python fiendly file"
   ]
  },
  {
   "cell_type": "code",
   "execution_count": 34,
   "metadata": {},
   "outputs": [],
   "source": [
    "pickle.dump(protein_to_sequence, open( \"files/intermediates/proteins_to_sequences.pkl\", \"wb\" ))\n",
    "pickle.dump(protein_to_shuffled_sequence, open( \"files/intermediates/proteins_to_shuffled_sequences.pkl\", \"wb\" ))"
   ]
  },
  {
   "cell_type": "markdown",
   "metadata": {},
   "source": [
    "The cell bellow will just load the file, we just saves just to inspect and make sure it was correctly saved"
   ]
  },
  {
   "cell_type": "code",
   "execution_count": 36,
   "metadata": {},
   "outputs": [
    {
     "data": {
      "text/plain": [
       "{'ABCB7': 'gtcacataagacattttctttttttgttgttttggactacatatttgcactgaagcagaattgttttattaaaaaaatcatacattcccattttctataatccttcttttagataagatttatttaaaaggggatttgagttttacatctttcatagtctatttaatgtggcatctgtatttatccccaaattatttt',\n",
       " 'ACOT1': 'attttatttgatcatgtggcctctctgttgctaatctctcctggaaacatctgccacatttagtgtgtgtatgtgtattcattctttctcataacttcttaaagtttcttcccctcattattaaaatgaatttaccagt',\n",
       " 'AFG3L2': 'aggcccagagggaggccatctcagtctgtccactgtggtttcagctggtgcattatttcagctgtggctttcagaagaatgggaatgctgcgctgattttagccagccactggcccagctgaaatgatggggaaaggagtccttagtcctttcagcctcagaggtcacagtgggtggcaggtgactttccggaggccttgagggaaatgcacactgtcccatagcctcattgggctcccagacgtgctggaaaggttgagcccagagtggccgaggctggaccctgtggcaccaagtggggtcggctgaccgtgtggcagggatcgttgcactggactcttggcgtgtgggaagggatgctttctctttgtcgcccactcttcattcctgtttctcctcagttcccctgtgcagatgggctgtgaaattaaattggagtcttgataagaacattttaatttgacttaatattttaaagattgaatccagatcacttgttgctgtcttaatggaatggttttctacaggagctgtaacatacttaaaaatatgaatgtattatgtaaatatggcttctttacataaaaaataaaatgtcaacactgtacttttctgaacaca',\n",
       " 'ATP5B': 'ggggtctttgtcctctgtactgtctctctccttgcccctaacccaaaaagcttcatttttctgtgtaggctgcacaagagccttgattgaagatatattctttctgaacagtatttaaggtttccaataaaatgtacacccctcagaa',\n",
       " 'ATPAF1': 'aactgtacaggttggcccttcacctagttgactcagccctcgatagtctagagcccaccccctcctcaggaactcaagagctcagcatttataatgagcagttggtaatgagttgccctatgtgcttgtcgcaagcagtcacagagatgagccctattacttgatattcaggaacaaaggtacctgaacattctgataattatctcagcatacttgaggtttccttttttaagtgttcgaggttataacaagagacagccaaggacctacaagacagttgacttgattttgcacagtgtaacagcgcagttgcattctggccactttgaccttatagctcccaaatgatgagtttgtcatctttatgaactcatgacaggataataagcttgaagacctgctgtagttagatatgggctttaatccttcccaggcaccagtcagctgaacaaaagcataagccaaacatcctgtttaaactgtagaataaccagatattcccatcaggttaaagacttcatctagatgatgccccccagagatgcctttagtgtaagtagctggcttggggtatcagcaaatttcaggtatagttagataaacaggtacagggcctgcatactattaaaccatagtttgtggcacccgcttttctaactccacctgttagaagctatgtgtttgaaggaatgaatcagtgcagtataaataaaattcttttgtaaggagaagattaa',\n",
       " 'DHX30': 'gccctgcttctgctggggctgtgtacagagtgcaaatgtttatttaaaataaagttctatttatcccttgtgacca',\n",
       " 'ERAL1': 'ccaccctctactgaccctcccagggcattccagctcaagctgctggcaggaactgaccagttctgtccttggctggggaccctccaggcactggtgagagacatgaacactgactggccactagctggcctggccctgttgagtctgcacagtccctgcccagctgtgtcttctgttggaagaaggaacctgccttagctcagtttccaggtggttcctctgcctggcaccacagctacaaaggtgtagctaagaagatggcccattggtgggagcaatgtcaccctgcctccagctagctatgggcccagagtttctccctgagtcgctgttgctagcagggagatttctcttcctgccctcacttctttcaccttgaacttggataagaactcgtgtctcctgagtgaggtagcgcctcccatctgctccccaattcttgatctctcccaccccatccctctccccagtcttggatactaataaaatataagcattctg',\n",
       " 'ETFA': 'atcaggatcatgccttaaaaagaaaacttttgttaaagtattccactgaaatcacagatatttgtgggtattataacaatcattggaaagcatggagagctacatttcataatttgagggaaaatttctaacagatgccagaatgcttgtttatgggattgctgtgtttccttttaattatttgtggttccaaacaattattgtttgaactttttaaattctgtactaaaatctataataaagcttttccacagctttaaaactatcagaa',\n",
       " 'GLUD1': 'atggatcatggctgacttcctcactatcctcttcacatgtaacttctgcagacctatcacaagtttacatgtaaccacagaaatccctttctctcctgactcattaataatggataccattctcaacaagtcaatccaagtcagcccgttaaggagaaagaaattaaggttagcggatcatgtacaagctgagtgtgaaagtagaaatcacctacaccagagagccattttggtattttgcctttaaataaaaagcctcctttatctggctgtgcagccttgctctgtggcttttcccaacacaatcagtgctagtgctggggaggaacagtcaagagcagtcagttgcttgcttattttttctggatgagtctgggacacactgtaactttaacacatttaagaagtaggtgtgtggccttttcagaaggtggcatggtcctcaagtgagttcttagtattttatatcagcaaaataattcaattttgcaggttgcaaacaaatataaaacctgtttctgtttatgaatattattcttttagaatagaataagtacatgctgctgtaataaaattgcctttaatcacttaacaagcctaaccttgactcaaacagtgaatgcctatagaaataataaatgaaaaaaactagtatttttatatcataaaacaatgtcatttatagcttatcattcatgtattgtccagcagacattaaaagccctgtggataattaagttatcttcatacctgcaaaatggtggaggctattttcattaaaactgtcagaatttgcttactataattatgatacagtccaaagaatgcagtcactttttatcatgttaactaattgttctcttttgaagatctatggttgactaattaaacaataattcaagtagagtgtcccagaaaaaaaccacttgggctccctgtttggagtctggctggctctgagcattgccaatggcccctactcacctgactttgtatcctctccttttagaggctttgcattctgcacccagcttcactaacagtgggctgaaaacatccttgggttgagtgtttcatttgggagttatttggccagggccttttgaacagtagtgtccccatgaagtgctagataatatatgtgtaagagtcagctttttttttttttttaactctaacacccttcagaaatttctaactactttgtaactgcatggcttaacctggtgataaaagcagttattaaaagtctacgttttccaaaacttacgtttcttttctgtgtttttacatgtggtagtttctcttttcataagttataatactgcaattggatttctgaaatgtttatagcgaccacctgtataacatttccttccactttattgtgagctgcccagattttattcttgaattgttttttttttttttgttcggtgctttacacgttcagagaaacttcccgagtaacgaactatagaaatgatccctgaaagcatagtctttattctcgaattattttgtattttattaaataatatgaacagct',\n",
       " 'IARS2': 'tattaacagctcactcgagcaagaaccctcctgacagtactggctagaagtttggatggattatttacaatataggaaagaaagccaagatttaggtaatgagtggatgagtaaatggtggaggatgggagtcaaaatcagaattatagaagaagtatttcctgtaactatagaaagaattatgtatatatacatgcagaaatatatatgtgtgtgtgtatctgtggatggatatatgtatatctcttcctatatatatccatagtggacttattcagaacatagatatgtattcagcttgtcttcaaatacggccaagcagaaaatgttttatattttataaatcatcttttgactctgtatttaaattctatgatactgaaaataaaggcattctggaaaaata',\n",
       " 'KIAA0391': 'agattcttacctctatgctaagtttgtgtttgggtaccctctaggttggcatcagaggctcttgagctggtgtttgtttagggcattgcctctgtcctgaagataaaaggattctattaacagcattgacattgattttttaatgaaatgagatatatcttttcataaccagctgcgtttttttcccctaacatttgtttttggaggcttatcaagagttggagaacttagtgtagagcaaaacctgcatttctcctactgggccagctattccacttagcttgggtgactaatagtgcttttggtatccattttttgctacttctgaccttgccttccaggcctaccaatagcagaatcaatccatctgtccctgagatactcatgttgtttcaaatgcctcctcccatttctggcatagtctcattctctgtatgttatgccctatccacatggaatcatttatcgtcctctgtaataaactggccaagatactaaaggcttactattca',\n",
       " 'LETM1': 'aaccactggcctgggcacctgtcctcctgctgtgccgtcaccctggcaagggccgtgagggcgattgctttgtggtgattctcagtggctcatctaatattttggctggaataaatcagagacttccataatcaagtaaattttaattttcatcattccacggagattcagtctgtctggaatcccggaacccctccacagaatcgtgtctggatccacactgtggtgtggctgccacggcctcctggctccagaggcagctgggctgggccaaggcaggaaggcgcccccatgtgtgtggcctcagtctcagcatctgactgtgctgccctgtccccagggaagagaatgaggaccacgtggactccgcccacacagagctggctgctgtgcccaccctcaggggcgtcaggagacacagcctggcctcctcagggctgaagatgcctccattcgcctgtggaccttgatttctagatttcagtgtcaatagacctgtcttcctgcacactttcagttggatgtgggtcattgtggagacagaggtgtctgccatctctgtggcctctggagagtgacgtctccctgctgggagtgctggttctcacgtgcggtttcccttgtgtatcggagctctttctcggctttctatttcccccagttctttaagcagtcaattggcacagagtttcccacgggggctgcagtggattcactgtgtcagggatgagcctggcttgggggttggtggggctctgaagcgcatttggggttctttgtagcttctaatgtgaggtttgagtccagtgcgcccacagcagcatgcccttctcaccccttgcagtgttgcaggctcaggcccctgggctccttcagcaagcaggctagtcaatgaggcatgaggatccggcacagggcatcccctggggcttcaagggcaatacccccgtgcttagggtttgccctgtgccctctgggtggggtggcctccccgcactcggcagcatggccaggctggccagggcgtgggcaggtggtgtcctgtggcacctccatcctcctgcccagccggctgtgtcacactcatctttttaaggtcaggttggttcctggcaaaaatgtacctccaggggcctccaagcataggatttggaagacaggaacggcacaggcgtccaggaaagcagctgcactcagacaatgccttctccattacttgaagcttctttctgttcagccattaaagaaacttgacaaaataggaacaggagatatttctcaattgtaaacctttgtgcagggacagttggcttccagaggctttcagctttcagttatttgagaagtttgttttagatccttaactaatatttatgaattctctcaccctgtgtaagtagcctggtgttcgtttgtccaagtgtacttacccttgagaacaagtcttgcagttgccaggtgtgtgcagacgcctctcctgtgagcggcatcgcgggcccagtcagctgccccggctctcatcctcgtcctcactgccttggctgagcactgttgacgtgaacagccactgcaacaggcagcccatcccactgtcccctctgccctggactccgcatggcctccaaaagccagcttgccctccgggtgctgcaggggctttgcaggtggggaaggctctggtgggtgcctttggtggcttccgtgacatcagccgtgctctgatgcaggcttgctccctcgtcattctccctcgtcattctccctcatcgttctgtgtgcatttttctctatgtcctgacctttcttcttgcacctaaaagtggtgtctgggtgcaaatgtaagcagtggtggatccagaaatatgagctttgtgtaataagcttcttaaaacagtcctttcttacacctgcccagggccagaccctcggtcttggcctttttcaggagctaggatatctgcgcctggtgaaaatgaaacgaattcctgatttaggaattcagtgtttcctcctcactccagctaagcactcacttttttttttttttttttttttttttgatacagagtctcgctctgtcacccaggctggagtgcagtggtgcgatctcggctcactgcaagctccacctcccgggttcaagcgattcttctgcctcagcctcctgagtaattgggattacaggcatgcgccaccatgcccagctaatttttttttttttttttgagacagagtcttgctctgtctcccaggctggagtgcaatggcgtgatctcggctcactgccagctccgcttcctgggttcacgccattctcctgcctcagcctcccgagtagccaggactacaagcacccgccaccacacctggctaatttttttgtatttttattagagacagtgttttaccgtgttagccaggatggtctcgatctcctgacttcgtgatctactcacctcggcctcccaaagtgctgggattacgggcaagtttttattagagatggggtttcatcatgttggtcaggctggtcttcaactcctgacctcaggtgatccacccgcctcagcctcccaaagtgctgggattacaggcatgagccaccgcgcccggcctgaactctcagttctaacgcagggattcaggaattgggctttcagactccttctgcagtgtcacagtccagactttttttaaatgaaggacaccccgcagtggctcacagtgggtcccagggctagcaggagcgtgctggggagccggctctgtctttgttcgcagtgggtcccggtgctggcaggagtgtgctggtgagccggctctgtctttgtaaatccttcaggggtcctacggctgactccaccggacagcccgtcctgggccgtgttaagcaccttttgtagaaatcgtatttttattaaaacatcaaatctgtgttcctgtaa',\n",
       " 'MDH2': 'gccgctgtgacgggtggccagtttccttaatttatgaaggcatcatgtcactgcaaagccgttgcagataaactttgtattttaatttgctttggtgatgattactgtattgacatcatcatgccttccaaattgtgggtggctctgtgggcgcatcaataaaagccgtccttgattttatttttcaaggtcccttctgtaa',\n",
       " 'MTHFD1L': 'gtggacaaggctctcacaggacccgatgcagactcctgaaacagactactctttgcctttttgctgcagttggagaagaaactgaatttgaaaaatgtctgttatgcaatgctggagacatggtgaaataggccaaagatttcttcttcgttcaagatgaattctgttcacagtggagtatggtgttcggcaaaaggacctccaccaagactgaaagaaactaatttatttctgtttctgtggagtttccattatttctactgcttacactttagaatgtttattttatggggactaagggattaggagtgtgaactaaaaggtaacattttccactctcaagttttctactttgtctttgaactgaaaataaacatggatctagaaaaccaa',\n",
       " 'NDUFAF2': 'atgcattatggtcaaatcttttcatgtatatggatgtgactattttaacaaataaaagaagtgaaaagttatttaccttgta',\n",
       " 'NDUFAF4': 'agaaaatcacagaaatttcctatgtgtactcctcatccctcctgctgtatattttctcattttttgcgtaataaattatgttaattaccaaatatttaatgctctcattgtgagggcatactcttaatatttattgagctccctgacttttcaagattgccatagaatatcttttgttttattttaatttggtttaggcatatttcataagtgcatgtcagcatgactgagcacatctgtacctttattatggtgaaagagttaatttgttattttaggcacatataccaacttttaaattggtcatattaccccttgggaaatgtcctgaatccctcaactgagttttactttccaagttaggtgtttagttcattcttctcatgcgatagtgaaagtaaaagctttcctgacccttaagactgacattttctcgttagggaaagagactcgatagcagggtagactaacagtagttcccaaataaaggcacacaggagaaaatgaatcaatagaatctaattaaaattactactccagggaataagaagtattgaggatttattttattttgaattggttttaagtatggaataattgtctttacagttataaaaagtaattagtggtgtttacaaaatgttgggaatttctgctttgacagataggtaagtcccatgggaatttctgctttgacaaatagttaagtcccatggccttcagagaggcaggaagcagaaactttcaaaaaagtaacatttctctggatttaatgtggaaatagagaaaaatttaaagaataattaaaaaaccatggtagatgaaatttggtgattacatatagtttcggatgttaatgctagttgagagaagagaaaaagatagcaagtagaagcagagaacaggatcattggaagggacctgagaaattgccatttcatccattttagcaaatttaattagcatagcatgtaccagtactaggatcttgagtgagtgtgtgagtttagctctgcctaatatattactacttgggggatctttgggagactatatcttcttggagattgagtttcttctataaaataagcataatgctaccctaaatgtaagggttatcatgaagataaataataaaggactacaaaggaccaagcaaataggaattattttttgcggtggagaaacaagtgcctggggagaatatatgaccgaagattctgtagtttatgacttaaacaggcccagaatttagtttttcaaatcctagtagtgtgttttttctgtcttgccaaaaagcagcacacctcaaagaagggaaaaggtgtgaattgtgggtatattagggttattagtgcttccgagggaagataggcatcactacttcccagagatgcccctggaaatgatatagaggatgttgaagaattcaatgtgatgacggaatgaggcatttgtagtaatgctgagaacagaaaaatggactaagtggaaaatttgtaagcatgactttgaatgtagatttgttatgtgaacaaactacctagtttatttttagttcaatacaataattgttttaagaaaacatgaaataactactcaatataaaatgcattttaaaactgtaaataagtcaaaactttattctttttatcataatggtcactagctgagtcacaaatactagtacactcttctgagccatcttctttattcatatctacattgtgtggttaggcatctgttatgtggtgtcacatgataaaataaagaacttcttcccataccattca',\n",
       " 'NDUFV3': 'gggccctcggtgtgaagatgaaccttccaccgtcttcactgcatcctggagtgcaaaaataaaatccactcaagagtcacaaggcccgctgtgcataatcggtttcacttttacctttttttttttttttttttttttgagacagggtctcactctgtcacccaggctggagtgcagtggcacattctcggctcactgcaacttccgcctcctgggttcaagtgattctcccacctcagcctcccaagtaggtgggattacaggtactcaccaccaggtccagctaacttttgtatttttagtagagacagggtttcaccatgttggccaggctggtctcgaactcctgacctcagatggtctgcccacctccgcctcccaaagtgctgggattacaggcgtgagccactgcgcccggccactttcacactttttacagtgagtggtgaattagcaacagtaacactgattatccaacatatattttggaatatctactatgtgcaaggaatttttcttaaactctaaggttatgaatcactgggcaaatccatataattagagaattttaagtgctttagagcggtgtgattctactgtgctcagcctagtcaatttcgcattaaactgattatcagctga',\n",
       " 'OAT': 'gggtagccagctgttttcagtggtccctgggagccagctggagacaggtggtcctgtaaaagctttattcctaatgtgggcacattccactcccatgagtcttcaaaaactttttttttgaatatatttttttcagttgatacataatagaacaacgtttatgaacctgccgtttgctttgtaacgtaactaaataatgtaatggcatctatattcagttgaagtgttttgatgtgcatgtgtacttcctaaggtgaaatgcatctatatacagacagcctctaaatcaagtccttcagtataattgatatatgtttttataatttcctcactggtataagtgtttcatatttgaaaaagttatctctgggtattgcataaaaggcttcatcttataaagtgaaatcattgttattgaattttaggaaggattaatggttaagtgtatataaaatactaatattaagtaaacttcatattggccaacaccagggttgtattctatggatgtcattattttgaattaagaattagtgtttaacattcctaaattgttttgagtgcttgattataatttgtaaaaaatgtttattttcaatacttctttaaatttaaaataaagcttatatttcaaatgtc',\n",
       " 'PPIF': 'tctgtggccagggtgctggcatggtggcagctgcaaatgtccatgcacccaggtggccgcgttgggctgtcagccaaggtgcctgaaacgatacgtgtgcccactccactgtcacagtgtgcctgaggaaggctgctagggatgttagacctcggccaggacccaccacattgcttcctaatacccacccttcctcacgacctcatttctgggcatctttgtggacatgatgtcacccaccccttgtcaagcattgcctgtgattgcccagcccagattcatctgtgccttggacatggtgatggtgatgggttgccatccaagtgaaagtcttttccttgaccaagggggacagtcagttttgcaaaaggactctaatacctgtttaatattgtcttcctaattgggataatttaattaacaagattgactagaagtgaaactgcaacactaacttccccgtgctgtggtgtgacctgagttggtgacacaggccacagaccccagagcttggcttttgaaacacaactcagggcttttgtgaaggttcccccgctgagatctttcctcctggttactgtgaagcctgttggtttgctgctgtcgtttttgaggagggcccatgggggtaggagcagttgaacctgggaacaaacctcacttgagctgtgcctagacaatgtgaattcctgtgttgctaacagaagtggcctgtaagctcctgtgctccggagggaagcatttcctggtaggctttgatttttctgtgtgttaaagaaattcaatctactcatgatgtgttatgcataaaacatttctggaacatggatttgtgttcaccttaaatgtgaaaataaatcctattttctatggaagactggtacctggtttctggaagaggggtctgtgacttggagctgatctttactgagctcgccgtggcagatgccatgctcaggacgttcatgtggatggtttcatgtcatcgtgctggcaacttgtcctccctgccttagagatgaggctcagacaaacgaccttagcacccatagcctatgccatgagcactggctccaccctgaatcccagctcctccccttagtgaccccaagtctgtttccctcagctgcataaggaggcgatatagtttgaatatttgtccccagccaaatctcatgttgaactgtaatccccagtgctggaggtggggcctgctacgaggtgtttggatcatggggacgggtatttcatggcttggtgctgttttcttgatggtgaattattgcaagatacggtcatttaaaattgtgtggcacctccccctgcccccttcttgctcctgctttcaccatgtgacatgcctgatcccccttcaccttttgccatggtcataagcttcctgaggcctccctggaagctgagcagatgccagcaccatgcttcctgtacatcctgcagaaccataagccaattaaacctttttaataataa',\n",
       " 'SLC30A9': 'gtttgatggaatgaatcacctgggtggggaccttggaaacaagtttgtccgtccactctacaaagtttcctcctctcctacactgaaagactcagtgccatgcagaagccttttttttaagatgaaggaaatattttatgtaaagagcaactcagcaggacacagaactaaaactactacttacatctaacagacacactacaagttgaatcaatttgaaaatcatgtttttatgcttccatagggaacattttggttatttaaattgttcataatgtcccatatttcacctgttcagtgtatactgtactttgcaatcatctttccttttttcacattggtaaaaataagtggcatccataggatcatgatttttaatttgttgcctctgaagatttcactccatcaagatctgccaatcttcaatattctggctaaatcttggtatgtggtttttaaacagtcactccgtttcaaagtctgtctttccttatagaatgtggaaattatttctccataccttgtgattttgacctgagtgctaagagaatcactctccttacctagttatctacaaatgttcattccagaaatgtttagttactgaattgaatgaagacatctcagtacactcttttaggtcatagtagttgccattttgtaaaatttcttttttcttctttgcttttttccccttatttggtttaatttttctaatgttaggagatatagtcctagatatttccatgggccagtgtgatgacttttttttaaatgaggttcagtaccataatgtttatttactggaagataatgcatttataagcattttaaaattctgtaaagtgggttagaaatatttataattttacaggcaggacagcatttgacttttatttaaaaggcggcactacttatgtaaatctgagctgtgggatatttcttgctttaagagagagacagaatctctcactgaaactcatggtcatgattttgtataatatagttcatactgtgtctgtgagtttcttcagttacaaatgggcatttagtatagttatattgactataacatgtaagtaaatagctttctactgaccctaagttatcaaggtggaaaaaaaacatgcaattcagtaattgaaaatgtggtgaaaagctgcagctgtcatcatcaaaacaactcataacatactttaaaatgttcaggtagcagtgagcattgttcatatgagaatggcggctgggtgatctctttgctgaattaatgagttcttaacatgtggacccaactgcctgtgtgagatctgtgtcttaaaacttactggaatggaaatctatgaattattgcaaattgtaatgctggaaacaaaaaataaatccttggttaaagggtttgtaatggtga'}"
      ]
     },
     "execution_count": 36,
     "metadata": {},
     "output_type": "execute_result"
    }
   ],
   "source": [
    "protein_to_sequence = pickle.load( open( \"files/intermediates/proteins_to_sequences.pkl\", \"rb\" ) )\n",
    "first2pairs = {k: protein_to_sequence[k] for k in list(protein_to_sequence)[:20]}\n",
    "first2pairs"
   ]
  }
 ],
 "metadata": {
  "kernelspec": {
   "display_name": "Python 3",
   "language": "python",
   "name": "python3"
  },
  "language_info": {
   "codemirror_mode": {
    "name": "ipython",
    "version": 3
   },
   "file_extension": ".py",
   "mimetype": "text/x-python",
   "name": "python",
   "nbconvert_exporter": "python",
   "pygments_lexer": "ipython3",
   "version": "3.6.3"
  }
 },
 "nbformat": 4,
 "nbformat_minor": 2
}
