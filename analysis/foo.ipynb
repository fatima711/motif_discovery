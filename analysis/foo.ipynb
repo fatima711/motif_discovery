{
 "cells": [
  {
   "cell_type": "code",
   "execution_count": 618,
   "metadata": {},
   "outputs": [],
   "source": [
    "from pg import DB\n",
    "db = DB()"
   ]
  },
  {
   "cell_type": "code",
   "execution_count": 619,
   "metadata": {},
   "outputs": [
    {
     "data": {
      "text/plain": [
       "[(64846,)]"
      ]
     },
     "execution_count": 619,
     "metadata": {},
     "output_type": "execute_result"
    }
   ],
   "source": [
    "motifNames_num = db.query(\"SELECT count(*) FROM motifss \").getresult()\n",
    "motifNames_num"
   ]
  },
  {
   "cell_type": "code",
   "execution_count": 620,
   "metadata": {},
   "outputs": [
    {
     "data": {
      "text/plain": [
       "64846"
      ]
     },
     "execution_count": 620,
     "metadata": {},
     "output_type": "execute_result"
    }
   ],
   "source": [
    "motifNames_avg_score_num = db.query(\"SELECT average_score FROM motifss where average_score NOTNULL and shuffled_average_score NOTNULL\").ntuples()\n",
    "motifNames_avg_score_num"
   ]
  },
  {
   "cell_type": "code",
   "execution_count": 621,
   "metadata": {},
   "outputs": [
    {
     "data": {
      "text/plain": [
       "36658"
      ]
     },
     "execution_count": 621,
     "metadata": {},
     "output_type": "execute_result"
    }
   ],
   "source": [
    "genes = db.query(\"SELECT ref_id FROM mrnas where shuffled_three_utr NOTNULL\").ntuples()\n",
    "genes\n",
    "# 36658"
   ]
  },
  {
   "cell_type": "code",
   "execution_count": 20,
   "metadata": {},
   "outputs": [
    {
     "data": {
      "text/plain": [
       "[(91671,)]"
      ]
     },
     "execution_count": 20,
     "metadata": {},
     "output_type": "execute_result"
    }
   ],
   "source": [
    "db.query(\"SELECT MAX(LENGTH(shuffled_three_utr)) FROM mrnas;\").getresult()"
   ]
  },
  {
   "cell_type": "code",
   "execution_count": 20,
   "metadata": {},
   "outputs": [
    {
     "data": {
      "text/plain": [
       "[(1381,)]"
      ]
     },
     "execution_count": 20,
     "metadata": {},
     "output_type": "execute_result"
    }
   ],
   "source": [
    "db.query(\"SELECT max(proteins_length) FROM motif\").getresult()"
   ]
  },
  {
   "cell_type": "code",
   "execution_count": 22,
   "metadata": {},
   "outputs": [
    {
     "data": {
      "text/plain": [
       "[(1227,)]"
      ]
     },
     "execution_count": 22,
     "metadata": {},
     "output_type": "execute_result"
    }
   ],
   "source": [
    "db.query(\"SELECT max(shuffled_proteins_length) FROM motif\").getresult()"
   ]
  },
  {
   "cell_type": "code",
   "execution_count": 11,
   "metadata": {},
   "outputs": [
    {
     "data": {
      "text/plain": [
       "0"
      ]
     },
     "execution_count": 11,
     "metadata": {},
     "output_type": "execute_result"
    }
   ],
   "source": [
    "db.query(\"SELECT motif_string FROM motifs where shuffled_subgraph NOTNULL\").ntuples()"
   ]
  },
  {
   "cell_type": "code",
   "execution_count": 301,
   "metadata": {},
   "outputs": [],
   "source": [
    "q = db.query(\"\"\"SELECT *, pg_size_pretty(total_bytes) AS total\n",
    "    , pg_size_pretty(index_bytes) AS INDEX\n",
    "    , pg_size_pretty(toast_bytes) AS toast\n",
    "    , pg_size_pretty(table_bytes) AS TABLE\n",
    "  FROM (\n",
    "  SELECT *, total_bytes-index_bytes-COALESCE(toast_bytes,0) AS table_bytes FROM (\n",
    "      SELECT c.oid,nspname AS table_schema, relname AS TABLE_NAME\n",
    "              , c.reltuples AS row_estimate\n",
    "              , pg_total_relation_size(c.oid) AS total_bytes\n",
    "              , pg_indexes_size(c.oid) AS index_bytes\n",
    "              , pg_total_relation_size(reltoastrelid) AS toast_bytes\n",
    "          FROM pg_class c\n",
    "          LEFT JOIN pg_namespace n ON n.oid = c.relnamespace\n",
    "          WHERE relkind = 'r'\n",
    "  ) a\n",
    ") a; \"\"\")"
   ]
  },
  {
   "cell_type": "code",
   "execution_count": 302,
   "metadata": {},
   "outputs": [
    {
     "data": {
      "text/plain": [
       "(451860,\n",
       " 'public',\n",
       " 'random_samples_average_score',\n",
       " 1711040.0,\n",
       " 77283328,\n",
       " 0,\n",
       " None,\n",
       " 77283328,\n",
       " '74 MB',\n",
       " '0 bytes',\n",
       " None,\n",
       " '74 MB')"
      ]
     },
     "execution_count": 302,
     "metadata": {},
     "output_type": "execute_result"
    }
   ],
   "source": [
    "q.getresult()[8]"
   ]
  },
  {
   "cell_type": "code",
   "execution_count": 622,
   "metadata": {},
   "outputs": [
    {
     "data": {
      "text/plain": [
       "[(168,),\n",
       " (167,),\n",
       " (166,),\n",
       " (165,),\n",
       " (164,),\n",
       " (163,),\n",
       " (162,),\n",
       " (161,),\n",
       " (160,),\n",
       " (159,),\n",
       " (158,),\n",
       " (157,),\n",
       " (156,),\n",
       " (155,),\n",
       " (154,),\n",
       " (153,),\n",
       " (152,),\n",
       " (151,),\n",
       " (150,),\n",
       " (149,),\n",
       " (148,),\n",
       " (147,),\n",
       " (146,),\n",
       " (145,),\n",
       " (144,),\n",
       " (143,),\n",
       " (142,),\n",
       " (141,),\n",
       " (140,),\n",
       " (139,),\n",
       " (138,),\n",
       " (137,),\n",
       " (136,),\n",
       " (135,),\n",
       " (134,),\n",
       " (133,),\n",
       " (132,),\n",
       " (131,),\n",
       " (130,),\n",
       " (129,),\n",
       " (128,),\n",
       " (127,),\n",
       " (126,),\n",
       " (125,),\n",
       " (124,),\n",
       " (123,),\n",
       " (122,),\n",
       " (121,),\n",
       " (120,),\n",
       " (119,),\n",
       " (118,),\n",
       " (117,),\n",
       " (116,),\n",
       " (115,),\n",
       " (114,),\n",
       " (113,),\n",
       " (112,),\n",
       " (111,),\n",
       " (110,),\n",
       " (109,),\n",
       " (108,),\n",
       " (107,),\n",
       " (106,),\n",
       " (105,),\n",
       " (104,),\n",
       " (103,),\n",
       " (102,),\n",
       " (101,),\n",
       " (100,),\n",
       " (99,),\n",
       " (98,),\n",
       " (97,),\n",
       " (96,),\n",
       " (95,),\n",
       " (94,),\n",
       " (93,),\n",
       " (92,),\n",
       " (91,),\n",
       " (90,),\n",
       " (89,),\n",
       " (88,),\n",
       " (87,),\n",
       " (86,),\n",
       " (85,),\n",
       " (84,),\n",
       " (83,),\n",
       " (82,),\n",
       " (81,),\n",
       " (80,),\n",
       " (79,),\n",
       " (78,),\n",
       " (77,),\n",
       " (76,),\n",
       " (75,),\n",
       " (74,),\n",
       " (73,),\n",
       " (72,),\n",
       " (71,),\n",
       " (70,),\n",
       " (69,),\n",
       " (68,),\n",
       " (67,),\n",
       " (66,),\n",
       " (65,),\n",
       " (64,),\n",
       " (63,),\n",
       " (62,),\n",
       " (61,),\n",
       " (60,),\n",
       " (59,),\n",
       " (58,),\n",
       " (57,),\n",
       " (56,),\n",
       " (55,),\n",
       " (54,),\n",
       " (53,),\n",
       " (52,),\n",
       " (51,),\n",
       " (50,),\n",
       " (49,),\n",
       " (48,),\n",
       " (47,),\n",
       " (46,),\n",
       " (45,),\n",
       " (44,),\n",
       " (43,),\n",
       " (42,),\n",
       " (41,),\n",
       " (40,),\n",
       " (39,),\n",
       " (38,),\n",
       " (37,),\n",
       " (36,),\n",
       " (35,),\n",
       " (34,),\n",
       " (33,),\n",
       " (32,),\n",
       " (31,),\n",
       " (30,),\n",
       " (29,),\n",
       " (28,),\n",
       " (27,),\n",
       " (26,),\n",
       " (25,),\n",
       " (24,),\n",
       " (23,),\n",
       " (22,),\n",
       " (21,),\n",
       " (20,),\n",
       " (19,),\n",
       " (18,),\n",
       " (17,),\n",
       " (16,),\n",
       " (15,),\n",
       " (14,),\n",
       " (13,),\n",
       " (12,),\n",
       " (11,),\n",
       " (10,),\n",
       " (9,),\n",
       " (8,),\n",
       " (7,),\n",
       " (6,),\n",
       " (5,),\n",
       " (4,),\n",
       " (3,),\n",
       " (2,)]"
      ]
     },
     "execution_count": 622,
     "metadata": {},
     "output_type": "execute_result"
    }
   ],
   "source": [
    "db.query(\"Select Distinct size from random_samples_average_score order by size desc\").getresult()"
   ]
  },
  {
   "cell_type": "code",
   "execution_count": 623,
   "metadata": {},
   "outputs": [
    {
     "data": {
      "text/plain": [
       "[(1663546,)]"
      ]
     },
     "execution_count": 623,
     "metadata": {},
     "output_type": "execute_result"
    }
   ],
   "source": [
    "db.query(\"Select count(size) from random_samples_average_score\").getresult()"
   ]
  },
  {
   "cell_type": "code",
   "execution_count": 166,
   "metadata": {},
   "outputs": [
    {
     "data": {
      "text/plain": [
       "0"
      ]
     },
     "execution_count": 166,
     "metadata": {},
     "output_type": "execute_result"
    }
   ],
   "source": [
    "size = 10\n",
    "db.query(\"Select count(size) from random_samples_average_score where size = '\" + str(size) +\"'\").getresult()[0][0]"
   ]
  },
  {
   "cell_type": "code",
   "execution_count": 167,
   "metadata": {},
   "outputs": [],
   "source": [
    "sizes_of_protein_sets_in_data_set = db.query(\"SELECT proteins_length FROM motif\").getresult()\n",
    "sizes_of_protein_sets_in_shuffled_data_set = db.query(\"SELECT shuffled_proteins_length FROM motif\").getresult()"
   ]
  },
  {
   "cell_type": "code",
   "execution_count": 168,
   "metadata": {},
   "outputs": [
    {
     "data": {
      "text/html": [
       "<div>\n",
       "<style scoped>\n",
       "    .dataframe tbody tr th:only-of-type {\n",
       "        vertical-align: middle;\n",
       "    }\n",
       "\n",
       "    .dataframe tbody tr th {\n",
       "        vertical-align: top;\n",
       "    }\n",
       "\n",
       "    .dataframe thead th {\n",
       "        text-align: right;\n",
       "    }\n",
       "</style>\n",
       "<table border=\"1\" class=\"dataframe\">\n",
       "  <thead>\n",
       "    <tr style=\"text-align: right;\">\n",
       "      <th></th>\n",
       "      <th>0</th>\n",
       "    </tr>\n",
       "  </thead>\n",
       "  <tbody>\n",
       "    <tr>\n",
       "      <th>count</th>\n",
       "      <td>730.000000</td>\n",
       "    </tr>\n",
       "    <tr>\n",
       "      <th>mean</th>\n",
       "      <td>397.178082</td>\n",
       "    </tr>\n",
       "    <tr>\n",
       "      <th>std</th>\n",
       "      <td>266.739792</td>\n",
       "    </tr>\n",
       "    <tr>\n",
       "      <th>min</th>\n",
       "      <td>2.000000</td>\n",
       "    </tr>\n",
       "    <tr>\n",
       "      <th>25%</th>\n",
       "      <td>184.250000</td>\n",
       "    </tr>\n",
       "    <tr>\n",
       "      <th>50%</th>\n",
       "      <td>366.500000</td>\n",
       "    </tr>\n",
       "    <tr>\n",
       "      <th>75%</th>\n",
       "      <td>552.500000</td>\n",
       "    </tr>\n",
       "    <tr>\n",
       "      <th>max</th>\n",
       "      <td>1381.000000</td>\n",
       "    </tr>\n",
       "  </tbody>\n",
       "</table>\n",
       "</div>"
      ],
      "text/plain": [
       "                 0\n",
       "count   730.000000\n",
       "mean    397.178082\n",
       "std     266.739792\n",
       "min       2.000000\n",
       "25%     184.250000\n",
       "50%     366.500000\n",
       "75%     552.500000\n",
       "max    1381.000000"
      ]
     },
     "execution_count": 168,
     "metadata": {},
     "output_type": "execute_result"
    }
   ],
   "source": [
    "import pandas\n",
    "sizes_of_protein_sets_in_data_set = db.query(\"SELECT proteins_length FROM motif\").getresult()\n",
    "sizes_of_protein_sets_in_shuffled_data_set = db.query(\"SELECT shuffled_proteins_length FROM motif\").getresult()\n",
    "sizes_of_protein_sets_unique = set(sizes_of_protein_sets_in_data_set+sizes_of_protein_sets_in_shuffled_data_set)\n",
    "df = pandas.DataFrame(list(sizes_of_protein_sets_unique))\n",
    "df.describe()#metadata about sizes"
   ]
  },
  {
   "cell_type": "code",
   "execution_count": 229,
   "metadata": {},
   "outputs": [
    {
     "ename": "AttributeError",
     "evalue": "'set' object has no attribute 'sort'",
     "output_type": "error",
     "traceback": [
      "\u001b[0;31m---------------------------------------------------------------------------\u001b[0m",
      "\u001b[0;31mAttributeError\u001b[0m                            Traceback (most recent call last)",
      "\u001b[0;32m<ipython-input-229-df6cfe83fa1b>\u001b[0m in \u001b[0;36m<module>\u001b[0;34m()\u001b[0m\n\u001b[0;32m----> 1\u001b[0;31m \u001b[0msizes_of_protein_sets_unique\u001b[0m\u001b[0;34m.\u001b[0m\u001b[0msort\u001b[0m\u001b[0;34m(\u001b[0m\u001b[0;34m)\u001b[0m\u001b[0;34m\u001b[0m\u001b[0m\n\u001b[0m",
      "\u001b[0;31mAttributeError\u001b[0m: 'set' object has no attribute 'sort'"
     ]
    }
   ],
   "source": [
    "sizes_of_protein_sets_unique.sort()"
   ]
  },
  {
   "cell_type": "code",
   "execution_count": 605,
   "metadata": {},
   "outputs": [
    {
     "data": {
      "text/plain": [
       "[(21299,)]"
      ]
     },
     "execution_count": 605,
     "metadata": {},
     "output_type": "execute_result"
    }
   ],
   "source": [
    "db.query(\"SELECT count(shuffled_p_value) FROM motif where shuffled_p_value NOTNULL\").getresult()\n"
   ]
  },
  {
   "cell_type": "code",
   "execution_count": 572,
   "metadata": {},
   "outputs": [
    {
     "data": {
      "text/plain": [
       "[(77,)]"
      ]
     },
     "execution_count": 572,
     "metadata": {},
     "output_type": "execute_result"
    }
   ],
   "source": [
    "db.query(\"SELECT count(p_value) FROM motifss where p_value NOTNULL\").getresult()\n",
    "\n"
   ]
  },
  {
   "cell_type": "code",
   "execution_count": 321,
   "metadata": {},
   "outputs": [
    {
     "data": {
      "text/plain": [
       "[(101,)]"
      ]
     },
     "execution_count": 321,
     "metadata": {},
     "output_type": "execute_result"
    }
   ],
   "source": [
    "db.query(\"SELECT count(tt_average_score) FROM motif where tt_average_score NOTNULL\").getresult()"
   ]
  },
  {
   "cell_type": "code",
   "execution_count": 379,
   "metadata": {},
   "outputs": [
    {
     "data": {
      "text/plain": [
       "('cagtcgga', 0.0002)"
      ]
     },
     "execution_count": 379,
     "metadata": {},
     "output_type": "execute_result"
    }
   ],
   "source": [
    "min_p = db.query(\"SELECT motif_string , p_value FROM motif where p_value > 0 order by p_value \").getresult()\n",
    "min_p_shuffle = db.query(\"SELECT motif_string, shuffled_p_value FROM motif where shuffled_p_value >0 order by shuffled_p_value\").getresult()\n",
    "min_p[0]\n"
   ]
  },
  {
   "cell_type": "code",
   "execution_count": 380,
   "metadata": {},
   "outputs": [
    {
     "data": {
      "text/plain": [
       "('gagcgctc', 0.0001)"
      ]
     },
     "execution_count": 380,
     "metadata": {},
     "output_type": "execute_result"
    }
   ],
   "source": [
    "min_p_shuffle[0]"
   ]
  },
  {
   "cell_type": "code",
   "execution_count": 490,
   "metadata": {},
   "outputs": [
    {
     "name": "stdout",
     "output_type": "stream",
     "text": [
      "(85, 0.0529100836927)\n"
     ]
    }
   ],
   "source": [
    "min_score_samples = db.query(\"SELECT size , average_score FROM random_samples_average_score where size = '85' order by average_score DESC\").getresult()\n",
    "print(min_score_samples[10])\n",
    "# print(min_score_samples[200])\n",
    "\n",
    "\n"
   ]
  },
  {
   "cell_type": "code",
   "execution_count": 491,
   "metadata": {},
   "outputs": [
    {
     "data": {
      "text/plain": [
       "[(1,)]"
      ]
     },
     "execution_count": 491,
     "metadata": {},
     "output_type": "execute_result"
    }
   ],
   "source": [
    "p_count = db.query(\"SELECT count(motif_string) FROM motifss where average_score > '0.0529100836927' and proteins_length = 85 \").getresult()\n",
    "p_count\n"
   ]
  },
  {
   "cell_type": "code",
   "execution_count": 492,
   "metadata": {},
   "outputs": [
    {
     "data": {
      "text/plain": [
       "[(5,)]"
      ]
     },
     "execution_count": 492,
     "metadata": {},
     "output_type": "execute_result"
    }
   ],
   "source": [
    "shuff_p_count = db.query(\"SELECT count(motif_string) FROM motif where shuffled_average_score > '0.0529100836927'  and shuffled_proteins_length = 85\").getresult()\n",
    "shuff_p_count\n"
   ]
  },
  {
   "cell_type": "code",
   "execution_count": 483,
   "metadata": {
    "scrolled": false
   },
   "outputs": [
    {
     "data": {
      "text/plain": [
       "[('ggttcatt', 85, 0.0),\n",
       " ('attactcg', 85, 0.0007),\n",
       " ('gagggttg', 85, 0.0006),\n",
       " ('gtttacga', 85, 0.0),\n",
       " ('cgagaggg', 85, 0.0)]"
      ]
     },
     "execution_count": 483,
     "metadata": {},
     "output_type": "execute_result"
    }
   ],
   "source": [
    "shuff_p = db.query(\"SELECT motif_string, shuffled_proteins_length, shuffled_p_value  FROM motif where   shuffled_p_value < 0.001 and shuffled_proteins_length = 85  order by shuffled_proteins_length\").getresult()\n",
    "shuff_p\n"
   ]
  },
  {
   "cell_type": "code",
   "execution_count": 441,
   "metadata": {},
   "outputs": [
    {
     "data": {
      "text/plain": [
       "[('gctaacgc', 7),\n",
       " ('atatacgg', 12),\n",
       " ('cggtcatg', 13),\n",
       " ('cagtcgga', 13),\n",
       " ('cctcggat', 13),\n",
       " ('gggcgaga', 22),\n",
       " ('agccccga', 28),\n",
       " ('cattaggc', 45),\n",
       " ('gtccatat', 55),\n",
       " ('cctaacca', 56),\n",
       " ('atagaggg', 58),\n",
       " ('taactcac', 60),\n",
       " ('gactctcc', 62),\n",
       " ('gctatgca', 69),\n",
       " ('agaccagt', 82),\n",
       " ('gtttagct', 85),\n",
       " ('ttcatgac', 98)]"
      ]
     },
     "execution_count": 441,
     "metadata": {},
     "output_type": "execute_result"
    }
   ],
   "source": [
    "p = db.query(\"SELECT motif_string, proteins_length FROM motif where p_value < 0.001 order by proteins_length\").getresult()\n",
    "p"
   ]
  },
  {
   "cell_type": "code",
   "execution_count": 506,
   "metadata": {},
   "outputs": [
    {
     "data": {
      "text/plain": [
       "(3177,)"
      ]
     },
     "execution_count": 506,
     "metadata": {},
     "output_type": "execute_result"
    }
   ],
   "source": [
    "db.query(\"SELECT count(*) FROM motifss \").getresult()[0]\n"
   ]
  },
  {
   "cell_type": "code",
   "execution_count": 580,
   "metadata": {},
   "outputs": [],
   "source": [
    "p_lengths_to_score = db.query(\"SELECT proteins_length, tt_average_score FROM motifss \").getresult()\n",
    "shuffled_p_lengths_to_score = db.query(\"SELECT shuffled_proteins_length, tt_shuffled_average_score FROM motifss \").getresult()\n",
    "smaples_p_lengths_to_score = db.query(\"SELECT size, tt_average_score FROM random_samples_average_score \").getresult()\n",
    "\n",
    "\n",
    "df_lenghts_to_score = pandas.DataFrame(p_lengths_to_score)\n",
    "df_lenghts_to_score.columns = [\"lengths\", \"score\"]\n",
    "\n",
    "df_shuffled_lenghts_to_score = pandas.DataFrame(shuffled_p_lengths_to_score)\n",
    "df_shuffled_lenghts_to_score.columns = [\"lengths\", \"score\"]\n",
    "\n",
    "df_samples_lenghts_to_score = pandas.DataFrame(smaples_p_lengths_to_score)\n",
    "df_samples_lenghts_to_score.columns = [\"lengths\", \"score\"]"
   ]
  },
  {
   "cell_type": "code",
   "execution_count": 582,
   "metadata": {},
   "outputs": [
    {
     "data": {
      "image/png": "[encoded data removed]",
      "text/plain": [
       "<matplotlib.figure.Figure at 0x113712b38>"
      ]
     },
     "metadata": {},
     "output_type": "display_data"
    }
   ],
   "source": [
    "import seaborn as sns\n",
    "\n",
    "sns.pairplot(df_lenghts_to_score.dropna());"
   ]
  },
  {
   "cell_type": "code",
   "execution_count": null,
   "metadata": {},
   "outputs": [],
   "source": []
  }
 ],
 "metadata": {
  "kernelspec": {
   "display_name": "Python 3",
   "language": "python",
   "name": "python3"
  },
  "language_info": {
   "codemirror_mode": {
    "name": "ipython",
    "version": 3
   },
   "file_extension": ".py",
   "mimetype": "text/x-python",
   "name": "python",
   "nbconvert_exporter": "python",
   "pygments_lexer": "ipython3",
   "version": "3.6.3"
  }
 },
 "nbformat": 4,
 "nbformat_minor": 2
}
