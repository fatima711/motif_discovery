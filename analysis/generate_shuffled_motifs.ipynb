{
 "cells": [
  {
   "cell_type": "markdown",
   "metadata": {},
   "source": [
    "The process of making shuffled motifs can be made in the same time as the normal motifs but since I already did the prior instead of repeating the process i make code just to the shuffled"
   ]
  },
  {
   "cell_type": "code",
   "execution_count": 1,
   "metadata": {},
   "outputs": [],
   "source": [
    "import pickle\n",
    "import random\n",
    "import pandas\n",
    "import pickle\n",
    "import itertools\n",
    "import re\n",
    "from pg import DB\n",
    "db = DB()"
   ]
  },
  {
   "cell_type": "code",
   "execution_count": 4,
   "metadata": {},
   "outputs": [],
   "source": [
    "n=8\n",
    "fileName = \"files/intermediates/motifs_to_proteins_shuffled_4_to_\" + str(n) + \".pkl\"\n",
    "motifs_to_proteins_shuffled = pickle.load( open( fileName, \"rb\" ) )\n",
    "distanceMatrix_df = pandas.read_pickle(open( \"files/intermediates/distanceMatrix.pkl\", \"rb\" ))"
   ]
  },
  {
   "cell_type": "code",
   "execution_count": 5,
   "metadata": {},
   "outputs": [
    {
     "data": {
      "text/plain": [
       "65536"
      ]
     },
     "execution_count": 5,
     "metadata": {},
     "output_type": "execute_result"
    }
   ],
   "source": [
    "len(motifs_to_proteins_shuffled)"
   ]
  },
  {
   "cell_type": "code",
   "execution_count": 20,
   "metadata": {},
   "outputs": [
    {
     "data": {
      "text/plain": [
       "count    65536.000000\n",
       "mean        84.278366\n",
       "std         59.906043\n",
       "min         16.000000\n",
       "25%         51.000000\n",
       "50%         66.000000\n",
       "75%         95.000000\n",
       "max       1227.000000\n",
       "dtype: float64"
      ]
     },
     "execution_count": 20,
     "metadata": {},
     "output_type": "execute_result"
    }
   ],
   "source": [
    "len(motifs_to_proteins_shuffled)\n",
    "# motifs_to_proteins_series = pandas.Series(motifs_to_proteins)\n",
    "lengths = []\n",
    "for motif in motifs_to_proteins_shuffled:\n",
    "    if( len(motifs_to_proteins_shuffled[motif]) >4):\n",
    "        lengths.append(len(motifs_to_proteins_shuffled[motif]))\n",
    "lengths_series = pandas.Series(lengths)\n",
    "lengths_series.describe()"
   ]
  },
  {
   "cell_type": "code",
   "execution_count": 23,
   "metadata": {},
   "outputs": [],
   "source": [
    "db.query(\"ALTER TABLE motifs ADD COLUMN shuffled_proteins VARCHAR[];\")"
   ]
  },
  {
   "cell_type": "code",
   "execution_count": 31,
   "metadata": {},
   "outputs": [
    {
     "ename": "ProgrammingError",
     "evalue": "ERROR:  syntax error at or near \"QRSL1\"\nLINE 1: UPDATE motifs SET shuffled_proteins = '['QRSL1', 'GTPBP10', ...\n                                                 ^\n",
     "output_type": "error",
     "traceback": [
      "\u001b[0;31m---------------------------------------------------------------------------\u001b[0m",
      "\u001b[0;31mProgrammingError\u001b[0m                          Traceback (most recent call last)",
      "\u001b[0;32m<ipython-input-31-d25c01019e0d>\u001b[0m in \u001b[0;36m<module>\u001b[0;34m()\u001b[0m\n\u001b[1;32m     12\u001b[0m                   \u001b[0mrow\u001b[0m\u001b[0;34m.\u001b[0m\u001b[0mappend\u001b[0m\u001b[0;34m(\u001b[0m\u001b[0mdistanceMatrix_df\u001b[0m\u001b[0;34m[\u001b[0m\u001b[0mprotein_i\u001b[0m\u001b[0;34m]\u001b[0m\u001b[0;34m[\u001b[0m\u001b[0mprotein_j\u001b[0m\u001b[0;34m]\u001b[0m\u001b[0;34m)\u001b[0m\u001b[0;34m\u001b[0m\u001b[0m\n\u001b[1;32m     13\u001b[0m         \u001b[0mmotif_to_shuffled_subgraphs\u001b[0m\u001b[0;34m.\u001b[0m\u001b[0mappend\u001b[0m\u001b[0;34m(\u001b[0m\u001b[0mrow\u001b[0m\u001b[0;34m)\u001b[0m\u001b[0;34m\u001b[0m\u001b[0m\n\u001b[0;32m---> 14\u001b[0;31m     \u001b[0mdo_not_print\u001b[0m \u001b[0;34m=\u001b[0m \u001b[0mdb\u001b[0m\u001b[0;34m.\u001b[0m\u001b[0mquery\u001b[0m\u001b[0;34m(\u001b[0m\u001b[0;34m\"UPDATE motifs SET shuffled_proteins = '\"\u001b[0m \u001b[0;34m+\u001b[0m \u001b[0mstr\u001b[0m\u001b[0;34m(\u001b[0m\u001b[0mshuffled_proteins\u001b[0m\u001b[0;34m)\u001b[0m \u001b[0;34m+\u001b[0m \u001b[0;34m\"' , shuffled_proteins_length = '\"\u001b[0m \u001b[0;34m+\u001b[0m \u001b[0mstr\u001b[0m\u001b[0;34m(\u001b[0m\u001b[0mlen\u001b[0m\u001b[0;34m(\u001b[0m\u001b[0mshuffled_proteins\u001b[0m\u001b[0;34m)\u001b[0m\u001b[0;34m)\u001b[0m \u001b[0;34m+\u001b[0m \u001b[0;34m\"', shuffled_subgraph = '\"\u001b[0m \u001b[0;34m+\u001b[0m \u001b[0mstr\u001b[0m\u001b[0;34m(\u001b[0m\u001b[0mmotif_to_shuffled_subgraphs\u001b[0m\u001b[0;34m)\u001b[0m \u001b[0;34m+\u001b[0m  \u001b[0;34m\"' WHERE motif_string = '\"\u001b[0m \u001b[0;34m+\u001b[0m \u001b[0mmotif\u001b[0m \u001b[0;34m+\u001b[0m \u001b[0;34m\"';\"\u001b[0m\u001b[0;34m)\u001b[0m\u001b[0;34m\u001b[0m\u001b[0m\n\u001b[0m\u001b[1;32m     15\u001b[0m \u001b[0;34m\u001b[0m\u001b[0m\n",
      "\u001b[0;32m~/.pyenv/versions/3.6.3/lib/python3.6/site-packages/pg.py\u001b[0m in \u001b[0;36mquery\u001b[0;34m(self, command, *args)\u001b[0m\n\u001b[1;32m   1852\u001b[0m             \u001b[0;32mreturn\u001b[0m \u001b[0mself\u001b[0m\u001b[0;34m.\u001b[0m\u001b[0mdb\u001b[0m\u001b[0;34m.\u001b[0m\u001b[0mquery\u001b[0m\u001b[0;34m(\u001b[0m\u001b[0mcommand\u001b[0m\u001b[0;34m,\u001b[0m \u001b[0margs\u001b[0m\u001b[0;34m)\u001b[0m\u001b[0;34m\u001b[0m\u001b[0m\n\u001b[1;32m   1853\u001b[0m         \u001b[0mself\u001b[0m\u001b[0;34m.\u001b[0m\u001b[0m_do_debug\u001b[0m\u001b[0;34m(\u001b[0m\u001b[0mcommand\u001b[0m\u001b[0;34m)\u001b[0m\u001b[0;34m\u001b[0m\u001b[0m\n\u001b[0;32m-> 1854\u001b[0;31m         \u001b[0;32mreturn\u001b[0m \u001b[0mself\u001b[0m\u001b[0;34m.\u001b[0m\u001b[0mdb\u001b[0m\u001b[0;34m.\u001b[0m\u001b[0mquery\u001b[0m\u001b[0;34m(\u001b[0m\u001b[0mcommand\u001b[0m\u001b[0;34m)\u001b[0m\u001b[0;34m\u001b[0m\u001b[0m\n\u001b[0m\u001b[1;32m   1855\u001b[0m \u001b[0;34m\u001b[0m\u001b[0m\n\u001b[1;32m   1856\u001b[0m     def query_formatted(self, command,\n",
      "\u001b[0;31mProgrammingError\u001b[0m: ERROR:  syntax error at or near \"QRSL1\"\nLINE 1: UPDATE motifs SET shuffled_proteins = '['QRSL1', 'GTPBP10', ...\n                                                 ^\n"
     ]
    },
    {
     "name": "stdout",
     "output_type": "stream",
     "text": [
      "CPU times: user 10.4 s, sys: 150 ms, total: 10.6 s\n",
      "Wall time: 10.7 s\n"
     ]
    }
   ],
   "source": [
    "%%time\n",
    "%%capture\n",
    "for motif in motifs_to_proteins_shuffled:\n",
    "    if(db.query(\"SELECT motif_string FROM motifs where motif_string = '\" + motif + \"' and shuffled_subgraph NOTNULL\").ntuples() > 0):\n",
    "        continue\n",
    "    if( len(motifs_to_proteins_shuffled[motif]) < 2):\n",
    "        continue\n",
    "    shuffled_proteins = motifs_to_proteins_shuffled[motif]\n",
    "    motif_to_shuffled_subgraphs = [];\n",
    "    for protein_i in shuffled_proteins:\n",
    "        row = []\n",
    "        for protein_j in shuffled_proteins:\n",
    "            if(protein_i != protein_j):\n",
    "                  row.append(distanceMatrix_df[protein_i][protein_j])\n",
    "        motif_to_shuffled_subgraphs.append(row)\n",
    "    do_not_print = db.query(\"UPDATE motifs SET shuffled_proteins = '\" + str(shuffled_proteins) + \"' , shuffled_proteins_length = '\" + str(len(shuffled_proteins)) + \"', shuffled_subgraph = '\" + str(motif_to_shuffled_subgraphs) +  \"' WHERE motif_string = '\" + motif + \"';\")\n",
    "    "
   ]
  },
  {
   "cell_type": "code",
   "execution_count": null,
   "metadata": {},
   "outputs": [],
   "source": []
  },
  {
   "cell_type": "code",
   "execution_count": null,
   "metadata": {},
   "outputs": [],
   "source": []
  }
 ],
 "metadata": {
  "kernelspec": {
   "display_name": "Python 3",
   "language": "python",
   "name": "python3"
  },
  "language_info": {
   "codemirror_mode": {
    "name": "ipython",
    "version": 3
   },
   "file_extension": ".py",
   "mimetype": "text/x-python",
   "name": "python",
   "nbconvert_exporter": "python",
   "pygments_lexer": "ipython3",
   "version": "3.6.3"
  }
 },
 "nbformat": 4,
 "nbformat_minor": 2
}
