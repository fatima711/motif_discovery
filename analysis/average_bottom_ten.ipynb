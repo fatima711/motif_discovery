{
 "cells": [
  {
   "cell_type": "code",
   "execution_count": 1,
   "metadata": {},
   "outputs": [],
   "source": [
    "import pandas\n",
    "import pickle\n",
    "import itertools\n",
    "import re\n",
    "import math\n",
    "import numpy\n",
    "from pg import DB\n",
    "db = DB()\n",
    "q = db.query(\"SELECT motif_string FROM motif\")"
   ]
  },
  {
   "cell_type": "code",
   "execution_count": 18,
   "metadata": {},
   "outputs": [],
   "source": [
    "db.query(\"ALTER TABLE motif ADD COLUMN bs_average_score float;\")\n",
    "db.query(\"ALTER TABLE motif ADD COLUMN bs_shuffled_average_score float;\")"
   ]
  },
  {
   "cell_type": "code",
   "execution_count": null,
   "metadata": {},
   "outputs": [],
   "source": [
    "%%time\n",
    "i = 0\n",
    "for motif_t in q.getresult():\n",
    "    motif = motif_t[0]\n",
    "    if(db.query(\"SELECT average_score FROM motif where motif_string = '\" + motif +\"' and bs_average_score NOTNULL\").ntuples() > 0):\n",
    "        continue\n",
    "        \n",
    "    q_result = db.query(\"SELECT subgraph,shuffled_subgraph FROM motif where motif_string = '\" + motif + \"'\").getresult()[0]\n",
    "    subgraph = q_result[0]\n",
    "    avg_score = pandas.DataFrame(subgraph).mean().mean()\n",
    "    ninety_p = numpy.percentile(subgraph, 60)\n",
    "    for i, row in enumerate(subgraph):\n",
    "        for j, elem in enumerate(row):\n",
    "            if(elem > math.ceil(ninety_p)):\n",
    "                subgraph[i][j] = None\n",
    "\n",
    "    shuffled_subgraph = q_result[1]\n",
    "    shuffled_avg_score = pandas.DataFrame(shuffled_subgraph).mean().mean()\n",
    "    ninety_p_shuffled = numpy.percentile(shuffled_subgraph, 60)\n",
    "    for i, row in enumerate(shuffled_subgraph):\n",
    "        for j, elem in enumerate(row):\n",
    "            if(elem > math.ceil(ninety_p_shuffled)):\n",
    "                shuffled_subgraph[i][j] = None\n",
    "    \n",
    "    bs_avg_score = pandas.DataFrame(subgraph).mean().mean()\n",
    "    bs_shuffled_avg_score = pandas.DataFrame(shuffled_subgraph).mean().mean()\n",
    "\n",
    "#     print(motif, avg_score, shuffled_avg_score)\n",
    "    do_not_print = db.query(\"UPDATE motif SET bs_average_score = \" + str(bs_avg_score) + \",bs_shuffled_average_score = '\" + str(bs_shuffled_avg_score) + \"'  WHERE motif_string  = '\" + motif + \"'\")\n",
    "#     print(motif, avg_score,bs_avg_score, shuffled_avg_score, bs_shuffled_avg_score)\n",
    "    \n",
    "    "
   ]
  },
  {
   "cell_type": "code",
   "execution_count": null,
   "metadata": {},
   "outputs": [],
   "source": []
  }
 ],
 "metadata": {
  "kernelspec": {
   "display_name": "Python 3",
   "language": "python",
   "name": "python3"
  },
  "language_info": {
   "codemirror_mode": {
    "name": "ipython",
    "version": 3
   },
   "file_extension": ".py",
   "mimetype": "text/x-python",
   "name": "python",
   "nbconvert_exporter": "python",
   "pygments_lexer": "ipython3",
   "version": "3.6.3"
  }
 },
 "nbformat": 4,
 "nbformat_minor": 2
}
