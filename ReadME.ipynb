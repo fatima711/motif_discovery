{
 "cells": [
  {
   "cell_type": "markdown",
   "metadata": {},
   "source": [
    "\n",
    "This repo is started after my honors project was complete. The initial project was written in Java, and did not have conclusive results due to a very high false discovery ratio.\n",
    "\n",
    "I rewrote the entire analysis in python when I had more time.\n",
    "\n",
    "1. It begins in with the preprocess_biological_network_inputs.ipynb file. \n",
    "\n",
    "2. After wards if you have access to a compute cluster using slurm. Run the run_samples and run_motifs files.\n",
    "\n",
    "This will run in the scoring scripts located in the src directory in parallel. \n",
    "\n",
    "Because the scoring is an n^2 algorithm, I allocated the following times for the scoring of samples. \n",
    "\n",
    "\n",
    "| sample sizes  | time allocated in minutes |\n",
    "| ------------- |:------: |\n",
    "|0-50      |        7.5|\n",
    "|50-100    |        30|\n",
    "|100-150   |        67|\n",
    "|150-200   |        120|\n",
    "|200-250   |        187|\n",
    "|250-300   |        270|\n",
    "|300-350   |        367|\n",
    "|350-400   |        480|\n",
    "|400-450   |        607|\n",
    "|450-500   |        750|\n",
    "Total = 0.28 cpu/years\n",
    "\n",
    "Motifs are seperated into 1000 jobs, and their upper bound in size. With those motifs the average subgraph size was 237 and 289 for the shuffled subgraphs. With about 5764 motifs being scored twice per file. I chose to allocated 187.5 minutes per job since it was sufficient for 10000 samples of size up to 250.\n",
    "\n",
    "1000 jobs * 187.5 minutes per job = 0.36 cpu/years.\n",
    "\n",
    "3. Run the p_value_preprocess.ipynb file\n",
    "\n",
    "4. Again if you have access to a compute cluster you can run the run_p_value.sh file to run in parralel 1 job for each size. In this analysis we consider sizes 2 to 500. 10 minutes was more than suffiecient to run a single size on my local machine so I chose to allocate that much time on the cluster per job. This takes approximately 3.5 cpu/days to run.\n",
    "\n",
    "5. Run post_process.ipynb to get all the results from the many files into database tables.\n",
    "\n",
    "6. Run results to analyse the results in different plots and calculate the FDR for the different p-values and plot that.\n",
    "\n",
    "7. Run results_cluster_analysis to cluster results into family of motifs\n"
   ]
  },
  {
   "cell_type": "markdown",
   "metadata": {},
   "source": []
  }
 ],
 "metadata": {
  "kernelspec": {
   "display_name": "Python 3",
   "language": "python",
   "name": "python3"
  },
  "language_info": {
   "codemirror_mode": {
    "name": "ipython",
    "version": 3
   },
   "file_extension": ".py",
   "mimetype": "text/x-python",
   "name": "python",
   "nbconvert_exporter": "python",
   "pygments_lexer": "ipython3",
   "version": "3.6.3"
  }
 },
 "nbformat": 4,
 "nbformat_minor": 2
}
